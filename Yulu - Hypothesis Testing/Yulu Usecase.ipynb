{
 "cells": [
  {
   "cell_type": "code",
   "execution_count": 67,
   "id": "7bcdca9e",
   "metadata": {},
   "outputs": [],
   "source": [
    "import pandas as pd\n",
    "import numpy as np\n",
    "from numpy import nan, NaN,NAN\n",
    "from matplotlib import pyplot as plt\n",
    "import seaborn as sns\n",
    "import warnings\n",
    "import scipy\n",
    "warnings.filterwarnings(\"ignore\")\n",
    "from scipy import stats\n",
    "import statsmodels.api as sm"
   ]
  },
  {
   "cell_type": "code",
   "execution_count": 2,
   "id": "234ca009",
   "metadata": {},
   "outputs": [],
   "source": [
    "yulu=pd.read_csv(\"bike_sharing.txt\")\n"
   ]
  },
  {
   "cell_type": "code",
   "execution_count": 205,
   "id": "e0896937",
   "metadata": {},
   "outputs": [
    {
     "data": {
      "text/html": [
       "<div>\n",
       "<style scoped>\n",
       "    .dataframe tbody tr th:only-of-type {\n",
       "        vertical-align: middle;\n",
       "    }\n",
       "\n",
       "    .dataframe tbody tr th {\n",
       "        vertical-align: top;\n",
       "    }\n",
       "\n",
       "    .dataframe thead th {\n",
       "        text-align: right;\n",
       "    }\n",
       "</style>\n",
       "<table border=\"1\" class=\"dataframe\">\n",
       "  <thead>\n",
       "    <tr style=\"text-align: right;\">\n",
       "      <th></th>\n",
       "      <th>datetime</th>\n",
       "      <th>season</th>\n",
       "      <th>holiday</th>\n",
       "      <th>workingday</th>\n",
       "      <th>weather</th>\n",
       "      <th>temp</th>\n",
       "      <th>atemp</th>\n",
       "      <th>humidity</th>\n",
       "      <th>windspeed</th>\n",
       "      <th>casual</th>\n",
       "      <th>registered</th>\n",
       "      <th>count</th>\n",
       "    </tr>\n",
       "  </thead>\n",
       "  <tbody>\n",
       "    <tr>\n",
       "      <th>0</th>\n",
       "      <td>2011-01-01 00:00:00</td>\n",
       "      <td>1</td>\n",
       "      <td>0</td>\n",
       "      <td>0</td>\n",
       "      <td>1</td>\n",
       "      <td>9.84</td>\n",
       "      <td>14.395</td>\n",
       "      <td>81</td>\n",
       "      <td>0.0</td>\n",
       "      <td>3</td>\n",
       "      <td>13</td>\n",
       "      <td>16</td>\n",
       "    </tr>\n",
       "    <tr>\n",
       "      <th>1</th>\n",
       "      <td>2011-01-01 01:00:00</td>\n",
       "      <td>1</td>\n",
       "      <td>0</td>\n",
       "      <td>0</td>\n",
       "      <td>1</td>\n",
       "      <td>9.02</td>\n",
       "      <td>13.635</td>\n",
       "      <td>80</td>\n",
       "      <td>0.0</td>\n",
       "      <td>8</td>\n",
       "      <td>32</td>\n",
       "      <td>40</td>\n",
       "    </tr>\n",
       "    <tr>\n",
       "      <th>2</th>\n",
       "      <td>2011-01-01 02:00:00</td>\n",
       "      <td>1</td>\n",
       "      <td>0</td>\n",
       "      <td>0</td>\n",
       "      <td>1</td>\n",
       "      <td>9.02</td>\n",
       "      <td>13.635</td>\n",
       "      <td>80</td>\n",
       "      <td>0.0</td>\n",
       "      <td>5</td>\n",
       "      <td>27</td>\n",
       "      <td>32</td>\n",
       "    </tr>\n",
       "    <tr>\n",
       "      <th>3</th>\n",
       "      <td>2011-01-01 03:00:00</td>\n",
       "      <td>1</td>\n",
       "      <td>0</td>\n",
       "      <td>0</td>\n",
       "      <td>1</td>\n",
       "      <td>9.84</td>\n",
       "      <td>14.395</td>\n",
       "      <td>75</td>\n",
       "      <td>0.0</td>\n",
       "      <td>3</td>\n",
       "      <td>10</td>\n",
       "      <td>13</td>\n",
       "    </tr>\n",
       "    <tr>\n",
       "      <th>4</th>\n",
       "      <td>2011-01-01 04:00:00</td>\n",
       "      <td>1</td>\n",
       "      <td>0</td>\n",
       "      <td>0</td>\n",
       "      <td>1</td>\n",
       "      <td>9.84</td>\n",
       "      <td>14.395</td>\n",
       "      <td>75</td>\n",
       "      <td>0.0</td>\n",
       "      <td>0</td>\n",
       "      <td>1</td>\n",
       "      <td>1</td>\n",
       "    </tr>\n",
       "  </tbody>\n",
       "</table>\n",
       "</div>"
      ],
      "text/plain": [
       "              datetime  season  holiday  workingday  weather  temp   atemp  \\\n",
       "0  2011-01-01 00:00:00       1        0           0        1  9.84  14.395   \n",
       "1  2011-01-01 01:00:00       1        0           0        1  9.02  13.635   \n",
       "2  2011-01-01 02:00:00       1        0           0        1  9.02  13.635   \n",
       "3  2011-01-01 03:00:00       1        0           0        1  9.84  14.395   \n",
       "4  2011-01-01 04:00:00       1        0           0        1  9.84  14.395   \n",
       "\n",
       "   humidity  windspeed  casual  registered  count  \n",
       "0        81        0.0       3          13     16  \n",
       "1        80        0.0       8          32     40  \n",
       "2        80        0.0       5          27     32  \n",
       "3        75        0.0       3          10     13  \n",
       "4        75        0.0       0           1      1  "
      ]
     },
     "execution_count": 205,
     "metadata": {},
     "output_type": "execute_result"
    }
   ],
   "source": [
    "df=yulu.copy()\n",
    "df.head(5)"
   ]
  },
  {
   "cell_type": "code",
   "execution_count": 206,
   "id": "7a3e747c",
   "metadata": {},
   "outputs": [
    {
     "data": {
      "text/plain": [
       "(10886, 12)"
      ]
     },
     "execution_count": 206,
     "metadata": {},
     "output_type": "execute_result"
    }
   ],
   "source": [
    "df.shape#The Dataset has 10,886 rows with 12 columns"
   ]
  },
  {
   "cell_type": "code",
   "execution_count": 207,
   "id": "346bd43f",
   "metadata": {},
   "outputs": [
    {
     "name": "stdout",
     "output_type": "stream",
     "text": [
      "<class 'pandas.core.frame.DataFrame'>\n",
      "RangeIndex: 10886 entries, 0 to 10885\n",
      "Data columns (total 12 columns):\n",
      " #   Column      Non-Null Count  Dtype  \n",
      "---  ------      --------------  -----  \n",
      " 0   datetime    10886 non-null  object \n",
      " 1   season      10886 non-null  int64  \n",
      " 2   holiday     10886 non-null  int64  \n",
      " 3   workingday  10886 non-null  int64  \n",
      " 4   weather     10886 non-null  int64  \n",
      " 5   temp        10886 non-null  float64\n",
      " 6   atemp       10886 non-null  float64\n",
      " 7   humidity    10886 non-null  int64  \n",
      " 8   windspeed   10886 non-null  float64\n",
      " 9   casual      10886 non-null  int64  \n",
      " 10  registered  10886 non-null  int64  \n",
      " 11  count       10886 non-null  int64  \n",
      "dtypes: float64(3), int64(8), object(1)\n",
      "memory usage: 1020.7+ KB\n"
     ]
    }
   ],
   "source": [
    "df.info()#There are no missing values in dataset"
   ]
  },
  {
   "cell_type": "code",
   "execution_count": 208,
   "id": "f88549d6",
   "metadata": {},
   "outputs": [
    {
     "data": {
      "text/plain": [
       "datetime      0.0\n",
       "season        0.0\n",
       "holiday       0.0\n",
       "workingday    0.0\n",
       "weather       0.0\n",
       "temp          0.0\n",
       "atemp         0.0\n",
       "humidity      0.0\n",
       "windspeed     0.0\n",
       "casual        0.0\n",
       "registered    0.0\n",
       "count         0.0\n",
       "dtype: float64"
      ]
     },
     "execution_count": 208,
     "metadata": {},
     "output_type": "execute_result"
    }
   ],
   "source": [
    "df.isnull().sum()/len(df)*100"
   ]
  },
  {
   "cell_type": "markdown",
   "id": "0d6de39d",
   "metadata": {},
   "source": [
    "## **Observation-No missing/null values**"
   ]
  },
  {
   "cell_type": "code",
   "execution_count": 7,
   "id": "a4627f0e",
   "metadata": {
    "scrolled": true
   },
   "outputs": [
    {
     "data": {
      "text/html": [
       "<div>\n",
       "<style scoped>\n",
       "    .dataframe tbody tr th:only-of-type {\n",
       "        vertical-align: middle;\n",
       "    }\n",
       "\n",
       "    .dataframe tbody tr th {\n",
       "        vertical-align: top;\n",
       "    }\n",
       "\n",
       "    .dataframe thead th {\n",
       "        text-align: right;\n",
       "    }\n",
       "</style>\n",
       "<table border=\"1\" class=\"dataframe\">\n",
       "  <thead>\n",
       "    <tr style=\"text-align: right;\">\n",
       "      <th></th>\n",
       "      <th>season</th>\n",
       "      <th>holiday</th>\n",
       "      <th>workingday</th>\n",
       "      <th>weather</th>\n",
       "      <th>temp</th>\n",
       "      <th>atemp</th>\n",
       "      <th>humidity</th>\n",
       "      <th>windspeed</th>\n",
       "      <th>casual</th>\n",
       "      <th>registered</th>\n",
       "      <th>count</th>\n",
       "    </tr>\n",
       "  </thead>\n",
       "  <tbody>\n",
       "    <tr>\n",
       "      <th>count</th>\n",
       "      <td>10886.000000</td>\n",
       "      <td>10886.000000</td>\n",
       "      <td>10886.000000</td>\n",
       "      <td>10886.000000</td>\n",
       "      <td>10886.00000</td>\n",
       "      <td>10886.000000</td>\n",
       "      <td>10886.000000</td>\n",
       "      <td>10886.000000</td>\n",
       "      <td>10886.000000</td>\n",
       "      <td>10886.000000</td>\n",
       "      <td>10886.000000</td>\n",
       "    </tr>\n",
       "    <tr>\n",
       "      <th>mean</th>\n",
       "      <td>2.506614</td>\n",
       "      <td>0.028569</td>\n",
       "      <td>0.680875</td>\n",
       "      <td>1.418427</td>\n",
       "      <td>20.23086</td>\n",
       "      <td>23.655084</td>\n",
       "      <td>61.886460</td>\n",
       "      <td>12.799395</td>\n",
       "      <td>36.021955</td>\n",
       "      <td>155.552177</td>\n",
       "      <td>191.574132</td>\n",
       "    </tr>\n",
       "    <tr>\n",
       "      <th>std</th>\n",
       "      <td>1.116174</td>\n",
       "      <td>0.166599</td>\n",
       "      <td>0.466159</td>\n",
       "      <td>0.633839</td>\n",
       "      <td>7.79159</td>\n",
       "      <td>8.474601</td>\n",
       "      <td>19.245033</td>\n",
       "      <td>8.164537</td>\n",
       "      <td>49.960477</td>\n",
       "      <td>151.039033</td>\n",
       "      <td>181.144454</td>\n",
       "    </tr>\n",
       "    <tr>\n",
       "      <th>min</th>\n",
       "      <td>1.000000</td>\n",
       "      <td>0.000000</td>\n",
       "      <td>0.000000</td>\n",
       "      <td>1.000000</td>\n",
       "      <td>0.82000</td>\n",
       "      <td>0.760000</td>\n",
       "      <td>0.000000</td>\n",
       "      <td>0.000000</td>\n",
       "      <td>0.000000</td>\n",
       "      <td>0.000000</td>\n",
       "      <td>1.000000</td>\n",
       "    </tr>\n",
       "    <tr>\n",
       "      <th>25%</th>\n",
       "      <td>2.000000</td>\n",
       "      <td>0.000000</td>\n",
       "      <td>0.000000</td>\n",
       "      <td>1.000000</td>\n",
       "      <td>13.94000</td>\n",
       "      <td>16.665000</td>\n",
       "      <td>47.000000</td>\n",
       "      <td>7.001500</td>\n",
       "      <td>4.000000</td>\n",
       "      <td>36.000000</td>\n",
       "      <td>42.000000</td>\n",
       "    </tr>\n",
       "    <tr>\n",
       "      <th>50%</th>\n",
       "      <td>3.000000</td>\n",
       "      <td>0.000000</td>\n",
       "      <td>1.000000</td>\n",
       "      <td>1.000000</td>\n",
       "      <td>20.50000</td>\n",
       "      <td>24.240000</td>\n",
       "      <td>62.000000</td>\n",
       "      <td>12.998000</td>\n",
       "      <td>17.000000</td>\n",
       "      <td>118.000000</td>\n",
       "      <td>145.000000</td>\n",
       "    </tr>\n",
       "    <tr>\n",
       "      <th>75%</th>\n",
       "      <td>4.000000</td>\n",
       "      <td>0.000000</td>\n",
       "      <td>1.000000</td>\n",
       "      <td>2.000000</td>\n",
       "      <td>26.24000</td>\n",
       "      <td>31.060000</td>\n",
       "      <td>77.000000</td>\n",
       "      <td>16.997900</td>\n",
       "      <td>49.000000</td>\n",
       "      <td>222.000000</td>\n",
       "      <td>284.000000</td>\n",
       "    </tr>\n",
       "    <tr>\n",
       "      <th>max</th>\n",
       "      <td>4.000000</td>\n",
       "      <td>1.000000</td>\n",
       "      <td>1.000000</td>\n",
       "      <td>4.000000</td>\n",
       "      <td>41.00000</td>\n",
       "      <td>45.455000</td>\n",
       "      <td>100.000000</td>\n",
       "      <td>56.996900</td>\n",
       "      <td>367.000000</td>\n",
       "      <td>886.000000</td>\n",
       "      <td>977.000000</td>\n",
       "    </tr>\n",
       "  </tbody>\n",
       "</table>\n",
       "</div>"
      ],
      "text/plain": [
       "             season       holiday    workingday       weather         temp  \\\n",
       "count  10886.000000  10886.000000  10886.000000  10886.000000  10886.00000   \n",
       "mean       2.506614      0.028569      0.680875      1.418427     20.23086   \n",
       "std        1.116174      0.166599      0.466159      0.633839      7.79159   \n",
       "min        1.000000      0.000000      0.000000      1.000000      0.82000   \n",
       "25%        2.000000      0.000000      0.000000      1.000000     13.94000   \n",
       "50%        3.000000      0.000000      1.000000      1.000000     20.50000   \n",
       "75%        4.000000      0.000000      1.000000      2.000000     26.24000   \n",
       "max        4.000000      1.000000      1.000000      4.000000     41.00000   \n",
       "\n",
       "              atemp      humidity     windspeed        casual    registered  \\\n",
       "count  10886.000000  10886.000000  10886.000000  10886.000000  10886.000000   \n",
       "mean      23.655084     61.886460     12.799395     36.021955    155.552177   \n",
       "std        8.474601     19.245033      8.164537     49.960477    151.039033   \n",
       "min        0.760000      0.000000      0.000000      0.000000      0.000000   \n",
       "25%       16.665000     47.000000      7.001500      4.000000     36.000000   \n",
       "50%       24.240000     62.000000     12.998000     17.000000    118.000000   \n",
       "75%       31.060000     77.000000     16.997900     49.000000    222.000000   \n",
       "max       45.455000    100.000000     56.996900    367.000000    886.000000   \n",
       "\n",
       "              count  \n",
       "count  10886.000000  \n",
       "mean     191.574132  \n",
       "std      181.144454  \n",
       "min        1.000000  \n",
       "25%       42.000000  \n",
       "50%      145.000000  \n",
       "75%      284.000000  \n",
       "max      977.000000  "
      ]
     },
     "execution_count": 7,
     "metadata": {},
     "output_type": "execute_result"
    }
   ],
   "source": [
    "df.describe()"
   ]
  },
  {
   "cell_type": "code",
   "execution_count": 8,
   "id": "c4f93f4a",
   "metadata": {
    "scrolled": true
   },
   "outputs": [
    {
     "data": {
      "image/png": "[encoded data removed]",
      "text/plain": [
       "<Figure size 432x288 with 1 Axes>"
      ]
     },
     "metadata": {
      "needs_background": "light"
     },
     "output_type": "display_data"
    }
   ],
   "source": [
    "sns.boxplot(df[\"count\"])\n",
    "plt.title(\"Outlier Detection in Count\")\n",
    "plt.show()"
   ]
  },
  {
   "cell_type": "code",
   "execution_count": 244,
   "id": "1aa1885f",
   "metadata": {},
   "outputs": [
    {
     "data": {
      "text/plain": [
       "<AxesSubplot:xlabel='count', ylabel='Density'>"
      ]
     },
     "execution_count": 244,
     "metadata": {},
     "output_type": "execute_result"
    },
    {
     "data": {
      "image/png": "[encoded data removed]",
      "text/plain": [
       "<Figure size 576x360 with 1 Axes>"
      ]
     },
     "metadata": {
      "needs_background": "light"
     },
     "output_type": "display_data"
    }
   ],
   "source": [
    "sns.distplot(yulu[\"count\"])"
   ]
  },
  {
   "cell_type": "code",
   "execution_count": 9,
   "id": "10dd3849",
   "metadata": {},
   "outputs": [
    {
     "data": {
      "text/plain": [
       "42.0"
      ]
     },
     "execution_count": 9,
     "metadata": {},
     "output_type": "execute_result"
    }
   ],
   "source": [
    "q1=df[\"count\"].quantile(.25)\n",
    "q1"
   ]
  },
  {
   "cell_type": "code",
   "execution_count": 10,
   "id": "869d3321",
   "metadata": {},
   "outputs": [
    {
     "data": {
      "text/plain": [
       "284.0"
      ]
     },
     "execution_count": 10,
     "metadata": {},
     "output_type": "execute_result"
    }
   ],
   "source": [
    "q3=df[\"count\"].quantile(.75)\n",
    "q3"
   ]
  },
  {
   "cell_type": "code",
   "execution_count": 11,
   "id": "e1c820c1",
   "metadata": {},
   "outputs": [
    {
     "data": {
      "text/plain": [
       "363.0"
      ]
     },
     "execution_count": 11,
     "metadata": {},
     "output_type": "execute_result"
    }
   ],
   "source": [
    "iqr=1.5*stats.iqr(df[\"count\"])\n",
    "iqr"
   ]
  },
  {
   "cell_type": "code",
   "execution_count": 209,
   "id": "ac60c095",
   "metadata": {},
   "outputs": [
    {
     "data": {
      "text/html": [
       "<div>\n",
       "<style scoped>\n",
       "    .dataframe tbody tr th:only-of-type {\n",
       "        vertical-align: middle;\n",
       "    }\n",
       "\n",
       "    .dataframe tbody tr th {\n",
       "        vertical-align: top;\n",
       "    }\n",
       "\n",
       "    .dataframe thead th {\n",
       "        text-align: right;\n",
       "    }\n",
       "</style>\n",
       "<table border=\"1\" class=\"dataframe\">\n",
       "  <thead>\n",
       "    <tr style=\"text-align: right;\">\n",
       "      <th></th>\n",
       "      <th>datetime</th>\n",
       "      <th>season</th>\n",
       "      <th>holiday</th>\n",
       "      <th>workingday</th>\n",
       "      <th>weather</th>\n",
       "      <th>temp</th>\n",
       "      <th>atemp</th>\n",
       "      <th>humidity</th>\n",
       "      <th>windspeed</th>\n",
       "      <th>casual</th>\n",
       "      <th>registered</th>\n",
       "      <th>count</th>\n",
       "    </tr>\n",
       "  </thead>\n",
       "  <tbody>\n",
       "    <tr>\n",
       "      <th>6611</th>\n",
       "      <td>2012-03-12 18:00:00</td>\n",
       "      <td>1</td>\n",
       "      <td>0</td>\n",
       "      <td>1</td>\n",
       "      <td>2</td>\n",
       "      <td>24.60</td>\n",
       "      <td>31.060</td>\n",
       "      <td>43</td>\n",
       "      <td>12.9980</td>\n",
       "      <td>89</td>\n",
       "      <td>623</td>\n",
       "      <td>712</td>\n",
       "    </tr>\n",
       "    <tr>\n",
       "      <th>6634</th>\n",
       "      <td>2012-03-13 17:00:00</td>\n",
       "      <td>1</td>\n",
       "      <td>0</td>\n",
       "      <td>1</td>\n",
       "      <td>1</td>\n",
       "      <td>28.70</td>\n",
       "      <td>31.820</td>\n",
       "      <td>37</td>\n",
       "      <td>7.0015</td>\n",
       "      <td>62</td>\n",
       "      <td>614</td>\n",
       "      <td>676</td>\n",
       "    </tr>\n",
       "    <tr>\n",
       "      <th>6635</th>\n",
       "      <td>2012-03-13 18:00:00</td>\n",
       "      <td>1</td>\n",
       "      <td>0</td>\n",
       "      <td>1</td>\n",
       "      <td>1</td>\n",
       "      <td>28.70</td>\n",
       "      <td>31.820</td>\n",
       "      <td>34</td>\n",
       "      <td>19.9995</td>\n",
       "      <td>96</td>\n",
       "      <td>638</td>\n",
       "      <td>734</td>\n",
       "    </tr>\n",
       "    <tr>\n",
       "      <th>6649</th>\n",
       "      <td>2012-03-14 08:00:00</td>\n",
       "      <td>1</td>\n",
       "      <td>0</td>\n",
       "      <td>1</td>\n",
       "      <td>1</td>\n",
       "      <td>18.04</td>\n",
       "      <td>21.970</td>\n",
       "      <td>82</td>\n",
       "      <td>0.0000</td>\n",
       "      <td>34</td>\n",
       "      <td>628</td>\n",
       "      <td>662</td>\n",
       "    </tr>\n",
       "    <tr>\n",
       "      <th>6658</th>\n",
       "      <td>2012-03-14 17:00:00</td>\n",
       "      <td>1</td>\n",
       "      <td>0</td>\n",
       "      <td>1</td>\n",
       "      <td>1</td>\n",
       "      <td>28.70</td>\n",
       "      <td>31.820</td>\n",
       "      <td>28</td>\n",
       "      <td>6.0032</td>\n",
       "      <td>140</td>\n",
       "      <td>642</td>\n",
       "      <td>782</td>\n",
       "    </tr>\n",
       "    <tr>\n",
       "      <th>...</th>\n",
       "      <td>...</td>\n",
       "      <td>...</td>\n",
       "      <td>...</td>\n",
       "      <td>...</td>\n",
       "      <td>...</td>\n",
       "      <td>...</td>\n",
       "      <td>...</td>\n",
       "      <td>...</td>\n",
       "      <td>...</td>\n",
       "      <td>...</td>\n",
       "      <td>...</td>\n",
       "      <td>...</td>\n",
       "    </tr>\n",
       "    <tr>\n",
       "      <th>10678</th>\n",
       "      <td>2012-12-11 08:00:00</td>\n",
       "      <td>4</td>\n",
       "      <td>0</td>\n",
       "      <td>1</td>\n",
       "      <td>2</td>\n",
       "      <td>13.94</td>\n",
       "      <td>15.150</td>\n",
       "      <td>61</td>\n",
       "      <td>19.9995</td>\n",
       "      <td>16</td>\n",
       "      <td>708</td>\n",
       "      <td>724</td>\n",
       "    </tr>\n",
       "    <tr>\n",
       "      <th>10702</th>\n",
       "      <td>2012-12-12 08:00:00</td>\n",
       "      <td>4</td>\n",
       "      <td>0</td>\n",
       "      <td>1</td>\n",
       "      <td>2</td>\n",
       "      <td>10.66</td>\n",
       "      <td>12.880</td>\n",
       "      <td>65</td>\n",
       "      <td>11.0014</td>\n",
       "      <td>18</td>\n",
       "      <td>670</td>\n",
       "      <td>688</td>\n",
       "    </tr>\n",
       "    <tr>\n",
       "      <th>10726</th>\n",
       "      <td>2012-12-13 08:00:00</td>\n",
       "      <td>4</td>\n",
       "      <td>0</td>\n",
       "      <td>1</td>\n",
       "      <td>1</td>\n",
       "      <td>9.84</td>\n",
       "      <td>11.365</td>\n",
       "      <td>60</td>\n",
       "      <td>12.9980</td>\n",
       "      <td>24</td>\n",
       "      <td>655</td>\n",
       "      <td>679</td>\n",
       "    </tr>\n",
       "    <tr>\n",
       "      <th>10846</th>\n",
       "      <td>2012-12-18 08:00:00</td>\n",
       "      <td>4</td>\n",
       "      <td>0</td>\n",
       "      <td>1</td>\n",
       "      <td>1</td>\n",
       "      <td>15.58</td>\n",
       "      <td>19.695</td>\n",
       "      <td>94</td>\n",
       "      <td>0.0000</td>\n",
       "      <td>10</td>\n",
       "      <td>652</td>\n",
       "      <td>662</td>\n",
       "    </tr>\n",
       "    <tr>\n",
       "      <th>10870</th>\n",
       "      <td>2012-12-19 08:00:00</td>\n",
       "      <td>4</td>\n",
       "      <td>0</td>\n",
       "      <td>1</td>\n",
       "      <td>1</td>\n",
       "      <td>9.84</td>\n",
       "      <td>12.880</td>\n",
       "      <td>87</td>\n",
       "      <td>7.0015</td>\n",
       "      <td>13</td>\n",
       "      <td>665</td>\n",
       "      <td>678</td>\n",
       "    </tr>\n",
       "  </tbody>\n",
       "</table>\n",
       "<p>300 rows × 12 columns</p>\n",
       "</div>"
      ],
      "text/plain": [
       "                  datetime  season  holiday  workingday  weather   temp  \\\n",
       "6611   2012-03-12 18:00:00       1        0           1        2  24.60   \n",
       "6634   2012-03-13 17:00:00       1        0           1        1  28.70   \n",
       "6635   2012-03-13 18:00:00       1        0           1        1  28.70   \n",
       "6649   2012-03-14 08:00:00       1        0           1        1  18.04   \n",
       "6658   2012-03-14 17:00:00       1        0           1        1  28.70   \n",
       "...                    ...     ...      ...         ...      ...    ...   \n",
       "10678  2012-12-11 08:00:00       4        0           1        2  13.94   \n",
       "10702  2012-12-12 08:00:00       4        0           1        2  10.66   \n",
       "10726  2012-12-13 08:00:00       4        0           1        1   9.84   \n",
       "10846  2012-12-18 08:00:00       4        0           1        1  15.58   \n",
       "10870  2012-12-19 08:00:00       4        0           1        1   9.84   \n",
       "\n",
       "        atemp  humidity  windspeed  casual  registered  count  \n",
       "6611   31.060        43    12.9980      89         623    712  \n",
       "6634   31.820        37     7.0015      62         614    676  \n",
       "6635   31.820        34    19.9995      96         638    734  \n",
       "6649   21.970        82     0.0000      34         628    662  \n",
       "6658   31.820        28     6.0032     140         642    782  \n",
       "...       ...       ...        ...     ...         ...    ...  \n",
       "10678  15.150        61    19.9995      16         708    724  \n",
       "10702  12.880        65    11.0014      18         670    688  \n",
       "10726  11.365        60    12.9980      24         655    679  \n",
       "10846  19.695        94     0.0000      10         652    662  \n",
       "10870  12.880        87     7.0015      13         665    678  \n",
       "\n",
       "[300 rows x 12 columns]"
      ]
     },
     "execution_count": 209,
     "metadata": {},
     "output_type": "execute_result"
    }
   ],
   "source": [
    "df.loc[(df[\"count\"]<q1-iqr)|(df[\"count\"]>iqr+q3)]"
   ]
  },
  {
   "cell_type": "markdown",
   "id": "371e4839",
   "metadata": {},
   "source": [
    "## **Observation- 2.8% data is outlier hence removing them for EDA**"
   ]
  },
  {
   "cell_type": "code",
   "execution_count": 210,
   "id": "5ad48a8f",
   "metadata": {},
   "outputs": [
    {
     "data": {
      "text/plain": [
       "(10586, 12)"
      ]
     },
     "execution_count": 210,
     "metadata": {},
     "output_type": "execute_result"
    }
   ],
   "source": [
    "#Outlier Removal\n",
    "df=df.loc[(df[\"count\"]>=q1-iqr) & (df[\"count\"]<=q3+iqr)]\n",
    "df.shape"
   ]
  },
  {
   "cell_type": "code",
   "execution_count": 211,
   "id": "fe321bfd",
   "metadata": {},
   "outputs": [
    {
     "data": {
      "text/html": [
       "<div>\n",
       "<style scoped>\n",
       "    .dataframe tbody tr th:only-of-type {\n",
       "        vertical-align: middle;\n",
       "    }\n",
       "\n",
       "    .dataframe tbody tr th {\n",
       "        vertical-align: top;\n",
       "    }\n",
       "\n",
       "    .dataframe thead th {\n",
       "        text-align: right;\n",
       "    }\n",
       "</style>\n",
       "<table border=\"1\" class=\"dataframe\">\n",
       "  <thead>\n",
       "    <tr style=\"text-align: right;\">\n",
       "      <th></th>\n",
       "      <th>season</th>\n",
       "      <th>holiday</th>\n",
       "      <th>workingday</th>\n",
       "      <th>weather</th>\n",
       "      <th>temp</th>\n",
       "      <th>atemp</th>\n",
       "      <th>humidity</th>\n",
       "      <th>windspeed</th>\n",
       "      <th>casual</th>\n",
       "      <th>registered</th>\n",
       "      <th>count</th>\n",
       "    </tr>\n",
       "  </thead>\n",
       "  <tbody>\n",
       "    <tr>\n",
       "      <th>count</th>\n",
       "      <td>10586.000000</td>\n",
       "      <td>10586.000000</td>\n",
       "      <td>10586.000000</td>\n",
       "      <td>10586.000000</td>\n",
       "      <td>10586.000000</td>\n",
       "      <td>10586.000000</td>\n",
       "      <td>10586.000000</td>\n",
       "      <td>10586.000000</td>\n",
       "      <td>10586.000000</td>\n",
       "      <td>10586.000000</td>\n",
       "      <td>10586.000000</td>\n",
       "    </tr>\n",
       "    <tr>\n",
       "      <th>mean</th>\n",
       "      <td>2.498489</td>\n",
       "      <td>0.029189</td>\n",
       "      <td>0.676459</td>\n",
       "      <td>1.422539</td>\n",
       "      <td>20.061494</td>\n",
       "      <td>23.476271</td>\n",
       "      <td>62.165124</td>\n",
       "      <td>12.776699</td>\n",
       "      <td>33.973172</td>\n",
       "      <td>141.743907</td>\n",
       "      <td>175.717079</td>\n",
       "    </tr>\n",
       "    <tr>\n",
       "      <th>std</th>\n",
       "      <td>1.121629</td>\n",
       "      <td>0.168345</td>\n",
       "      <td>0.467849</td>\n",
       "      <td>0.636549</td>\n",
       "      <td>7.781496</td>\n",
       "      <td>8.467852</td>\n",
       "      <td>19.231315</td>\n",
       "      <td>8.173430</td>\n",
       "      <td>46.972642</td>\n",
       "      <td>126.945473</td>\n",
       "      <td>156.360023</td>\n",
       "    </tr>\n",
       "    <tr>\n",
       "      <th>min</th>\n",
       "      <td>1.000000</td>\n",
       "      <td>0.000000</td>\n",
       "      <td>0.000000</td>\n",
       "      <td>1.000000</td>\n",
       "      <td>0.820000</td>\n",
       "      <td>0.760000</td>\n",
       "      <td>0.000000</td>\n",
       "      <td>0.000000</td>\n",
       "      <td>0.000000</td>\n",
       "      <td>0.000000</td>\n",
       "      <td>1.000000</td>\n",
       "    </tr>\n",
       "    <tr>\n",
       "      <th>25%</th>\n",
       "      <td>1.000000</td>\n",
       "      <td>0.000000</td>\n",
       "      <td>0.000000</td>\n",
       "      <td>1.000000</td>\n",
       "      <td>13.940000</td>\n",
       "      <td>16.665000</td>\n",
       "      <td>47.000000</td>\n",
       "      <td>7.001500</td>\n",
       "      <td>4.000000</td>\n",
       "      <td>34.000000</td>\n",
       "      <td>40.000000</td>\n",
       "    </tr>\n",
       "    <tr>\n",
       "      <th>50%</th>\n",
       "      <td>2.000000</td>\n",
       "      <td>0.000000</td>\n",
       "      <td>1.000000</td>\n",
       "      <td>1.000000</td>\n",
       "      <td>20.500000</td>\n",
       "      <td>23.862500</td>\n",
       "      <td>62.000000</td>\n",
       "      <td>12.998000</td>\n",
       "      <td>16.000000</td>\n",
       "      <td>114.000000</td>\n",
       "      <td>138.000000</td>\n",
       "    </tr>\n",
       "    <tr>\n",
       "      <th>75%</th>\n",
       "      <td>4.000000</td>\n",
       "      <td>0.000000</td>\n",
       "      <td>1.000000</td>\n",
       "      <td>2.000000</td>\n",
       "      <td>26.240000</td>\n",
       "      <td>31.060000</td>\n",
       "      <td>78.000000</td>\n",
       "      <td>16.997900</td>\n",
       "      <td>46.000000</td>\n",
       "      <td>211.000000</td>\n",
       "      <td>270.000000</td>\n",
       "    </tr>\n",
       "    <tr>\n",
       "      <th>max</th>\n",
       "      <td>4.000000</td>\n",
       "      <td>1.000000</td>\n",
       "      <td>1.000000</td>\n",
       "      <td>4.000000</td>\n",
       "      <td>41.000000</td>\n",
       "      <td>45.455000</td>\n",
       "      <td>100.000000</td>\n",
       "      <td>56.996900</td>\n",
       "      <td>355.000000</td>\n",
       "      <td>625.000000</td>\n",
       "      <td>647.000000</td>\n",
       "    </tr>\n",
       "  </tbody>\n",
       "</table>\n",
       "</div>"
      ],
      "text/plain": [
       "             season       holiday    workingday       weather          temp  \\\n",
       "count  10586.000000  10586.000000  10586.000000  10586.000000  10586.000000   \n",
       "mean       2.498489      0.029189      0.676459      1.422539     20.061494   \n",
       "std        1.121629      0.168345      0.467849      0.636549      7.781496   \n",
       "min        1.000000      0.000000      0.000000      1.000000      0.820000   \n",
       "25%        1.000000      0.000000      0.000000      1.000000     13.940000   \n",
       "50%        2.000000      0.000000      1.000000      1.000000     20.500000   \n",
       "75%        4.000000      0.000000      1.000000      2.000000     26.240000   \n",
       "max        4.000000      1.000000      1.000000      4.000000     41.000000   \n",
       "\n",
       "              atemp      humidity     windspeed        casual    registered  \\\n",
       "count  10586.000000  10586.000000  10586.000000  10586.000000  10586.000000   \n",
       "mean      23.476271     62.165124     12.776699     33.973172    141.743907   \n",
       "std        8.467852     19.231315      8.173430     46.972642    126.945473   \n",
       "min        0.760000      0.000000      0.000000      0.000000      0.000000   \n",
       "25%       16.665000     47.000000      7.001500      4.000000     34.000000   \n",
       "50%       23.862500     62.000000     12.998000     16.000000    114.000000   \n",
       "75%       31.060000     78.000000     16.997900     46.000000    211.000000   \n",
       "max       45.455000    100.000000     56.996900    355.000000    625.000000   \n",
       "\n",
       "              count  \n",
       "count  10586.000000  \n",
       "mean     175.717079  \n",
       "std      156.360023  \n",
       "min        1.000000  \n",
       "25%       40.000000  \n",
       "50%      138.000000  \n",
       "75%      270.000000  \n",
       "max      647.000000  "
      ]
     },
     "execution_count": 211,
     "metadata": {},
     "output_type": "execute_result"
    }
   ],
   "source": [
    "#Statistical info after Outlier removal in column count\n",
    "df.describe()"
   ]
  },
  {
   "cell_type": "code",
   "execution_count": 218,
   "id": "8835513d",
   "metadata": {},
   "outputs": [],
   "source": [
    "#Categorical value conversions\n",
    "#season\n",
    "df[\"season\"].replace({1:\"Spring\",2:\"Summer\",3:\"Fall\",4:\"Winter\"},inplace=True)\n",
    "df[\"holiday\"].replace({0:\"No\",1:\"Yes\"},inplace=True)\n",
    "df[\"workingday\"].replace({0:\"No\",1:\"Yes\"},inplace=True)"
   ]
  },
  {
   "cell_type": "code",
   "execution_count": 16,
   "id": "03666f12",
   "metadata": {},
   "outputs": [],
   "source": [
    "#Categorising weather into zones \n",
    "\"\"\"Green-1: Clear, Few clouds, partly cloudy, partly cloudy\n",
    "Yellow-2: Mist + Cloudy, Mist + Broken clouds, Mist + Few clouds, Mist\n",
    "Orange-3: Light Snow, Light Rain + Thunderstorm + Scattered clouds, Light Rain + Scattered clouds\n",
    "Red-4: Heavy Rain + Ice Pallets + Thunderstorm + Mist, Snow + Fog\"\"\"\n",
    "df.insert(12,\"Zone\",'')"
   ]
  },
  {
   "cell_type": "code",
   "execution_count": 17,
   "id": "798a712f",
   "metadata": {},
   "outputs": [],
   "source": [
    "df.loc[df[\"weather\"]==1,\"Zone\"]=\"Green\"\n",
    "df.loc[df[\"weather\"]==2,\"Zone\"]=\"Yellow\"\n",
    "df.loc[df[\"weather\"]==3,\"Zone\"]=\"Orange\"\n",
    "df.loc[df[\"weather\"]==4,\"Zone\"]=\"Red\""
   ]
  },
  {
   "cell_type": "code",
   "execution_count": 18,
   "id": "829ad4e1",
   "metadata": {},
   "outputs": [
    {
     "name": "stdout",
     "output_type": "stream",
     "text": [
      "Spring    2670\n",
      "Winter    2665\n",
      "Summer    2634\n",
      "Fall      2617\n",
      "Name: season, dtype: int64\n",
      "--------------------------------------------------\n",
      "No     10277\n",
      "Yes      309\n",
      "Name: holiday, dtype: int64\n",
      "--------------------------------------------------\n",
      "Yes    7161\n",
      "No     3425\n",
      "Name: workingday, dtype: int64\n",
      "--------------------------------------------------\n",
      "Green     6965\n",
      "Yellow    2770\n",
      "Orange     850\n",
      "Red          1\n",
      "Name: Zone, dtype: int64\n",
      "--------------------------------------------------\n"
     ]
    }
   ],
   "source": [
    "#unique value\n",
    "for col in (\"season\",\"holiday\",\"workingday\",\"Zone\"):\n",
    "    print(df[col].value_counts())\n",
    "    print(\"-\"*50)"
   ]
  },
  {
   "cell_type": "code",
   "execution_count": 19,
   "id": "2ce3c205",
   "metadata": {},
   "outputs": [
    {
     "name": "stdout",
     "output_type": "stream",
     "text": [
      "Percent Values\n",
      "**************************************************\n",
      "Spring    25.221991\n",
      "Winter    25.174759\n",
      "Summer    24.881920\n",
      "Fall      24.721330\n",
      "Name: season, dtype: float64\n",
      "--------------------------------------------------\n",
      "No     97.08105\n",
      "Yes     2.91895\n",
      "Name: holiday, dtype: float64\n",
      "--------------------------------------------------\n",
      "Yes    67.645947\n",
      "No     32.354053\n",
      "Name: workingday, dtype: float64\n",
      "--------------------------------------------------\n",
      "Green     65.794445\n",
      "Yellow    26.166635\n",
      "Orange     8.029473\n",
      "Red        0.009446\n",
      "Name: Zone, dtype: float64\n",
      "--------------------------------------------------\n"
     ]
    }
   ],
   "source": [
    "#unique value\n",
    "print(\"Percent Values\")\n",
    "print(\"*\"*50)\n",
    "for col in (\"season\",\"holiday\",\"workingday\",\"Zone\"):\n",
    "    print(df[col].value_counts(normalize=True)*100)\n",
    "    print(\"-\"*50)"
   ]
  },
  {
   "cell_type": "code",
   "execution_count": 20,
   "id": "61c34066",
   "metadata": {},
   "outputs": [
    {
     "data": {
      "text/plain": [
       "casual        19.334018\n",
       "registered    80.665982\n",
       "dtype: float64"
      ]
     },
     "execution_count": 20,
     "metadata": {},
     "output_type": "execute_result"
    }
   ],
   "source": [
    "#Percent of rentals by casual and registered users\n",
    "df.loc[:,\"casual\":\"registered\"].sum(axis=0)*100/df.loc[:,\"count\"].sum()"
   ]
  },
  {
   "cell_type": "markdown",
   "id": "fd7c8e30",
   "metadata": {},
   "source": [
    "## **Observation- 81% of rentals are done by registered users and 19% by casual users.**"
   ]
  },
  {
   "cell_type": "code",
   "execution_count": 21,
   "id": "dd6498bd",
   "metadata": {},
   "outputs": [],
   "source": [
    "#Datetime split two columns\n",
    "#df.insert(1,\"Date\",'')\n",
    "#df.insert(2,\"Time\",\"\")\n",
    "ts=pd.to_datetime(df[\"datetime\"])\n",
    "df[\"Date\"]=ts.dt.date\n",
    "df[\"Time\"]=ts.dt.time"
   ]
  },
  {
   "cell_type": "code",
   "execution_count": 22,
   "id": "769e5579",
   "metadata": {},
   "outputs": [
    {
     "data": {
      "text/plain": [
       "1     563\n",
       "7     563\n",
       "8     562\n",
       "4     560\n",
       "5     560\n",
       "6     560\n",
       "12    559\n",
       "9     559\n",
       "2     558\n",
       "14    558\n",
       "16    556\n",
       "10    556\n",
       "13    555\n",
       "3     555\n",
       "19    555\n",
       "15    554\n",
       "17    552\n",
       "18    552\n",
       "11    549\n",
       "Name: datetime, dtype: int64"
      ]
     },
     "execution_count": 22,
     "metadata": {},
     "output_type": "execute_result"
    }
   ],
   "source": [
    "ts.dt.day.value_counts()#For what all days data is given"
   ]
  },
  {
   "cell_type": "code",
   "execution_count": 23,
   "id": "56f0d56f",
   "metadata": {},
   "outputs": [
    {
     "data": {
      "text/plain": [
       "array([2011, 2012], dtype=int64)"
      ]
     },
     "execution_count": 23,
     "metadata": {},
     "output_type": "execute_result"
    }
   ],
   "source": [
    "ts.dt.year.unique()#for which years"
   ]
  },
  {
   "cell_type": "code",
   "execution_count": 24,
   "id": "1cb99485",
   "metadata": {},
   "outputs": [
    {
     "data": {
      "text/plain": [
       "array([ 1,  2,  3,  4,  5,  6,  7,  8,  9, 10, 11, 12], dtype=int64)"
      ]
     },
     "execution_count": 24,
     "metadata": {},
     "output_type": "execute_result"
    }
   ],
   "source": [
    "ts.dt.month.unique()#for which months"
   ]
  },
  {
   "cell_type": "markdown",
   "id": "0263a87b",
   "metadata": {},
   "source": [
    "## **Observation-The data is given for the year 2011 and 2012 .Its for the first 19 days for each month .**"
   ]
  },
  {
   "cell_type": "code",
   "execution_count": 25,
   "id": "fe68c85f",
   "metadata": {},
   "outputs": [
    {
     "data": {
      "image/png": "[encoded data removed]",
      "text/plain": [
       "<Figure size 576x360 with 1 Axes>"
      ]
     },
     "metadata": {
      "needs_background": "light"
     },
     "output_type": "display_data"
    }
   ],
   "source": [
    "y=df.groupby(\"Time\")[\"count\"].sum().to_list()\n",
    "x=list(ts.dt.hour.unique())\n",
    "plt.rcParams[\"figure.figsize\"] = (8,5)\n",
    "sns.barplot(x=x,y=y,color=\"#00DCF7\")\n",
    "plt.title(\"Total Bikes rented at each Hour of the Day\")\n",
    "plt.xlabel(\"Hour of the Day\")\n",
    "plt.ylabel(\"Count\")\n",
    "plt.show()"
   ]
  },
  {
   "cell_type": "markdown",
   "id": "c33a2c71",
   "metadata": {},
   "source": [
    "## **Observation-Significant number of bikes are rented between 4pm and 7pm.This is also observed in morning around 8pm.But an interesting fact is that morning hours people are not using Yulu bikes much as compared to evening.Lets check whether this is the trend followed by Casual and Registered Users**"
   ]
  },
  {
   "cell_type": "code",
   "execution_count": 26,
   "id": "5e70a55e",
   "metadata": {},
   "outputs": [
    {
     "data": {
      "image/png": "[encoded data removed]",
      "text/plain": [
       "<Figure size 576x360 with 1 Axes>"
      ]
     },
     "metadata": {
      "needs_background": "light"
     },
     "output_type": "display_data"
    }
   ],
   "source": [
    "y=df.groupby(\"Time\")[\"casual\"].sum().to_list()\n",
    "x=list(ts.dt.hour.unique())\n",
    "plt.rcParams[\"figure.figsize\"] = (8,5)\n",
    "sns.barplot(x=x,y=y,color=\"#00DCF7\")\n",
    "plt.title(\"Total Bikes rented at each Hour of the Day by Casual Users\")\n",
    "plt.xlabel(\"Hour of the Day\")\n",
    "plt.ylabel(\"Count\")\n",
    "plt.show()"
   ]
  },
  {
   "cell_type": "code",
   "execution_count": 27,
   "id": "591c0150",
   "metadata": {},
   "outputs": [
    {
     "data": {
      "image/png": "[encoded data removed]",
      "text/plain": [
       "<Figure size 576x360 with 1 Axes>"
      ]
     },
     "metadata": {
      "needs_background": "light"
     },
     "output_type": "display_data"
    }
   ],
   "source": [
    "y=df.groupby(\"Time\")[\"registered\"].sum().to_list()\n",
    "x=list(ts.dt.hour.unique())\n",
    "plt.rcParams[\"figure.figsize\"] = (8,5)\n",
    "sns.barplot(x=x,y=y,color=\"#00DCF7\")\n",
    "plt.title(\"Total Bikes rented at each Hour of the Day by Registered Users\")\n",
    "plt.xlabel(\"Hour of the Day\")\n",
    "plt.ylabel(\"Count\")\n",
    "plt.show()"
   ]
  },
  {
   "cell_type": "markdown",
   "id": "993c6a6c",
   "metadata": {},
   "source": [
    "## **Observation-As per the plots the casual users tends to rent the bikes more between 11am and 5pm.Whereas for Registered users its in the morning between 7am and 9pm and also evening between 4pm and 8pm.Thus it can be concluded that a dip in usage of rented bikes in the morning when the total count is plottted is due to casual users**"
   ]
  },
  {
   "cell_type": "code",
   "execution_count": 38,
   "id": "2548d605",
   "metadata": {},
   "outputs": [
    {
     "data": {
      "text/html": [
       "<div>\n",
       "<style scoped>\n",
       "    .dataframe tbody tr th:only-of-type {\n",
       "        vertical-align: middle;\n",
       "    }\n",
       "\n",
       "    .dataframe tbody tr th {\n",
       "        vertical-align: top;\n",
       "    }\n",
       "\n",
       "    .dataframe thead th {\n",
       "        text-align: right;\n",
       "    }\n",
       "</style>\n",
       "<table border=\"1\" class=\"dataframe\">\n",
       "  <thead>\n",
       "    <tr style=\"text-align: right;\">\n",
       "      <th></th>\n",
       "      <th>datetime</th>\n",
       "      <th>season</th>\n",
       "      <th>holiday</th>\n",
       "      <th>workingday</th>\n",
       "      <th>weather</th>\n",
       "      <th>temp</th>\n",
       "      <th>atemp</th>\n",
       "      <th>humidity</th>\n",
       "      <th>windspeed</th>\n",
       "      <th>casual</th>\n",
       "      <th>registered</th>\n",
       "      <th>count</th>\n",
       "      <th>Zone</th>\n",
       "      <th>Date</th>\n",
       "      <th>Time</th>\n",
       "    </tr>\n",
       "  </thead>\n",
       "  <tbody>\n",
       "    <tr>\n",
       "      <th>0</th>\n",
       "      <td>2011-01-01 00:00:00</td>\n",
       "      <td>Spring</td>\n",
       "      <td>No</td>\n",
       "      <td>No</td>\n",
       "      <td>1</td>\n",
       "      <td>9.84</td>\n",
       "      <td>14.395</td>\n",
       "      <td>81</td>\n",
       "      <td>0.0000</td>\n",
       "      <td>3</td>\n",
       "      <td>13</td>\n",
       "      <td>16</td>\n",
       "      <td>Green</td>\n",
       "      <td>2011-01-01</td>\n",
       "      <td>00:00:00</td>\n",
       "    </tr>\n",
       "    <tr>\n",
       "      <th>1</th>\n",
       "      <td>2011-01-01 01:00:00</td>\n",
       "      <td>Spring</td>\n",
       "      <td>No</td>\n",
       "      <td>No</td>\n",
       "      <td>1</td>\n",
       "      <td>9.02</td>\n",
       "      <td>13.635</td>\n",
       "      <td>80</td>\n",
       "      <td>0.0000</td>\n",
       "      <td>8</td>\n",
       "      <td>32</td>\n",
       "      <td>40</td>\n",
       "      <td>Green</td>\n",
       "      <td>2011-01-01</td>\n",
       "      <td>01:00:00</td>\n",
       "    </tr>\n",
       "    <tr>\n",
       "      <th>2</th>\n",
       "      <td>2011-01-01 02:00:00</td>\n",
       "      <td>Spring</td>\n",
       "      <td>No</td>\n",
       "      <td>No</td>\n",
       "      <td>1</td>\n",
       "      <td>9.02</td>\n",
       "      <td>13.635</td>\n",
       "      <td>80</td>\n",
       "      <td>0.0000</td>\n",
       "      <td>5</td>\n",
       "      <td>27</td>\n",
       "      <td>32</td>\n",
       "      <td>Green</td>\n",
       "      <td>2011-01-01</td>\n",
       "      <td>02:00:00</td>\n",
       "    </tr>\n",
       "    <tr>\n",
       "      <th>3</th>\n",
       "      <td>2011-01-01 03:00:00</td>\n",
       "      <td>Spring</td>\n",
       "      <td>No</td>\n",
       "      <td>No</td>\n",
       "      <td>1</td>\n",
       "      <td>9.84</td>\n",
       "      <td>14.395</td>\n",
       "      <td>75</td>\n",
       "      <td>0.0000</td>\n",
       "      <td>3</td>\n",
       "      <td>10</td>\n",
       "      <td>13</td>\n",
       "      <td>Green</td>\n",
       "      <td>2011-01-01</td>\n",
       "      <td>03:00:00</td>\n",
       "    </tr>\n",
       "    <tr>\n",
       "      <th>4</th>\n",
       "      <td>2011-01-01 04:00:00</td>\n",
       "      <td>Spring</td>\n",
       "      <td>No</td>\n",
       "      <td>No</td>\n",
       "      <td>1</td>\n",
       "      <td>9.84</td>\n",
       "      <td>14.395</td>\n",
       "      <td>75</td>\n",
       "      <td>0.0000</td>\n",
       "      <td>0</td>\n",
       "      <td>1</td>\n",
       "      <td>1</td>\n",
       "      <td>Green</td>\n",
       "      <td>2011-01-01</td>\n",
       "      <td>04:00:00</td>\n",
       "    </tr>\n",
       "    <tr>\n",
       "      <th>...</th>\n",
       "      <td>...</td>\n",
       "      <td>...</td>\n",
       "      <td>...</td>\n",
       "      <td>...</td>\n",
       "      <td>...</td>\n",
       "      <td>...</td>\n",
       "      <td>...</td>\n",
       "      <td>...</td>\n",
       "      <td>...</td>\n",
       "      <td>...</td>\n",
       "      <td>...</td>\n",
       "      <td>...</td>\n",
       "      <td>...</td>\n",
       "      <td>...</td>\n",
       "      <td>...</td>\n",
       "    </tr>\n",
       "    <tr>\n",
       "      <th>10881</th>\n",
       "      <td>2012-12-19 19:00:00</td>\n",
       "      <td>Winter</td>\n",
       "      <td>No</td>\n",
       "      <td>Yes</td>\n",
       "      <td>1</td>\n",
       "      <td>15.58</td>\n",
       "      <td>19.695</td>\n",
       "      <td>50</td>\n",
       "      <td>26.0027</td>\n",
       "      <td>7</td>\n",
       "      <td>329</td>\n",
       "      <td>336</td>\n",
       "      <td>Green</td>\n",
       "      <td>2012-12-19</td>\n",
       "      <td>19:00:00</td>\n",
       "    </tr>\n",
       "    <tr>\n",
       "      <th>10882</th>\n",
       "      <td>2012-12-19 20:00:00</td>\n",
       "      <td>Winter</td>\n",
       "      <td>No</td>\n",
       "      <td>Yes</td>\n",
       "      <td>1</td>\n",
       "      <td>14.76</td>\n",
       "      <td>17.425</td>\n",
       "      <td>57</td>\n",
       "      <td>15.0013</td>\n",
       "      <td>10</td>\n",
       "      <td>231</td>\n",
       "      <td>241</td>\n",
       "      <td>Green</td>\n",
       "      <td>2012-12-19</td>\n",
       "      <td>20:00:00</td>\n",
       "    </tr>\n",
       "    <tr>\n",
       "      <th>10883</th>\n",
       "      <td>2012-12-19 21:00:00</td>\n",
       "      <td>Winter</td>\n",
       "      <td>No</td>\n",
       "      <td>Yes</td>\n",
       "      <td>1</td>\n",
       "      <td>13.94</td>\n",
       "      <td>15.910</td>\n",
       "      <td>61</td>\n",
       "      <td>15.0013</td>\n",
       "      <td>4</td>\n",
       "      <td>164</td>\n",
       "      <td>168</td>\n",
       "      <td>Green</td>\n",
       "      <td>2012-12-19</td>\n",
       "      <td>21:00:00</td>\n",
       "    </tr>\n",
       "    <tr>\n",
       "      <th>10884</th>\n",
       "      <td>2012-12-19 22:00:00</td>\n",
       "      <td>Winter</td>\n",
       "      <td>No</td>\n",
       "      <td>Yes</td>\n",
       "      <td>1</td>\n",
       "      <td>13.94</td>\n",
       "      <td>17.425</td>\n",
       "      <td>61</td>\n",
       "      <td>6.0032</td>\n",
       "      <td>12</td>\n",
       "      <td>117</td>\n",
       "      <td>129</td>\n",
       "      <td>Green</td>\n",
       "      <td>2012-12-19</td>\n",
       "      <td>22:00:00</td>\n",
       "    </tr>\n",
       "    <tr>\n",
       "      <th>10885</th>\n",
       "      <td>2012-12-19 23:00:00</td>\n",
       "      <td>Winter</td>\n",
       "      <td>No</td>\n",
       "      <td>Yes</td>\n",
       "      <td>1</td>\n",
       "      <td>13.12</td>\n",
       "      <td>16.665</td>\n",
       "      <td>66</td>\n",
       "      <td>8.9981</td>\n",
       "      <td>4</td>\n",
       "      <td>84</td>\n",
       "      <td>88</td>\n",
       "      <td>Green</td>\n",
       "      <td>2012-12-19</td>\n",
       "      <td>23:00:00</td>\n",
       "    </tr>\n",
       "  </tbody>\n",
       "</table>\n",
       "<p>10586 rows × 15 columns</p>\n",
       "</div>"
      ],
      "text/plain": [
       "                  datetime  season holiday workingday  weather   temp   atemp  \\\n",
       "0      2011-01-01 00:00:00  Spring      No         No        1   9.84  14.395   \n",
       "1      2011-01-01 01:00:00  Spring      No         No        1   9.02  13.635   \n",
       "2      2011-01-01 02:00:00  Spring      No         No        1   9.02  13.635   \n",
       "3      2011-01-01 03:00:00  Spring      No         No        1   9.84  14.395   \n",
       "4      2011-01-01 04:00:00  Spring      No         No        1   9.84  14.395   \n",
       "...                    ...     ...     ...        ...      ...    ...     ...   \n",
       "10881  2012-12-19 19:00:00  Winter      No        Yes        1  15.58  19.695   \n",
       "10882  2012-12-19 20:00:00  Winter      No        Yes        1  14.76  17.425   \n",
       "10883  2012-12-19 21:00:00  Winter      No        Yes        1  13.94  15.910   \n",
       "10884  2012-12-19 22:00:00  Winter      No        Yes        1  13.94  17.425   \n",
       "10885  2012-12-19 23:00:00  Winter      No        Yes        1  13.12  16.665   \n",
       "\n",
       "       humidity  windspeed  casual  registered  count   Zone        Date  \\\n",
       "0            81     0.0000       3          13     16  Green  2011-01-01   \n",
       "1            80     0.0000       8          32     40  Green  2011-01-01   \n",
       "2            80     0.0000       5          27     32  Green  2011-01-01   \n",
       "3            75     0.0000       3          10     13  Green  2011-01-01   \n",
       "4            75     0.0000       0           1      1  Green  2011-01-01   \n",
       "...         ...        ...     ...         ...    ...    ...         ...   \n",
       "10881        50    26.0027       7         329    336  Green  2012-12-19   \n",
       "10882        57    15.0013      10         231    241  Green  2012-12-19   \n",
       "10883        61    15.0013       4         164    168  Green  2012-12-19   \n",
       "10884        61     6.0032      12         117    129  Green  2012-12-19   \n",
       "10885        66     8.9981       4          84     88  Green  2012-12-19   \n",
       "\n",
       "           Time  \n",
       "0      00:00:00  \n",
       "1      01:00:00  \n",
       "2      02:00:00  \n",
       "3      03:00:00  \n",
       "4      04:00:00  \n",
       "...         ...  \n",
       "10881  19:00:00  \n",
       "10882  20:00:00  \n",
       "10883  21:00:00  \n",
       "10884  22:00:00  \n",
       "10885  23:00:00  \n",
       "\n",
       "[10586 rows x 15 columns]"
      ]
     },
     "execution_count": 38,
     "metadata": {},
     "output_type": "execute_result"
    }
   ],
   "source": [
    "df"
   ]
  },
  {
   "cell_type": "markdown",
   "id": "12894298",
   "metadata": {},
   "source": [
    "## **To check the Distribution of bikes rented by Registered and casual users .**"
   ]
  },
  {
   "cell_type": "code",
   "execution_count": 39,
   "id": "b2da5083",
   "metadata": {},
   "outputs": [],
   "source": [
    "y_cas=np.array(df[\"casual\"])\n",
    "y_reg=np.array(df[\"registered\"])"
   ]
  },
  {
   "cell_type": "code",
   "execution_count": 40,
   "id": "fb767841",
   "metadata": {},
   "outputs": [
    {
     "data": {
      "image/png": "[encoded data removed]",
      "text/plain": [
       "<Figure size 576x360 with 1 Axes>"
      ]
     },
     "metadata": {
      "needs_background": "light"
     },
     "output_type": "display_data"
    }
   ],
   "source": [
    "y_cas.sort()\n",
    "y_reg.sort()\n",
    "plt.scatter(y_cas,y_reg,color='#00DCF7')\n",
    "plt.plot([min(y_cas),max(y_cas)],[min(y_cas),max(y_cas)],color=\"red\") \n",
    "plt.xlabel(\"Casual user dataset's quantiles\") \n",
    "plt.ylabel(\"Registered user dataset's quantiles\") \n",
    "plt.show()"
   ]
  },
  {
   "cell_type": "markdown",
   "id": "8691b1c1",
   "metadata": {},
   "source": [
    "## **Observation-The Casual and Registered users the count of rented bikes follows different distribution.Hence need to do the Hypothesis test for these groups separately**"
   ]
  },
  {
   "cell_type": "code",
   "execution_count": 155,
   "id": "4f6771e6",
   "metadata": {},
   "outputs": [],
   "source": [
    "#Split the registered users into two based on workingday\n",
    "reg_workday_yes=np.array(df.loc[df[\"workingday\"]==\"Yes\"][\"registered\"])\n",
    "reg_workday_no=np.array(df.loc[df[\"workingday\"]==\"No\"][\"registered\"])"
   ]
  },
  {
   "cell_type": "code",
   "execution_count": 42,
   "id": "ae53061d",
   "metadata": {},
   "outputs": [
    {
     "data": {
      "image/png": "[encoded data removed]",
      "text/plain": [
       "<Figure size 576x360 with 1 Axes>"
      ]
     },
     "metadata": {
      "needs_background": "light"
     },
     "output_type": "display_data"
    }
   ],
   "source": [
    "fig=sm.qqplot(reg_workday_yes,line='45',fit=True,color='#00DCF7')\n",
    "plt.title(\"QQ plot of registered users on working day\")\n",
    "plt.show()"
   ]
  },
  {
   "cell_type": "code",
   "execution_count": 43,
   "id": "76ce508b",
   "metadata": {},
   "outputs": [
    {
     "data": {
      "image/png": "[encoded data removed]",
      "text/plain": [
       "<Figure size 576x360 with 1 Axes>"
      ]
     },
     "metadata": {
      "needs_background": "light"
     },
     "output_type": "display_data"
    }
   ],
   "source": [
    "fig=sm.qqplot(reg_workday_no,line='45',fit=True)\n",
    "plt.title(\"QQ plot of registered users on non-working day\")\n",
    "plt.show()"
   ]
  },
  {
   "cell_type": "markdown",
   "id": "d1f6b99b",
   "metadata": {},
   "source": [
    "## **Both working and non working days the sample of registered users  follows a non gaussian distribution**"
   ]
  },
  {
   "cell_type": "code",
   "execution_count": 44,
   "id": "c17ef377",
   "metadata": {},
   "outputs": [
    {
     "name": "stdout",
     "output_type": "stream",
     "text": [
      "Number of sample for registered userd on working day 7161\n",
      "Number of sample for registered userd on NON working day 3425\n"
     ]
    }
   ],
   "source": [
    "print(\"Number of sample for registered userd on working day\", len(reg_workday_yes))\n",
    "print(\"Number of sample for registered userd on NON working day\", len(reg_workday_no))"
   ]
  },
  {
   "cell_type": "markdown",
   "id": "2af0f009",
   "metadata": {},
   "source": [
    "## *Do a 2 sample T test to check working day has an effect on the bikes  rented by registered users.*"
   ]
  },
  {
   "cell_type": "markdown",
   "id": "a959f399",
   "metadata": {},
   "source": [
    "## **Null Hypothesis Ho-Population mean of bikes rented by registered users are same on working and non working day**\n",
    "## **Alternate Hypothesis Ha--Population mean of bikes rented by registered users are not  same on working and non working day**\n",
    "## **Do a 2 sided 2 sample T-test for the same.**\n",
    "## **Significance level alpha=5%**"
   ]
  },
  {
   "cell_type": "code",
   "execution_count": 45,
   "id": "be9fb10f",
   "metadata": {},
   "outputs": [
    {
     "data": {
      "text/plain": [
       "Ttest_indResult(statistic=9.304211747570628, pvalue=1.6162942317656157e-20)"
      ]
     },
     "execution_count": 45,
     "metadata": {},
     "output_type": "execute_result"
    }
   ],
   "source": [
    "stats.ttest_ind(reg_workday_yes,reg_workday_no)"
   ]
  },
  {
   "cell_type": "markdown",
   "id": "adde39d3",
   "metadata": {},
   "source": [
    "## **Observation:Here Tobs=9.3 and p_val<<alpha.Hence reject Null Hypothesis.Thus it can be concluded that for Registered users working day do matter on Number of bikes rented**"
   ]
  },
  {
   "cell_type": "markdown",
   "id": "10c9c773",
   "metadata": {},
   "source": [
    "## *2sample T test to check whether the bikes rented on working day is more than non working day for registered users* ##\n",
    "## **Null Hypothesis Ho-Population mean of bikes rented by registered users are same on working and non working day**\n",
    "## **Alternate Hypothesis Ha--Population mean of bikes rented by registered users on working day is more than non working day**\n",
    "## **Do a Right tail 2 sample T-test for the same.**\n",
    "## **Significance level alpha=5%**"
   ]
  },
  {
   "cell_type": "code",
   "execution_count": 178,
   "id": "8c1dfea2",
   "metadata": {},
   "outputs": [
    {
     "name": "stdout",
     "output_type": "stream",
     "text": [
      "Test statistic= 10.20944277605562 p-val is  0.0\n"
     ]
    }
   ],
   "source": [
    "import math\n",
    "m1=np.mean(reg_workday_yes)\n",
    "m2=np.mean(reg_workday_no)\n",
    "s1=np.std(reg_workday_yes)\n",
    "s2=np.std(reg_workday_no)\n",
    "n1=len(reg_workday_yes)\n",
    "n2=len(reg_workday_no)\n",
    "dof=n1+n2-2\n",
    "den=math.sqrt(((s1**2)/n1)+((s2**2)/n2))\n",
    "tobs=(m1-m2)/den\n",
    "\n",
    "p_val=1-(stats.t.cdf(tobs,dof))\n",
    "print(\"Test statistic=\",tobs,\"p-val is \",p_val)\n"
   ]
  },
  {
   "cell_type": "markdown",
   "id": "f4f33db0",
   "metadata": {},
   "source": [
    "## **p_val<<alpha.Hence reject Null Hypothesis.Thus it can be concluded that for Registered users bike rented on working day is more than non working day**"
   ]
  },
  {
   "cell_type": "markdown",
   "id": "301bfb1b",
   "metadata": {},
   "source": [
    "## **Similarly do T test on casual users**"
   ]
  },
  {
   "cell_type": "code",
   "execution_count": 46,
   "id": "b1213625",
   "metadata": {},
   "outputs": [],
   "source": [
    "cas_workday_yes=np.array(df.loc[df[\"workingday\"]==\"Yes\"][\"casual\"])\n",
    "cas_workday_no=np.array(df.loc[df[\"workingday\"]==\"No\"][\"casual\"])"
   ]
  },
  {
   "cell_type": "code",
   "execution_count": 47,
   "id": "8da6f690",
   "metadata": {},
   "outputs": [
    {
     "data": {
      "image/png": "[encoded data removed]",
      "text/plain": [
       "<Figure size 576x360 with 1 Axes>"
      ]
     },
     "metadata": {
      "needs_background": "light"
     },
     "output_type": "display_data"
    }
   ],
   "source": [
    "fig=sm.qqplot(cas_workday_yes,line='45',fit=True)\n",
    "plt.title(\"QQ plot of casual users on working day\")\n",
    "plt.show()"
   ]
  },
  {
   "cell_type": "code",
   "execution_count": 48,
   "id": "b3781f81",
   "metadata": {},
   "outputs": [
    {
     "data": {
      "image/png": "[encoded data removed]",
      "text/plain": [
       "<Figure size 576x360 with 1 Axes>"
      ]
     },
     "metadata": {
      "needs_background": "light"
     },
     "output_type": "display_data"
    }
   ],
   "source": [
    "fig=sm.qqplot(reg_workday_no,line='45',fit=True)\n",
    "plt.title(\"QQ plot of casual users on non-working day\")\n",
    "plt.show()"
   ]
  },
  {
   "cell_type": "markdown",
   "id": "095cc6ba",
   "metadata": {},
   "source": [
    "## **Observation-Casual users distribution also follows non gaussian irrespective of whether its a working day or not**"
   ]
  },
  {
   "cell_type": "markdown",
   "id": "fa6f86d4",
   "metadata": {},
   "source": [
    "## **Null Hypothesis Ho-Population mean of bikes rented by casual users are same on working and non working day**\n",
    "## **Alternate Hypothesis Ha--Population mean of bikes rented by casual users are not  same on working and non working day**\n",
    "## **Do a 2 sided 2 sample T-test for the same.**\n",
    "## **Significance level alpha=5%**"
   ]
  },
  {
   "cell_type": "code",
   "execution_count": 49,
   "id": "8f376678",
   "metadata": {},
   "outputs": [
    {
     "data": {
      "text/plain": [
       "Ttest_indResult(statistic=-35.56275822294936, pvalue=9.010520146791741e-262)"
      ]
     },
     "execution_count": 49,
     "metadata": {},
     "output_type": "execute_result"
    }
   ],
   "source": [
    "stats.ttest_ind(cas_workday_yes,cas_workday_no)"
   ]
  },
  {
   "cell_type": "markdown",
   "id": "f985ce07",
   "metadata": {},
   "source": [
    "## **Observation:Here Tobs=35.562 and p_val<<alpha.Hence reject Null Hypothesis.Thus it can be concluded that for casual users working day do matter on Number of bikes rented**"
   ]
  },
  {
   "cell_type": "markdown",
   "id": "49038052",
   "metadata": {},
   "source": [
    "## *2sample T test to check whether the bikes rented on working day is more than non working day for casual users* ##\n",
    "## **Null Hypothesis Ho-Population mean of bikes rented by casual users are same on working and non working day**\n",
    "## **Alternate Hypothesis Ha--Population mean of bikes rented by casual users on working day is more than non working day**\n",
    "## **Do a Right tail 2 sample T-test for the same.**\n",
    "## **Significance level alpha=5%**"
   ]
  },
  {
   "cell_type": "code",
   "execution_count": 165,
   "id": "3d26e3e3",
   "metadata": {},
   "outputs": [
    {
     "data": {
      "text/plain": [
       "Ttest_indResult(statistic=-35.56275822294936, pvalue=1.0)"
      ]
     },
     "execution_count": 165,
     "metadata": {},
     "output_type": "execute_result"
    }
   ],
   "source": [
    "stats.ttest_ind(cas_workday_yes,cas_workday_no,alternative=\"greater\")"
   ]
  },
  {
   "cell_type": "code",
   "execution_count": 238,
   "id": "eb337be1",
   "metadata": {},
   "outputs": [
    {
     "data": {
      "text/plain": [
       "4.918148675814627e-262"
      ]
     },
     "execution_count": 238,
     "metadata": {},
     "output_type": "execute_result"
    }
   ],
   "source": [
    "dof=len(cas_workday_yes)+len(cas_workday_no)-2\n",
    "\n",
    "pval=(stats.t.cdf(-35.56,df))+(1-stats.t.cdf(35.56,df=dof))\n",
    "pval"
   ]
  },
  {
   "cell_type": "code",
   "execution_count": 241,
   "id": "cab443ef",
   "metadata": {},
   "outputs": [
    {
     "data": {
      "text/plain": [
       "4.918148675814627e-262"
      ]
     },
     "execution_count": 241,
     "metadata": {},
     "output_type": "execute_result"
    }
   ],
   "source": [
    "(1-stats.t.cdf(35.56,df))+stats.t.cdf(-35.56,df=dof)"
   ]
  },
  {
   "cell_type": "code",
   "execution_count": 175,
   "id": "a74ea13c",
   "metadata": {},
   "outputs": [
    {
     "data": {
      "text/plain": [
       "-27.293407121016923"
      ]
     },
     "execution_count": 175,
     "metadata": {},
     "output_type": "execute_result"
    }
   ],
   "source": [
    "m1=np.mean(cas_workday_yes)\n",
    "m2=np.mean(cas_workday_no)\n",
    "s1=np.std(cas_workday_yes)\n",
    "s2=np.std(cas_workday_no)\n",
    "n1=len(cas_workday_yes)\n",
    "n2=len(cas_workday_no)\n",
    "df=n1+n2-1\n",
    "den=math.sqrt(((s1**2)/n1)+((s2**2)/n2))\n",
    "tobs=(m1-m2)/den\n",
    "tobs"
   ]
  },
  {
   "cell_type": "code",
   "execution_count": 243,
   "id": "aa9a535d",
   "metadata": {},
   "outputs": [
    {
     "data": {
      "text/plain": [
       "0.0"
      ]
     },
     "execution_count": 243,
     "metadata": {},
     "output_type": "execute_result"
    }
   ],
   "source": [
    "(1-stats.t.cdf(35.56,df))"
   ]
  },
  {
   "cell_type": "markdown",
   "id": "b67c3fd4",
   "metadata": {},
   "source": [
    "## *To check the dependency of Weather on No:of cycles Rented*"
   ]
  },
  {
   "cell_type": "code",
   "execution_count": 55,
   "id": "7833fecd",
   "metadata": {},
   "outputs": [],
   "source": [
    "cnt_green=df.loc[df[\"Zone\"]==\"Green\"][\"count\"]\n",
    "cnt_yellow=df.loc[df[\"Zone\"]==\"Yellow\"][\"count\"]\n",
    "cnt_orange=df.loc[df[\"Zone\"]==\"Orange\"][\"count\"]\n",
    "cnt_red=df.loc[df[\"Zone\"]==\"Red\"][\"count\"]\n"
   ]
  },
  {
   "cell_type": "markdown",
   "id": "b0689482",
   "metadata": {},
   "source": [
    "## **Checking Assumptions for Annova**"
   ]
  },
  {
   "cell_type": "code",
   "execution_count": 63,
   "id": "5d251d13",
   "metadata": {},
   "outputs": [
    {
     "data": {
      "image/png": "[encoded data removed]",
      "text/plain": [
       "<Figure size 576x360 with 1 Axes>"
      ]
     },
     "metadata": {
      "needs_background": "light"
     },
     "output_type": "display_data"
    },
    {
     "data": {
      "image/png": "[encoded data removed]",
      "text/plain": [
       "<Figure size 576x360 with 1 Axes>"
      ]
     },
     "metadata": {
      "needs_background": "light"
     },
     "output_type": "display_data"
    },
    {
     "data": {
      "image/png": "[encoded data removed]",
      "text/plain": [
       "<Figure size 576x360 with 1 Axes>"
      ]
     },
     "metadata": {
      "needs_background": "light"
     },
     "output_type": "display_data"
    }
   ],
   "source": [
    "\n",
    "fig=sm.qqplot(cnt_green,line='45',fit=True)\n",
    "plt.title(\"QQplot for Green,Yellow and Orange Weather Zones\")\n",
    "fig=sm.qqplot(cnt_yellow,line='45',fit=True)\n",
    "fig=sm.qqplot(cnt_orange,line='45',fit=True)\n",
    "\n",
    "plt.show()\n",
    "\n"
   ]
  },
  {
   "cell_type": "markdown",
   "id": "7ede1ceb",
   "metadata": {},
   "source": [
    "## **For the three weather zones ,its a non gaussian distribution,Hence need to do a Box cox transformation on the same.For the Red zone since it only have one observation,its not fair to draw conclusions based on it**"
   ]
  },
  {
   "cell_type": "code",
   "execution_count": 81,
   "id": "f1215046",
   "metadata": {},
   "outputs": [
    {
     "name": "stdout",
     "output_type": "stream",
     "text": [
      "The Standard deviation for Green weather zone is 161.57\n",
      "The Standard deviation for Yellow weather zone is 146.97\n",
      "The Standard deviation for Orange weather zone is 121.16\n"
     ]
    }
   ],
   "source": [
    "print(\"The Standard deviation for Green weather zone is\",round(np.std(cnt_green),2))\n",
    "print(\"The Standard deviation for Yellow weather zone is\",round(np.std(cnt_yellow),2))\n",
    "print(\"The Standard deviation for Orange weather zone is\",round(np.std(cnt_orange),2))"
   ]
  },
  {
   "cell_type": "code",
   "execution_count": 71,
   "id": "5d2e536b",
   "metadata": {},
   "outputs": [
    {
     "data": {
      "image/png": "[encoded data removed]",
      "text/plain": [
       "<Figure size 576x360 with 1 Axes>"
      ]
     },
     "metadata": {
      "needs_background": "light"
     },
     "output_type": "display_data"
    },
    {
     "data": {
      "image/png": "[encoded data removed]",
      "text/plain": [
       "<Figure size 576x360 with 1 Axes>"
      ]
     },
     "metadata": {
      "needs_background": "light"
     },
     "output_type": "display_data"
    },
    {
     "data": {
      "image/png": "[encoded data removed]",
      "text/plain": [
       "<Figure size 576x360 with 1 Axes>"
      ]
     },
     "metadata": {
      "needs_background": "light"
     },
     "output_type": "display_data"
    }
   ],
   "source": [
    "for x in (cnt_green,cnt_yellow,cnt_orange):\n",
    "    x_list=np.array(x.to_list())\n",
    "    x_trans,l=scipy.stats.boxcox(x_list)\n",
    "    sm.qqplot(x_trans,line='45',fit=True)"
   ]
  },
  {
   "cell_type": "markdown",
   "id": "16a829de",
   "metadata": {},
   "source": [
    "## **Eventhough the variance for each of the three weather zones are roughly same ,the distribution is clearly not gaussian even after a Box cox Transformation.Hence Opting for Kruskal Wallis Test to check the dependency of weather on bikes rented**"
   ]
  },
  {
   "cell_type": "markdown",
   "id": "849c093a",
   "metadata": {},
   "source": [
    "## **Null Hypothesis Ho-The population median of  groups (Green,Yellow,Orange) are equal**\n",
    "## **Alternate Hypothesis Ha-The population median of  groups (Green,Yellow,Orange) are different**\n",
    "## **Kruskal Wallis test is  done with significance level as 5%**\n",
    " \n",
    "    "
   ]
  },
  {
   "cell_type": "code",
   "execution_count": 83,
   "id": "dff36ecf",
   "metadata": {},
   "outputs": [
    {
     "data": {
      "text/plain": [
       "KruskalResult(statistic=187.50718004505146, pvalue=1.9201413252466828e-41)"
      ]
     },
     "execution_count": 83,
     "metadata": {},
     "output_type": "execute_result"
    }
   ],
   "source": [
    "scipy.stats.kruskal(cnt_green,cnt_yellow,cnt_orange)"
   ]
  },
  {
   "cell_type": "markdown",
   "id": "bf68f98e",
   "metadata": {},
   "source": [
    "## **Observed Test Statistic is 187.5 with p_value very less compared to alpha.Hence concluding the weather do impact the bikes rented.Let's see how?**"
   ]
  },
  {
   "cell_type": "markdown",
   "id": "43026a74",
   "metadata": {},
   "source": [
    "## *To Analyse data wrt to weather and holiday/workingday*"
   ]
  },
  {
   "cell_type": "code",
   "execution_count": 28,
   "id": "8adb8576",
   "metadata": {},
   "outputs": [
    {
     "data": {
      "text/html": [
       "<div>\n",
       "<style scoped>\n",
       "    .dataframe tbody tr th:only-of-type {\n",
       "        vertical-align: middle;\n",
       "    }\n",
       "\n",
       "    .dataframe tbody tr th {\n",
       "        vertical-align: top;\n",
       "    }\n",
       "\n",
       "    .dataframe thead th {\n",
       "        text-align: right;\n",
       "    }\n",
       "</style>\n",
       "<table border=\"1\" class=\"dataframe\">\n",
       "  <thead>\n",
       "    <tr style=\"text-align: right;\">\n",
       "      <th></th>\n",
       "      <th>Zone</th>\n",
       "      <th>holiday</th>\n",
       "      <th>workingday</th>\n",
       "      <th>registered</th>\n",
       "    </tr>\n",
       "  </thead>\n",
       "  <tbody>\n",
       "    <tr>\n",
       "      <th>0</th>\n",
       "      <td>Green</td>\n",
       "      <td>No</td>\n",
       "      <td>No</td>\n",
       "      <td>279795</td>\n",
       "    </tr>\n",
       "    <tr>\n",
       "      <th>1</th>\n",
       "      <td>Green</td>\n",
       "      <td>No</td>\n",
       "      <td>Yes</td>\n",
       "      <td>734960</td>\n",
       "    </tr>\n",
       "    <tr>\n",
       "      <th>2</th>\n",
       "      <td>Green</td>\n",
       "      <td>Yes</td>\n",
       "      <td>No</td>\n",
       "      <td>26804</td>\n",
       "    </tr>\n",
       "    <tr>\n",
       "      <th>3</th>\n",
       "      <td>Orange</td>\n",
       "      <td>No</td>\n",
       "      <td>No</td>\n",
       "      <td>17927</td>\n",
       "    </tr>\n",
       "    <tr>\n",
       "      <th>4</th>\n",
       "      <td>Orange</td>\n",
       "      <td>No</td>\n",
       "      <td>Yes</td>\n",
       "      <td>61291</td>\n",
       "    </tr>\n",
       "    <tr>\n",
       "      <th>5</th>\n",
       "      <td>Orange</td>\n",
       "      <td>Yes</td>\n",
       "      <td>No</td>\n",
       "      <td>1503</td>\n",
       "    </tr>\n",
       "    <tr>\n",
       "      <th>6</th>\n",
       "      <td>Red</td>\n",
       "      <td>No</td>\n",
       "      <td>Yes</td>\n",
       "      <td>158</td>\n",
       "    </tr>\n",
       "    <tr>\n",
       "      <th>7</th>\n",
       "      <td>Yellow</td>\n",
       "      <td>No</td>\n",
       "      <td>No</td>\n",
       "      <td>89680</td>\n",
       "    </tr>\n",
       "    <tr>\n",
       "      <th>8</th>\n",
       "      <td>Yellow</td>\n",
       "      <td>No</td>\n",
       "      <td>Yes</td>\n",
       "      <td>275243</td>\n",
       "    </tr>\n",
       "    <tr>\n",
       "      <th>9</th>\n",
       "      <td>Yellow</td>\n",
       "      <td>Yes</td>\n",
       "      <td>No</td>\n",
       "      <td>13140</td>\n",
       "    </tr>\n",
       "  </tbody>\n",
       "</table>\n",
       "</div>"
      ],
      "text/plain": [
       "     Zone holiday workingday  registered\n",
       "0   Green      No         No      279795\n",
       "1   Green      No        Yes      734960\n",
       "2   Green     Yes         No       26804\n",
       "3  Orange      No         No       17927\n",
       "4  Orange      No        Yes       61291\n",
       "5  Orange     Yes         No        1503\n",
       "6     Red      No        Yes         158\n",
       "7  Yellow      No         No       89680\n",
       "8  Yellow      No        Yes      275243\n",
       "9  Yellow     Yes         No       13140"
      ]
     },
     "execution_count": 28,
     "metadata": {},
     "output_type": "execute_result"
    }
   ],
   "source": [
    "#Create a new dataframe which conatins the total bikes rented by registered users wrt Weather/holiday/workingday\n",
    "df_registered=df.groupby([\"Zone\",\"holiday\",\"workingday\"])[\"registered\"].sum().to_frame().reset_index()\n",
    "df_registered"
   ]
  },
  {
   "cell_type": "code",
   "execution_count": 29,
   "id": "cc94b539",
   "metadata": {},
   "outputs": [
    {
     "data": {
      "text/html": [
       "<div>\n",
       "<style scoped>\n",
       "    .dataframe tbody tr th:only-of-type {\n",
       "        vertical-align: middle;\n",
       "    }\n",
       "\n",
       "    .dataframe tbody tr th {\n",
       "        vertical-align: top;\n",
       "    }\n",
       "\n",
       "    .dataframe thead th {\n",
       "        text-align: right;\n",
       "    }\n",
       "</style>\n",
       "<table border=\"1\" class=\"dataframe\">\n",
       "  <thead>\n",
       "    <tr style=\"text-align: right;\">\n",
       "      <th></th>\n",
       "      <th>Zone</th>\n",
       "      <th>holiday</th>\n",
       "      <th>workingday</th>\n",
       "      <th>casual</th>\n",
       "    </tr>\n",
       "  </thead>\n",
       "  <tbody>\n",
       "    <tr>\n",
       "      <th>0</th>\n",
       "      <td>Green</td>\n",
       "      <td>No</td>\n",
       "      <td>No</td>\n",
       "      <td>133176</td>\n",
       "    </tr>\n",
       "    <tr>\n",
       "      <th>1</th>\n",
       "      <td>Green</td>\n",
       "      <td>No</td>\n",
       "      <td>Yes</td>\n",
       "      <td>120788</td>\n",
       "    </tr>\n",
       "    <tr>\n",
       "      <th>2</th>\n",
       "      <td>Green</td>\n",
       "      <td>Yes</td>\n",
       "      <td>No</td>\n",
       "      <td>9225</td>\n",
       "    </tr>\n",
       "    <tr>\n",
       "      <th>3</th>\n",
       "      <td>Orange</td>\n",
       "      <td>No</td>\n",
       "      <td>No</td>\n",
       "      <td>7265</td>\n",
       "    </tr>\n",
       "    <tr>\n",
       "      <th>4</th>\n",
       "      <td>Orange</td>\n",
       "      <td>No</td>\n",
       "      <td>Yes</td>\n",
       "      <td>6770</td>\n",
       "    </tr>\n",
       "    <tr>\n",
       "      <th>5</th>\n",
       "      <td>Orange</td>\n",
       "      <td>Yes</td>\n",
       "      <td>No</td>\n",
       "      <td>327</td>\n",
       "    </tr>\n",
       "    <tr>\n",
       "      <th>6</th>\n",
       "      <td>Red</td>\n",
       "      <td>No</td>\n",
       "      <td>Yes</td>\n",
       "      <td>6</td>\n",
       "    </tr>\n",
       "    <tr>\n",
       "      <th>7</th>\n",
       "      <td>Yellow</td>\n",
       "      <td>No</td>\n",
       "      <td>No</td>\n",
       "      <td>36942</td>\n",
       "    </tr>\n",
       "    <tr>\n",
       "      <th>8</th>\n",
       "      <td>Yellow</td>\n",
       "      <td>No</td>\n",
       "      <td>Yes</td>\n",
       "      <td>39720</td>\n",
       "    </tr>\n",
       "    <tr>\n",
       "      <th>9</th>\n",
       "      <td>Yellow</td>\n",
       "      <td>Yes</td>\n",
       "      <td>No</td>\n",
       "      <td>5421</td>\n",
       "    </tr>\n",
       "  </tbody>\n",
       "</table>\n",
       "</div>"
      ],
      "text/plain": [
       "     Zone holiday workingday  casual\n",
       "0   Green      No         No  133176\n",
       "1   Green      No        Yes  120788\n",
       "2   Green     Yes         No    9225\n",
       "3  Orange      No         No    7265\n",
       "4  Orange      No        Yes    6770\n",
       "5  Orange     Yes         No     327\n",
       "6     Red      No        Yes       6\n",
       "7  Yellow      No         No   36942\n",
       "8  Yellow      No        Yes   39720\n",
       "9  Yellow     Yes         No    5421"
      ]
     },
     "execution_count": 29,
     "metadata": {},
     "output_type": "execute_result"
    }
   ],
   "source": [
    "#Create a new dataframe which conatins the total bikes rented by casual users wrt Weather/holiday/workingday\n",
    "df_casual=df.groupby([\"Zone\",\"holiday\",\"workingday\"])[\"casual\"].sum().to_frame().reset_index()\n",
    "df_casual\n"
   ]
  },
  {
   "cell_type": "code",
   "execution_count": 30,
   "id": "2ef9cfba",
   "metadata": {},
   "outputs": [
    {
     "data": {
      "text/html": [
       "<div>\n",
       "<style scoped>\n",
       "    .dataframe tbody tr th:only-of-type {\n",
       "        vertical-align: middle;\n",
       "    }\n",
       "\n",
       "    .dataframe tbody tr th {\n",
       "        vertical-align: top;\n",
       "    }\n",
       "\n",
       "    .dataframe thead th {\n",
       "        text-align: right;\n",
       "    }\n",
       "</style>\n",
       "<table border=\"1\" class=\"dataframe\">\n",
       "  <thead>\n",
       "    <tr style=\"text-align: right;\">\n",
       "      <th></th>\n",
       "      <th>Zone</th>\n",
       "      <th>holiday</th>\n",
       "      <th>workingday</th>\n",
       "      <th>registered</th>\n",
       "      <th>casual</th>\n",
       "    </tr>\n",
       "  </thead>\n",
       "  <tbody>\n",
       "    <tr>\n",
       "      <th>0</th>\n",
       "      <td>Green</td>\n",
       "      <td>No</td>\n",
       "      <td>No</td>\n",
       "      <td>279795</td>\n",
       "      <td>133176</td>\n",
       "    </tr>\n",
       "    <tr>\n",
       "      <th>1</th>\n",
       "      <td>Green</td>\n",
       "      <td>No</td>\n",
       "      <td>Yes</td>\n",
       "      <td>734960</td>\n",
       "      <td>120788</td>\n",
       "    </tr>\n",
       "    <tr>\n",
       "      <th>2</th>\n",
       "      <td>Green</td>\n",
       "      <td>Yes</td>\n",
       "      <td>No</td>\n",
       "      <td>26804</td>\n",
       "      <td>9225</td>\n",
       "    </tr>\n",
       "    <tr>\n",
       "      <th>3</th>\n",
       "      <td>Orange</td>\n",
       "      <td>No</td>\n",
       "      <td>No</td>\n",
       "      <td>17927</td>\n",
       "      <td>7265</td>\n",
       "    </tr>\n",
       "    <tr>\n",
       "      <th>4</th>\n",
       "      <td>Orange</td>\n",
       "      <td>No</td>\n",
       "      <td>Yes</td>\n",
       "      <td>61291</td>\n",
       "      <td>6770</td>\n",
       "    </tr>\n",
       "    <tr>\n",
       "      <th>5</th>\n",
       "      <td>Orange</td>\n",
       "      <td>Yes</td>\n",
       "      <td>No</td>\n",
       "      <td>1503</td>\n",
       "      <td>327</td>\n",
       "    </tr>\n",
       "    <tr>\n",
       "      <th>6</th>\n",
       "      <td>Red</td>\n",
       "      <td>No</td>\n",
       "      <td>Yes</td>\n",
       "      <td>158</td>\n",
       "      <td>6</td>\n",
       "    </tr>\n",
       "    <tr>\n",
       "      <th>7</th>\n",
       "      <td>Yellow</td>\n",
       "      <td>No</td>\n",
       "      <td>No</td>\n",
       "      <td>89680</td>\n",
       "      <td>36942</td>\n",
       "    </tr>\n",
       "    <tr>\n",
       "      <th>8</th>\n",
       "      <td>Yellow</td>\n",
       "      <td>No</td>\n",
       "      <td>Yes</td>\n",
       "      <td>275243</td>\n",
       "      <td>39720</td>\n",
       "    </tr>\n",
       "    <tr>\n",
       "      <th>9</th>\n",
       "      <td>Yellow</td>\n",
       "      <td>Yes</td>\n",
       "      <td>No</td>\n",
       "      <td>13140</td>\n",
       "      <td>5421</td>\n",
       "    </tr>\n",
       "  </tbody>\n",
       "</table>\n",
       "</div>"
      ],
      "text/plain": [
       "     Zone holiday workingday  registered  casual\n",
       "0   Green      No         No      279795  133176\n",
       "1   Green      No        Yes      734960  120788\n",
       "2   Green     Yes         No       26804    9225\n",
       "3  Orange      No         No       17927    7265\n",
       "4  Orange      No        Yes       61291    6770\n",
       "5  Orange     Yes         No        1503     327\n",
       "6     Red      No        Yes         158       6\n",
       "7  Yellow      No         No       89680   36942\n",
       "8  Yellow      No        Yes      275243   39720\n",
       "9  Yellow     Yes         No       13140    5421"
      ]
     },
     "execution_count": 30,
     "metadata": {},
     "output_type": "execute_result"
    }
   ],
   "source": [
    "#Merging above two datasets\n",
    "df1=df_registered.merge(df_casual,on=[\"Zone\",\"holiday\",\"workingday\"])\n",
    "df1"
   ]
  },
  {
   "cell_type": "code",
   "execution_count": 31,
   "id": "69b5f36a",
   "metadata": {},
   "outputs": [
    {
     "data": {
      "text/html": [
       "<div>\n",
       "<style scoped>\n",
       "    .dataframe tbody tr th:only-of-type {\n",
       "        vertical-align: middle;\n",
       "    }\n",
       "\n",
       "    .dataframe tbody tr th {\n",
       "        vertical-align: top;\n",
       "    }\n",
       "\n",
       "    .dataframe thead th {\n",
       "        text-align: right;\n",
       "    }\n",
       "</style>\n",
       "<table border=\"1\" class=\"dataframe\">\n",
       "  <thead>\n",
       "    <tr style=\"text-align: right;\">\n",
       "      <th></th>\n",
       "      <th>Zone</th>\n",
       "      <th>holiday</th>\n",
       "      <th>workingday</th>\n",
       "      <th>registered</th>\n",
       "      <th>casual</th>\n",
       "      <th>p_registered</th>\n",
       "      <th>p_casual</th>\n",
       "      <th>holiday/workingday</th>\n",
       "    </tr>\n",
       "  </thead>\n",
       "  <tbody>\n",
       "    <tr>\n",
       "      <th>0</th>\n",
       "      <td>Green</td>\n",
       "      <td>No</td>\n",
       "      <td>No</td>\n",
       "      <td>279795</td>\n",
       "      <td>133176</td>\n",
       "      <td>18.646772</td>\n",
       "      <td>37.030364</td>\n",
       "      <td>No/No</td>\n",
       "    </tr>\n",
       "    <tr>\n",
       "      <th>1</th>\n",
       "      <td>Green</td>\n",
       "      <td>No</td>\n",
       "      <td>Yes</td>\n",
       "      <td>734960</td>\n",
       "      <td>120788</td>\n",
       "      <td>48.980974</td>\n",
       "      <td>33.585808</td>\n",
       "      <td>No/Yes</td>\n",
       "    </tr>\n",
       "    <tr>\n",
       "      <th>2</th>\n",
       "      <td>Green</td>\n",
       "      <td>Yes</td>\n",
       "      <td>No</td>\n",
       "      <td>26804</td>\n",
       "      <td>9225</td>\n",
       "      <td>1.786337</td>\n",
       "      <td>2.565065</td>\n",
       "      <td>Yes/No</td>\n",
       "    </tr>\n",
       "    <tr>\n",
       "      <th>3</th>\n",
       "      <td>Orange</td>\n",
       "      <td>No</td>\n",
       "      <td>No</td>\n",
       "      <td>17927</td>\n",
       "      <td>7265</td>\n",
       "      <td>1.194734</td>\n",
       "      <td>2.020076</td>\n",
       "      <td>No/No</td>\n",
       "    </tr>\n",
       "    <tr>\n",
       "      <th>4</th>\n",
       "      <td>Orange</td>\n",
       "      <td>No</td>\n",
       "      <td>Yes</td>\n",
       "      <td>61291</td>\n",
       "      <td>6770</td>\n",
       "      <td>4.084702</td>\n",
       "      <td>1.882438</td>\n",
       "      <td>No/Yes</td>\n",
       "    </tr>\n",
       "    <tr>\n",
       "      <th>5</th>\n",
       "      <td>Orange</td>\n",
       "      <td>Yes</td>\n",
       "      <td>No</td>\n",
       "      <td>1503</td>\n",
       "      <td>327</td>\n",
       "      <td>0.100167</td>\n",
       "      <td>0.090924</td>\n",
       "      <td>Yes/No</td>\n",
       "    </tr>\n",
       "    <tr>\n",
       "      <th>6</th>\n",
       "      <td>Red</td>\n",
       "      <td>No</td>\n",
       "      <td>Yes</td>\n",
       "      <td>158</td>\n",
       "      <td>6</td>\n",
       "      <td>0.010530</td>\n",
       "      <td>0.001668</td>\n",
       "      <td>No/Yes</td>\n",
       "    </tr>\n",
       "    <tr>\n",
       "      <th>7</th>\n",
       "      <td>Yellow</td>\n",
       "      <td>No</td>\n",
       "      <td>No</td>\n",
       "      <td>89680</td>\n",
       "      <td>36942</td>\n",
       "      <td>5.976670</td>\n",
       "      <td>10.271939</td>\n",
       "      <td>No/No</td>\n",
       "    </tr>\n",
       "    <tr>\n",
       "      <th>8</th>\n",
       "      <td>Yellow</td>\n",
       "      <td>No</td>\n",
       "      <td>Yes</td>\n",
       "      <td>275243</td>\n",
       "      <td>39720</td>\n",
       "      <td>18.343407</td>\n",
       "      <td>11.044378</td>\n",
       "      <td>No/Yes</td>\n",
       "    </tr>\n",
       "    <tr>\n",
       "      <th>9</th>\n",
       "      <td>Yellow</td>\n",
       "      <td>Yes</td>\n",
       "      <td>No</td>\n",
       "      <td>13140</td>\n",
       "      <td>5421</td>\n",
       "      <td>0.875708</td>\n",
       "      <td>1.507341</td>\n",
       "      <td>Yes/No</td>\n",
       "    </tr>\n",
       "  </tbody>\n",
       "</table>\n",
       "</div>"
      ],
      "text/plain": [
       "     Zone holiday workingday  registered  casual  p_registered   p_casual  \\\n",
       "0   Green      No         No      279795  133176     18.646772  37.030364   \n",
       "1   Green      No        Yes      734960  120788     48.980974  33.585808   \n",
       "2   Green     Yes         No       26804    9225      1.786337   2.565065   \n",
       "3  Orange      No         No       17927    7265      1.194734   2.020076   \n",
       "4  Orange      No        Yes       61291    6770      4.084702   1.882438   \n",
       "5  Orange     Yes         No        1503     327      0.100167   0.090924   \n",
       "6     Red      No        Yes         158       6      0.010530   0.001668   \n",
       "7  Yellow      No         No       89680   36942      5.976670  10.271939   \n",
       "8  Yellow      No        Yes      275243   39720     18.343407  11.044378   \n",
       "9  Yellow     Yes         No       13140    5421      0.875708   1.507341   \n",
       "\n",
       "  holiday/workingday  \n",
       "0              No/No  \n",
       "1             No/Yes  \n",
       "2             Yes/No  \n",
       "3              No/No  \n",
       "4             No/Yes  \n",
       "5             Yes/No  \n",
       "6             No/Yes  \n",
       "7              No/No  \n",
       "8             No/Yes  \n",
       "9             Yes/No  "
      ]
     },
     "execution_count": 31,
     "metadata": {},
     "output_type": "execute_result"
    }
   ],
   "source": [
    "#Compute the conditional Probability for weather holiday/workingday criteria\n",
    "df1[\"p_registered\"]=df1[\"registered\"]*100/(df1.loc[:,\"registered\"].sum())\n",
    "df1[\"p_casual\"]=df1[\"casual\"]*100/((df1.loc[:,\"casual\"].sum()))\n",
    "df1[\"holiday/workingday\"]=df1[\"holiday\"]+\"/\"+df1[\"workingday\"]\n",
    "df1\n"
   ]
  },
  {
   "cell_type": "code",
   "execution_count": 32,
   "id": "0cdcddee",
   "metadata": {},
   "outputs": [
    {
     "data": {
      "image/png": "[encoded data removed]",
      "text/plain": [
       "<Figure size 576x360 with 1 Axes>"
      ]
     },
     "metadata": {
      "needs_background": "light"
     },
     "output_type": "display_data"
    }
   ],
   "source": [
    "colors=[\"#377D22\",\"#F0ED18\",\"#FC6A03\",\"#EB3324\"]\n",
    "sns.set_palette(sns.color_palette(colors))\n",
    "sns.barplot(x=\"holiday/workingday\",y=\"p_registered\",data=df1,hue_order=[\"Green\",\"Yellow\",\"Orange\",\"Red\"],hue=\"Zone\")\n",
    "plt.legend(bbox_to_anchor=(1.1 ,1), loc='upper left', borderaxespad=0)\n",
    "plt.title(\"Percent of Bikes rented by Registered Users based on Weather Zone and holiday/workingday\")\n",
    "plt.ylabel(\"Percentage\")\n",
    "plt.show()"
   ]
  },
  {
   "cell_type": "code",
   "execution_count": 33,
   "id": "f5d79ee0",
   "metadata": {
    "scrolled": true
   },
   "outputs": [
    {
     "data": {
      "image/png": "[encoded data removed]",
      "text/plain": [
       "<Figure size 576x360 with 1 Axes>"
      ]
     },
     "metadata": {
      "needs_background": "light"
     },
     "output_type": "display_data"
    }
   ],
   "source": [
    "sns.barplot(x=\"holiday/workingday\",y=\"p_casual\",data=df1,hue=\"Zone\",hue_order=[\"Green\",\"Yellow\",\"Orange\",\"Red\"])\n",
    "plt.legend(bbox_to_anchor=(1.1 ,1), loc='upper left', borderaxespad=0)\n",
    "plt.title(\"Percent of Bikes rented by Casual Users based on Weather Zone and holiday/workingday\")\n",
    "plt.ylabel(\"Percentage\")\n",
    "plt.show()"
   ]
  },
  {
   "cell_type": "markdown",
   "id": "220eb476",
   "metadata": {},
   "source": [
    "## **Inference-For both registered and casual users more bikes are rented when the whether is in Green zone ie Mostly clear followed by yellow ,orange and least in Red zones which is quite obvious.Working days has most bikes rented for registered users and for casual users this trend happen during weekend.Interesting to observe that for both registered and casual users the bikes rented are very less on holidays.**"
   ]
  },
  {
   "cell_type": "markdown",
   "id": "b03f694f",
   "metadata": {},
   "source": [
    "## **Through Hypothesis testing it was found that weather do impact the number of bikes rented.Let's check which weather zone has a higher population mean through Bootstrapping and 95% Confidence Intervals**"
   ]
  },
  {
   "cell_type": "code",
   "execution_count": 179,
   "id": "622ca843",
   "metadata": {},
   "outputs": [],
   "source": [
    "\"\"\"introducing two custom functions to split the dataframe and to Bootstrap\n",
    "1)Function to split the dataframe df based \n",
    "on the column name and column value\"\"\"\n",
    "def DataFrameSplit (df,column,value):\n",
    "    name_dataframe=\"df_\"+column+\"_\"+value\n",
    "    x=df.loc[df[column]==value]\n",
    "    x.reset_index(inplace=True)\n",
    "    x.drop(\"index\",axis=1,inplace=True)\n",
    "    return name_dataframe,x"
   ]
  },
  {
   "cell_type": "code",
   "execution_count": 184,
   "id": "d765cef4",
   "metadata": {},
   "outputs": [],
   "source": [
    "#Dataframe df is split based on column Zone and value=Green.The resultant dataframe is stored in dictionary dataframes\n",
    "name,data=DataFrameSplit(df1,\"Zone\",\"Green\")\n",
    "dataframes={}\n",
    "dataframes[name] = data"
   ]
  },
  {
   "cell_type": "code",
   "execution_count": 185,
   "id": "5b1a4a08",
   "metadata": {},
   "outputs": [],
   "source": [
    "#initialsing dictionaries to store the confidence intervals and bootstrap means for the dataframes post the split\n",
    "dataframes_namelist_pos=0\n",
    "ci_dict={}\n",
    "bootstrap_mean_dict={}"
   ]
  },
  {
   "cell_type": "code",
   "execution_count": 194,
   "id": "a68891b6",
   "metadata": {},
   "outputs": [],
   "source": [
    "\"\"\"2)This function is used to find the bootstrapped means of the dataframes post the spilt and then find their confidence \n",
    "intervals\n",
    "The bootstrapped means of each of the split dataframes are stored in dictionary bootstrap_mean_dict and the 95% CI's is computed \"\"\"\n",
    "def BootStrapFunc(data):\n",
    "    bootstap_mean_list=[]\n",
    "    global dataframes_namelist_pos\n",
    "    number_of_times=200\n",
    "    for i in range (number_of_times):\n",
    "        sample_data=data.sample(n=len(data),replace=True)\n",
    "        bootstrap_mean=np.mean(sample_data[\"count\"])\n",
    "        bootstap_mean_list.append(bootstrap_mean)\n",
    "    c_interval=[]\n",
    "    global ci_dict\n",
    "    global bootstrap_mean_dict\n",
    "    bootstrap_mean=np.mean(bootstap_mean_list)\n",
    "    \n",
    "    ci_name=list(dataframes.keys())[dataframes_namelist_pos]\n",
    "    ci_name=ci_name+'_CI'\n",
    "    \n",
    "    bs_name=list(dataframes.keys())[dataframes_namelist_pos]\n",
    "    bs_name=bs_name+\"_BS\"\n",
    "\n",
    "    ci=95\n",
    "    lb=(100-ci)/2\n",
    "    ub=ci+(100-ci)/2\n",
    "    c_interval.append(np.percentile(bootstap_mean_list,[lb,ub]))\n",
    "    print(\"Mean of the Sampling Distribution is\",round(bootstrap_mean,2))\n",
    "    print(\"95% Confidence Interval is [\",round(c_interval[0][0],2),\",\",round(c_interval[0][1],2),\"]\")\n",
    "    ci_dict[ci_name]=c_interval\n",
    "    bootstrap_mean_dict[bs_name]=bootstap_mean_list\n",
    "    \n",
    "    dataframes_namelist_pos+=1"
   ]
  },
  {
   "cell_type": "code",
   "execution_count": 195,
   "id": "52454048",
   "metadata": {},
   "outputs": [
    {
     "name": "stdout",
     "output_type": "stream",
     "text": [
      "Mean of the Sampling Distribution is 187.26\n",
      "95% Confidence Interval is [ 183.13 , 190.62 ]\n"
     ]
    }
   ],
   "source": [
    "#BootStrapFunc function call on splitted dataframe to find CI\n",
    "BootStrapFunc(dataframes['df_Zone_Green'])"
   ]
  },
  {
   "cell_type": "code",
   "execution_count": 197,
   "id": "31ab5602",
   "metadata": {},
   "outputs": [],
   "source": [
    "#Repeat the same function calls for weather Zone=Yellow\n",
    "name,data=DataFrameSplit(df1,\"Zone\",\"Yellow\")\n",
    "dataframes[name]=data\n"
   ]
  },
  {
   "cell_type": "code",
   "execution_count": 198,
   "id": "f73a880f",
   "metadata": {},
   "outputs": [
    {
     "name": "stdout",
     "output_type": "stream",
     "text": [
      "Mean of the Sampling Distribution is 166.2\n",
      "95% Confidence Interval is [ 159.85 , 171.11 ]\n"
     ]
    }
   ],
   "source": [
    "#BootStrapFunc function call on splitted dataframe to find CI\n",
    "BootStrapFunc(dataframes['df_Zone_Yellow'])"
   ]
  },
  {
   "cell_type": "code",
   "execution_count": 199,
   "id": "50cb0b65",
   "metadata": {},
   "outputs": [],
   "source": [
    "#Repeat the same function calls for weather Zone=Orange\n",
    "name,data=DataFrameSplit(df1,\"Zone\",\"Orange\")\n",
    "dataframes[name]=data"
   ]
  },
  {
   "cell_type": "code",
   "execution_count": 200,
   "id": "30a792c4",
   "metadata": {},
   "outputs": [
    {
     "name": "stdout",
     "output_type": "stream",
     "text": [
      "Mean of the Sampling Distribution is 111.5\n",
      "95% Confidence Interval is [ 104.52 , 120.83 ]\n"
     ]
    }
   ],
   "source": [
    "#BootStrapFunc function call on splitted dataframe to find CI\n",
    "BootStrapFunc(dataframes['df_Zone_Orange'])"
   ]
  },
  {
   "cell_type": "code",
   "execution_count": 202,
   "id": "dacbb958",
   "metadata": {},
   "outputs": [
    {
     "data": {
      "image/png": "[encoded data removed]",
      "text/plain": [
       "<Figure size 576x360 with 1 Axes>"
      ]
     },
     "metadata": {
      "needs_background": "light"
     },
     "output_type": "display_data"
    }
   ],
   "source": [
    "#Plot for 95% CI\n",
    "plt.hist(bootstrap_mean_dict[\"df_Zone_Green_BS\"],label=\"Green\")\n",
    "plt.hist(bootstrap_mean_dict[\"df_Zone_Yellow_BS\"],label=\"Yellow\",alpha=.5)\n",
    "plt.hist(bootstrap_mean_dict[\"df_Zone_Orange_BS\"],label=\"Orange\",alpha=.5)\n",
    "plt.axvline(ci_dict['df_Zone_Green_CI'][0][0],c='g')\n",
    "plt.axvline(ci_dict['df_Zone_Green_CI'][0][1],c='g')\n",
    "plt.axvline(ci_dict['df_Zone_Yellow_CI'][0][0],color='yellow')\n",
    "plt.axvline(ci_dict['df_Zone_Yellow_CI'][0][1],color='yellow')\n",
    "plt.axvline(ci_dict['df_Zone_Orange_CI'][0][0],color='orange')\n",
    "plt.axvline(ci_dict['df_Zone_Orange_CI'][0][1],color='orange')\n",
    "plt.title(\"Weather Zone  wise Count of bike rentals info with 95% CI interval\")\n",
    "plt.xlabel(\"BootStrap Mean of Bike Rental Count\")\n",
    "plt.ylabel(\"Count\")\n",
    "plt.legend()\n",
    "plt.show()"
   ]
  },
  {
   "cell_type": "markdown",
   "id": "60cf38d4",
   "metadata": {},
   "source": [
    "## **Inference-The confidence intervals are distinct and non overlapping which implies the number of bikes rented significantly depends on the weather.Here when the weather is in Green zone the average number of bikes rented is between 183 and 190.In Yellow its between 160 and 170 and in Orange its between 104 and 120**"
   ]
  },
  {
   "cell_type": "markdown",
   "id": "adba3ff4",
   "metadata": {},
   "source": [
    "## *To check the dependency of Season on No:of cycles Rented*\n"
   ]
  },
  {
   "cell_type": "code",
   "execution_count": 87,
   "id": "b86b44ff",
   "metadata": {},
   "outputs": [],
   "source": [
    "cnt_spring=df.loc[df[\"season\"]==\"Spring\"][\"count\"]\n",
    "cnt_winter=df.loc[df[\"season\"]==\"Winter\"][\"count\"]\n",
    "cnt_summer=df.loc[df[\"season\"]==\"Summer\"][\"count\"]\n",
    "cnt_fall=df.loc[df[\"season\"]==\"Fall\"][\"count\"]"
   ]
  },
  {
   "cell_type": "markdown",
   "id": "accf5d3e",
   "metadata": {},
   "source": [
    "## **Checking Assumptions for Annova**"
   ]
  },
  {
   "cell_type": "code",
   "execution_count": 88,
   "id": "b4cb8772",
   "metadata": {},
   "outputs": [
    {
     "name": "stdout",
     "output_type": "stream",
     "text": [
      "The Standard deviation for Spring is 116.86\n",
      "The Standard deviation for Winter is 154.76\n",
      "The Standard deviation for Summer is 166.34\n",
      "The Standard deviation for Fall is 164.21\n"
     ]
    }
   ],
   "source": [
    "print(\"The Standard deviation for Spring is\",round(np.std(cnt_spring),2))\n",
    "print(\"The Standard deviation for Winter is\",round(np.std(cnt_winter),2))\n",
    "print(\"The Standard deviation for Summer is\",round(np.std(cnt_summer),2))\n",
    "print(\"The Standard deviation for Fall is\",round(np.std(cnt_fall),2))\n"
   ]
  },
  {
   "cell_type": "code",
   "execution_count": 90,
   "id": "6d0be800",
   "metadata": {},
   "outputs": [
    {
     "data": {
      "image/png": "[encoded data removed]",
      "text/plain": [
       "<Figure size 576x360 with 1 Axes>"
      ]
     },
     "metadata": {
      "needs_background": "light"
     },
     "output_type": "display_data"
    },
    {
     "data": {
      "image/png": "[encoded data removed]",
      "text/plain": [
       "<Figure size 576x360 with 1 Axes>"
      ]
     },
     "metadata": {
      "needs_background": "light"
     },
     "output_type": "display_data"
    },
    {
     "data": {
      "image/png": "[encoded data removed]",
      "text/plain": [
       "<Figure size 576x360 with 1 Axes>"
      ]
     },
     "metadata": {
      "needs_background": "light"
     },
     "output_type": "display_data"
    },
    {
     "data": {
      "image/png": "[encoded data removed]",
      "text/plain": [
       "<Figure size 576x360 with 1 Axes>"
      ]
     },
     "metadata": {
      "needs_background": "light"
     },
     "output_type": "display_data"
    }
   ],
   "source": [
    "fig=sm.qqplot(cnt_spring,line='45',fit=True)\n",
    "plt.title(\"QQplot for Spring,Winter,Summer and Fall\")\n",
    "fig=sm.qqplot(cnt_winter,line='45',fit=True)\n",
    "fig=sm.qqplot(cnt_summer,line='45',fit=True)\n",
    "fig=sm.qqplot(cnt_fall,line='45',fit=True)\n",
    "\n",
    "plt.show()"
   ]
  },
  {
   "cell_type": "code",
   "execution_count": 92,
   "id": "14c09e1e",
   "metadata": {},
   "outputs": [
    {
     "data": {
      "image/png": "[encoded data removed]",
      "text/plain": [
       "<Figure size 576x360 with 1 Axes>"
      ]
     },
     "metadata": {
      "needs_background": "light"
     },
     "output_type": "display_data"
    },
    {
     "data": {
      "image/png": "[encoded data removed]",
      "text/plain": [
       "<Figure size 576x360 with 1 Axes>"
      ]
     },
     "metadata": {
      "needs_background": "light"
     },
     "output_type": "display_data"
    },
    {
     "data": {
      "image/png": "[encoded data removed]",
      "text/plain": [
       "<Figure size 576x360 with 1 Axes>"
      ]
     },
     "metadata": {
      "needs_background": "light"
     },
     "output_type": "display_data"
    },
    {
     "data": {
      "image/png": "[encoded data removed]",
      "text/plain": [
       "<Figure size 576x360 with 1 Axes>"
      ]
     },
     "metadata": {
      "needs_background": "light"
     },
     "output_type": "display_data"
    }
   ],
   "source": [
    "#BOX COX Transformation\n",
    "#plt.title(\"After Transformation\")\n",
    "for x in (cnt_spring,cnt_winter,cnt_summer,cnt_fall):\n",
    "    x_list=np.array(x.to_list())\n",
    "    x_trans,l=scipy.stats.boxcox(x_list)\n",
    "    \n",
    "    sm.qqplot(x_trans,line='45',fit=True)"
   ]
  },
  {
   "cell_type": "markdown",
   "id": "3266d0d9",
   "metadata": {},
   "source": [
    "## **Eventhough the variance for each of the four seasons are roughly same ,the distribution is clearly not gaussian even after a Box cox Transformation.Hence Opting for Kruskal Wallis Test to check the dependency of season on bikes rented**"
   ]
  },
  {
   "cell_type": "markdown",
   "id": "7e7e4c37",
   "metadata": {},
   "source": [
    "## **Null Hypothesis Ho-The population median of  all seasons are equal**\n",
    "## **Alternate Hypothesis Ha-The population median of  the seasons  are different**\n",
    "## **Kruskal Wallis test is  done with significance level as 5%**"
   ]
  },
  {
   "cell_type": "code",
   "execution_count": 93,
   "id": "6410d1e1",
   "metadata": {},
   "outputs": [
    {
     "data": {
      "text/plain": [
       "KruskalResult(statistic=620.3738431848594, pvalue=3.8591953474560567e-134)"
      ]
     },
     "execution_count": 93,
     "metadata": {},
     "output_type": "execute_result"
    }
   ],
   "source": [
    "scipy.stats.kruskal(cnt_spring,cnt_winter,cnt_summer,cnt_fall)"
   ]
  },
  {
   "cell_type": "markdown",
   "id": "3fcc4ed9",
   "metadata": {},
   "source": [
    "## **Observed Test Statistic is 620.37 with p_value very less compared to alpha.Hence concluding the seasons do impact the bikes rented.Let's see how?**"
   ]
  },
  {
   "cell_type": "code",
   "execution_count": 245,
   "id": "2dcb7a86",
   "metadata": {
    "scrolled": false
   },
   "outputs": [
    {
     "ename": "AttributeError",
     "evalue": "'int' object has no attribute 'groupby'",
     "output_type": "error",
     "traceback": [
      "\u001b[1;31m---------------------------------------------------------------------------\u001b[0m",
      "\u001b[1;31mAttributeError\u001b[0m                            Traceback (most recent call last)",
      "Input \u001b[1;32mIn [245]\u001b[0m, in \u001b[0;36m<cell line: 1>\u001b[1;34m()\u001b[0m\n\u001b[1;32m----> 1\u001b[0m season_reg\u001b[38;5;241m=\u001b[39m\u001b[43mdf\u001b[49m\u001b[38;5;241;43m.\u001b[39;49m\u001b[43mgroupby\u001b[49m([\u001b[38;5;124m\"\u001b[39m\u001b[38;5;124mseason\u001b[39m\u001b[38;5;124m\"\u001b[39m])[\u001b[38;5;124m\"\u001b[39m\u001b[38;5;124mregistered\u001b[39m\u001b[38;5;124m\"\u001b[39m]\u001b[38;5;241m.\u001b[39msum()\u001b[38;5;241m.\u001b[39mto_frame()\u001b[38;5;241m.\u001b[39mreset_index()\n\u001b[0;32m      2\u001b[0m season_cas\u001b[38;5;241m=\u001b[39mdf\u001b[38;5;241m.\u001b[39mgroupby([\u001b[38;5;124m\"\u001b[39m\u001b[38;5;124mseason\u001b[39m\u001b[38;5;124m\"\u001b[39m])[\u001b[38;5;124m\"\u001b[39m\u001b[38;5;124mcasual\u001b[39m\u001b[38;5;124m\"\u001b[39m]\u001b[38;5;241m.\u001b[39msum()\u001b[38;5;241m.\u001b[39mto_frame()\u001b[38;5;241m.\u001b[39mreset_index()\n\u001b[0;32m      3\u001b[0m \u001b[38;5;66;03m#Merging above two datasets\u001b[39;00m\n",
      "\u001b[1;31mAttributeError\u001b[0m: 'int' object has no attribute 'groupby'"
     ]
    }
   ],
   "source": [
    "season_reg=df.groupby([\"season\"])[\"registered\"].sum().to_frame().reset_index()\n",
    "season_cas=df.groupby([\"season\"])[\"casual\"].sum().to_frame().reset_index()\n",
    "#Merging above two datasets\n"
   ]
  },
  {
   "cell_type": "code",
   "execution_count": 36,
   "id": "c0709c81",
   "metadata": {},
   "outputs": [
    {
     "data": {
      "text/html": [
       "<div>\n",
       "<style scoped>\n",
       "    .dataframe tbody tr th:only-of-type {\n",
       "        vertical-align: middle;\n",
       "    }\n",
       "\n",
       "    .dataframe tbody tr th {\n",
       "        vertical-align: top;\n",
       "    }\n",
       "\n",
       "    .dataframe thead th {\n",
       "        text-align: right;\n",
       "    }\n",
       "</style>\n",
       "<table border=\"1\" class=\"dataframe\">\n",
       "  <thead>\n",
       "    <tr style=\"text-align: right;\">\n",
       "      <th></th>\n",
       "      <th>p_registered</th>\n",
       "      <th>p_casual</th>\n",
       "    </tr>\n",
       "    <tr>\n",
       "      <th>season</th>\n",
       "      <th></th>\n",
       "      <th></th>\n",
       "    </tr>\n",
       "  </thead>\n",
       "  <tbody>\n",
       "    <tr>\n",
       "      <th>Fall</th>\n",
       "      <td>28.057362</td>\n",
       "      <td>36.223168</td>\n",
       "    </tr>\n",
       "    <tr>\n",
       "      <th>Spring</th>\n",
       "      <td>17.489025</td>\n",
       "      <td>10.771883</td>\n",
       "    </tr>\n",
       "    <tr>\n",
       "      <th>Summer</th>\n",
       "      <td>26.505814</td>\n",
       "      <td>32.833667</td>\n",
       "    </tr>\n",
       "    <tr>\n",
       "      <th>Winter</th>\n",
       "      <td>27.947799</td>\n",
       "      <td>20.171282</td>\n",
       "    </tr>\n",
       "  </tbody>\n",
       "</table>\n",
       "</div>"
      ],
      "text/plain": [
       "        p_registered   p_casual\n",
       "season                         \n",
       "Fall       28.057362  36.223168\n",
       "Spring     17.489025  10.771883\n",
       "Summer     26.505814  32.833667\n",
       "Winter     27.947799  20.171282"
      ]
     },
     "execution_count": 36,
     "metadata": {},
     "output_type": "execute_result"
    }
   ],
   "source": [
    "#Compute the conditional Probability for season criteria\n",
    "df2[\"p_registered\"]=df2[\"registered\"]*100/(df2.loc[:,\"registered\"].sum())\n",
    "df2[\"p_casual\"]=df2[\"casual\"]*100/((df2.loc[:,\"casual\"].sum()))\n",
    "df2.drop(columns=[\"registered\",\"casual\"],inplace=True)\n",
    "df2.set_index(\"season\",inplace=True)\n",
    "df2"
   ]
  },
  {
   "cell_type": "code",
   "execution_count": 37,
   "id": "e35bb650",
   "metadata": {},
   "outputs": [
    {
     "data": {
      "image/png": "[encoded data removed]",
      "text/plain": [
       "<Figure size 576x360 with 1 Axes>"
      ]
     },
     "metadata": {
      "needs_background": "light"
     },
     "output_type": "display_data"
    }
   ],
   "source": [
    "df2.plot(kind='bar', stacked=True, color=['#B8CFFC', '#00DCF7'])\n",
    "plt.ylabel(\"Percantage\")\n",
    "plt.title(\"Percentage of Bikes rented by registered and casual users wrt season\")\n",
    "plt.show()"
   ]
  },
  {
   "cell_type": "markdown",
   "id": "23adf7f6",
   "metadata": {},
   "source": [
    "## **Inference-For Registered users the percentage of rented bikes is almost same for all seasons expect Spring.For Casual users its high during Fall and Summer and less during Spring and Winter**"
   ]
  },
  {
   "cell_type": "markdown",
   "id": "cc30c0fe",
   "metadata": {},
   "source": [
    "## **Through Hypothesis testing it was found that season do impact the number of bikes rented.Let's check which season has a higher population mean through Bootstrapping and 95% Confidence Intervals**"
   ]
  },
  {
   "cell_type": "code",
   "execution_count": 221,
   "id": "570e73ca",
   "metadata": {},
   "outputs": [],
   "source": [
    "#re-initialsing dictionaries to store the split dataframes,confidenceintervals,bootstrap mean\n",
    "dataframes_namelist_pos=0\n",
    "ci_dict={}\n",
    "bootstrap_mean_dict={}\n",
    "dataframes={}"
   ]
  },
  {
   "cell_type": "code",
   "execution_count": 222,
   "id": "2960a0b7",
   "metadata": {},
   "outputs": [],
   "source": [
    "name,data=DataFrameSplit(df,\"season\",\"Spring\")\n",
    "dataframes[name]=data"
   ]
  },
  {
   "cell_type": "code",
   "execution_count": 223,
   "id": "9de21ee4",
   "metadata": {},
   "outputs": [
    {
     "name": "stdout",
     "output_type": "stream",
     "text": [
      "Mean of the Sampling Distribution is 112.8\n",
      "95% Confidence Interval is [ 108.7 , 117.03 ]\n"
     ]
    }
   ],
   "source": [
    "#BootStrapFunc function call on split dataframe to find CI\n",
    "BootStrapFunc(dataframes['df_season_Spring'])"
   ]
  },
  {
   "cell_type": "code",
   "execution_count": 224,
   "id": "9c8bc674",
   "metadata": {},
   "outputs": [
    {
     "name": "stdout",
     "output_type": "stream",
     "text": [
      "Mean of the Sampling Distribution is 184.73\n",
      "95% Confidence Interval is [ 179.29 , 190.64 ]\n"
     ]
    }
   ],
   "source": [
    "name,data=DataFrameSplit(df,\"season\",\"Winter\")\n",
    "dataframes[name]=data\n",
    "BootStrapFunc(dataframes['df_season_Winter'])"
   ]
  },
  {
   "cell_type": "code",
   "execution_count": 225,
   "id": "1e12d511",
   "metadata": {},
   "outputs": [
    {
     "name": "stdout",
     "output_type": "stream",
     "text": [
      "Mean of the Sampling Distribution is 195.36\n",
      "95% Confidence Interval is [ 189.85 , 201.1 ]\n"
     ]
    }
   ],
   "source": [
    "name,data=DataFrameSplit(df,\"season\",\"Summer\")\n",
    "dataframes[name]=data\n",
    "BootStrapFunc(dataframes['df_season_Summer'])"
   ]
  },
  {
   "cell_type": "code",
   "execution_count": 226,
   "id": "40a7d24a",
   "metadata": {},
   "outputs": [
    {
     "name": "stdout",
     "output_type": "stream",
     "text": [
      "Mean of the Sampling Distribution is 210.34\n",
      "95% Confidence Interval is [ 203.76 , 216.44 ]\n"
     ]
    }
   ],
   "source": [
    "name,data=DataFrameSplit(df,\"season\",\"Fall\")\n",
    "dataframes[name]=data\n",
    "BootStrapFunc(dataframes['df_season_Fall'])"
   ]
  },
  {
   "cell_type": "code",
   "execution_count": 231,
   "id": "7b6be797",
   "metadata": {},
   "outputs": [
    {
     "data": {
      "image/png": "[encoded data removed]",
      "text/plain": [
       "<Figure size 576x360 with 1 Axes>"
      ]
     },
     "metadata": {
      "needs_background": "light"
     },
     "output_type": "display_data"
    }
   ],
   "source": [
    "#Plot for 95% CI\n",
    "plt.hist(bootstrap_mean_dict[\"df_season_Spring_BS\"],label=\"Spring\")\n",
    "plt.hist(bootstrap_mean_dict[\"df_season_Summer_BS\"],label=\"Summer\",alpha=.5)\n",
    "plt.hist(bootstrap_mean_dict[\"df_season_Fall_BS\"],label=\"Fall\",alpha=.5)\n",
    "plt.hist(bootstrap_mean_dict[\"df_season_Winter_BS\"],label=\"Winter\",alpha=.5,color='blue')\n",
    "plt.axvline(ci_dict['df_season_Spring_CI'][0][0],c='g')\n",
    "plt.axvline(ci_dict['df_season_Spring_CI'][0][1],c='g')\n",
    "plt.axvline(ci_dict['df_season_Summer_CI'][0][0],color='yellow')\n",
    "plt.axvline(ci_dict['df_season_Summer_CI'][0][1],color='yellow')\n",
    "plt.axvline(ci_dict['df_season_Fall_CI'][0][0],color='orange')\n",
    "plt.axvline(ci_dict['df_season_Fall_CI'][0][1],color='orange')\n",
    "plt.axvline(ci_dict['df_season_Winter_CI'][0][0],color='blue')\n",
    "plt.axvline(ci_dict['df_season_Winter_CI'][0][1],color='blue')\n",
    "plt.title(\"Season  wise Count of bike rentals info with 95% CI interval\")\n",
    "plt.xlabel(\"BootStrap Mean of Bike Rental Count\")\n",
    "plt.ylabel(\"Count\")\n",
    "plt.legend()\n",
    "plt.show()"
   ]
  },
  {
   "cell_type": "markdown",
   "id": "03da2bb4",
   "metadata": {},
   "source": [
    "## **Inference-There is an overlap of CI's during Winter and Summer.However the Spring and Fall seasons are quite distinct from each other.The highest of bike rentals happen during Fall and the least during Spring.**\n"
   ]
  },
  {
   "cell_type": "markdown",
   "id": "36312601",
   "metadata": {},
   "source": [
    "## *To check Weather dependent on season or not*"
   ]
  },
  {
   "cell_type": "markdown",
   "id": "8cf73b19",
   "metadata": {},
   "source": [
    "## **Chi-square test is done.**\n",
    "## **Since there is only one observation for Red Weather zone ,removing this row**\n",
    "## **Null Hypothesis Ho-Weather is independent on seasons**\n",
    "## **Alternate Hypothesis-Weather is dependent on seasons**\n",
    "## **Significance level alpha=5%**"
   ]
  },
  {
   "cell_type": "code",
   "execution_count": 99,
   "id": "4bdff2ff",
   "metadata": {
    "scrolled": true
   },
   "outputs": [
    {
     "data": {
      "text/plain": [
       "season  Zone  \n",
       "Fall    Green     1843\n",
       "        Orange     195\n",
       "        Yellow     579\n",
       "Spring  Green     1744\n",
       "        Orange     211\n",
       "        Red          1\n",
       "        Yellow     714\n",
       "Summer  Green     1721\n",
       "        Orange     223\n",
       "        Yellow     690\n",
       "Winter  Green     1657\n",
       "        Orange     221\n",
       "        Yellow     787\n",
       "Name: count, dtype: int64"
      ]
     },
     "execution_count": 99,
     "metadata": {},
     "output_type": "execute_result"
    }
   ],
   "source": [
    "#number of rows available for each season-weather combination\n",
    "df.groupby([\"season\",\"Zone\"])[\"count\"].count()"
   ]
  },
  {
   "cell_type": "code",
   "execution_count": 112,
   "id": "c3c51bc7",
   "metadata": {},
   "outputs": [],
   "source": [
    "df1=df.loc[df[\"Zone\"]!=\"Red\"]"
   ]
  },
  {
   "cell_type": "code",
   "execution_count": 153,
   "id": "b43186c0",
   "metadata": {},
   "outputs": [
    {
     "data": {
      "text/html": [
       "<div>\n",
       "<style scoped>\n",
       "    .dataframe tbody tr th:only-of-type {\n",
       "        vertical-align: middle;\n",
       "    }\n",
       "\n",
       "    .dataframe tbody tr th {\n",
       "        vertical-align: top;\n",
       "    }\n",
       "\n",
       "    .dataframe thead th {\n",
       "        text-align: right;\n",
       "    }\n",
       "</style>\n",
       "<table border=\"1\" class=\"dataframe\">\n",
       "  <thead>\n",
       "    <tr style=\"text-align: right;\">\n",
       "      <th>Zone</th>\n",
       "      <th>Green</th>\n",
       "      <th>Orange</th>\n",
       "      <th>Yellow</th>\n",
       "    </tr>\n",
       "    <tr>\n",
       "      <th>season</th>\n",
       "      <th></th>\n",
       "      <th></th>\n",
       "      <th></th>\n",
       "    </tr>\n",
       "  </thead>\n",
       "  <tbody>\n",
       "    <tr>\n",
       "      <th>Fall</th>\n",
       "      <td>402602</td>\n",
       "      <td>27883</td>\n",
       "      <td>120789</td>\n",
       "    </tr>\n",
       "    <tr>\n",
       "      <th>Spring</th>\n",
       "      <td>212386</td>\n",
       "      <td>12919</td>\n",
       "      <td>75694</td>\n",
       "    </tr>\n",
       "    <tr>\n",
       "      <th>Summer</th>\n",
       "      <td>367404</td>\n",
       "      <td>26973</td>\n",
       "      <td>121426</td>\n",
       "    </tr>\n",
       "    <tr>\n",
       "      <th>Winter</th>\n",
       "      <td>322356</td>\n",
       "      <td>27308</td>\n",
       "      <td>142237</td>\n",
       "    </tr>\n",
       "  </tbody>\n",
       "</table>\n",
       "</div>"
      ],
      "text/plain": [
       "Zone     Green  Orange  Yellow\n",
       "season                        \n",
       "Fall    402602   27883  120789\n",
       "Spring  212386   12919   75694\n",
       "Summer  367404   26973  121426\n",
       "Winter  322356   27308  142237"
      ]
     },
     "execution_count": 153,
     "metadata": {},
     "output_type": "execute_result"
    }
   ],
   "source": [
    "obs=pd.crosstab(index=df1[\"season\"],columns=df1[\"Zone\"],values=df1[\"count\"],aggfunc=\"sum\")\n",
    "obs"
   ]
  },
  {
   "cell_type": "code",
   "execution_count": 154,
   "id": "0c323c3e",
   "metadata": {},
   "outputs": [
    {
     "data": {
      "text/plain": [
       "(8409.547609716874,\n",
       " 0.0,\n",
       " 6,\n",
       " array([[386711.04478819,  28181.4160831 , 136381.53912871],\n",
       "        [211146.61270112,  15387.22678668,  74465.1605122 ],\n",
       "        [361828.6315605 ,  26368.11995471, 127606.24848479],\n",
       "        [345061.71095019,  25146.23717551, 121693.0518743 ]]))"
      ]
     },
     "execution_count": 154,
     "metadata": {},
     "output_type": "execute_result"
    }
   ],
   "source": [
    "stats.chi2_contingency(obs)"
   ]
  },
  {
   "cell_type": "markdown",
   "id": "2b1626e7",
   "metadata": {},
   "source": [
    "## **Test statistic is 8409.54 with p value=0 less than significance level hence rejecting Ho,ie Weather is dependent on seasons**"
   ]
  },
  {
   "cell_type": "markdown",
   "id": "9e14d9f6",
   "metadata": {},
   "source": [
    "# **Inference**"
   ]
  },
  {
   "cell_type": "markdown",
   "id": "3d06185c",
   "metadata": {},
   "source": [
    "## **Through different Hypothesis tests found that weather ,season,working/non working day has significant influence on the bikes rented by the Users**"
   ]
  },
  {
   "cell_type": "code",
   "execution_count": null,
   "id": "62873a1d",
   "metadata": {},
   "outputs": [],
   "source": []
  },
  {
   "cell_type": "code",
   "execution_count": null,
   "id": "e16a1742",
   "metadata": {},
   "outputs": [],
   "source": []
  },
  {
   "cell_type": "code",
   "execution_count": null,
   "id": "0c3eab06",
   "metadata": {},
   "outputs": [],
   "source": []
  },
  {
   "cell_type": "code",
   "execution_count": null,
   "id": "817606bc",
   "metadata": {},
   "outputs": [],
   "source": []
  },
  {
   "cell_type": "code",
   "execution_count": null,
   "id": "56507b4f",
   "metadata": {},
   "outputs": [],
   "source": []
  },
  {
   "cell_type": "code",
   "execution_count": null,
   "id": "670454e9",
   "metadata": {},
   "outputs": [],
   "source": []
  },
  {
   "cell_type": "code",
   "execution_count": null,
   "id": "c53a84ae",
   "metadata": {},
   "outputs": [],
   "source": []
  }
 ],
 "metadata": {
  "kernelspec": {
   "display_name": "Python 3 (ipykernel)",
   "language": "python",
   "name": "python3"
  },
  "language_info": {
   "codemirror_mode": {
    "name": "ipython",
    "version": 3
   },
   "file_extension": ".py",
   "mimetype": "text/x-python",
   "name": "python",
   "nbconvert_exporter": "python",
   "pygments_lexer": "ipython3",
   "version": "3.10.2"
  }
 },
 "nbformat": 4,
 "nbformat_minor": 5
}
