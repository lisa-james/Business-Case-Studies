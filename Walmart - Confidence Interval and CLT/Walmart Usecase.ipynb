{
 "cells": [
  {
   "cell_type": "code",
   "execution_count": 1,
   "id": "7d17f24e",
   "metadata": {},
   "outputs": [],
   "source": [
    "import pandas as pd\n",
    "import numpy as np\n",
    "from numpy import nan, NaN,NAN\n",
    "from matplotlib import pyplot as plt\n",
    "import seaborn as sns\n",
    "import warnings\n",
    "warnings.filterwarnings(\"ignore\")\n",
    "from scipy import stats"
   ]
  },
  {
   "cell_type": "code",
   "execution_count": 2,
   "id": "c23ae50d",
   "metadata": {},
   "outputs": [
    {
     "data": {
      "text/html": [
       "<div>\n",
       "<style scoped>\n",
       "    .dataframe tbody tr th:only-of-type {\n",
       "        vertical-align: middle;\n",
       "    }\n",
       "\n",
       "    .dataframe tbody tr th {\n",
       "        vertical-align: top;\n",
       "    }\n",
       "\n",
       "    .dataframe thead th {\n",
       "        text-align: right;\n",
       "    }\n",
       "</style>\n",
       "<table border=\"1\" class=\"dataframe\">\n",
       "  <thead>\n",
       "    <tr style=\"text-align: right;\">\n",
       "      <th></th>\n",
       "      <th>User_ID</th>\n",
       "      <th>Product_ID</th>\n",
       "      <th>Gender</th>\n",
       "      <th>Age</th>\n",
       "      <th>Occupation</th>\n",
       "      <th>City_Category</th>\n",
       "      <th>Stay_In_Current_City_Years</th>\n",
       "      <th>Marital_Status</th>\n",
       "      <th>Product_Category</th>\n",
       "      <th>Purchase</th>\n",
       "    </tr>\n",
       "  </thead>\n",
       "  <tbody>\n",
       "    <tr>\n",
       "      <th>0</th>\n",
       "      <td>1000001</td>\n",
       "      <td>P00069042</td>\n",
       "      <td>F</td>\n",
       "      <td>0-17</td>\n",
       "      <td>10</td>\n",
       "      <td>A</td>\n",
       "      <td>2</td>\n",
       "      <td>0</td>\n",
       "      <td>3</td>\n",
       "      <td>8370</td>\n",
       "    </tr>\n",
       "    <tr>\n",
       "      <th>1</th>\n",
       "      <td>1000001</td>\n",
       "      <td>P00248942</td>\n",
       "      <td>F</td>\n",
       "      <td>0-17</td>\n",
       "      <td>10</td>\n",
       "      <td>A</td>\n",
       "      <td>2</td>\n",
       "      <td>0</td>\n",
       "      <td>1</td>\n",
       "      <td>15200</td>\n",
       "    </tr>\n",
       "    <tr>\n",
       "      <th>2</th>\n",
       "      <td>1000001</td>\n",
       "      <td>P00087842</td>\n",
       "      <td>F</td>\n",
       "      <td>0-17</td>\n",
       "      <td>10</td>\n",
       "      <td>A</td>\n",
       "      <td>2</td>\n",
       "      <td>0</td>\n",
       "      <td>12</td>\n",
       "      <td>1422</td>\n",
       "    </tr>\n",
       "    <tr>\n",
       "      <th>3</th>\n",
       "      <td>1000001</td>\n",
       "      <td>P00085442</td>\n",
       "      <td>F</td>\n",
       "      <td>0-17</td>\n",
       "      <td>10</td>\n",
       "      <td>A</td>\n",
       "      <td>2</td>\n",
       "      <td>0</td>\n",
       "      <td>12</td>\n",
       "      <td>1057</td>\n",
       "    </tr>\n",
       "    <tr>\n",
       "      <th>4</th>\n",
       "      <td>1000002</td>\n",
       "      <td>P00285442</td>\n",
       "      <td>M</td>\n",
       "      <td>55+</td>\n",
       "      <td>16</td>\n",
       "      <td>C</td>\n",
       "      <td>4+</td>\n",
       "      <td>0</td>\n",
       "      <td>8</td>\n",
       "      <td>7969</td>\n",
       "    </tr>\n",
       "    <tr>\n",
       "      <th>...</th>\n",
       "      <td>...</td>\n",
       "      <td>...</td>\n",
       "      <td>...</td>\n",
       "      <td>...</td>\n",
       "      <td>...</td>\n",
       "      <td>...</td>\n",
       "      <td>...</td>\n",
       "      <td>...</td>\n",
       "      <td>...</td>\n",
       "      <td>...</td>\n",
       "    </tr>\n",
       "    <tr>\n",
       "      <th>550063</th>\n",
       "      <td>1006033</td>\n",
       "      <td>P00372445</td>\n",
       "      <td>M</td>\n",
       "      <td>51-55</td>\n",
       "      <td>13</td>\n",
       "      <td>B</td>\n",
       "      <td>1</td>\n",
       "      <td>1</td>\n",
       "      <td>20</td>\n",
       "      <td>368</td>\n",
       "    </tr>\n",
       "    <tr>\n",
       "      <th>550064</th>\n",
       "      <td>1006035</td>\n",
       "      <td>P00375436</td>\n",
       "      <td>F</td>\n",
       "      <td>26-35</td>\n",
       "      <td>1</td>\n",
       "      <td>C</td>\n",
       "      <td>3</td>\n",
       "      <td>0</td>\n",
       "      <td>20</td>\n",
       "      <td>371</td>\n",
       "    </tr>\n",
       "    <tr>\n",
       "      <th>550065</th>\n",
       "      <td>1006036</td>\n",
       "      <td>P00375436</td>\n",
       "      <td>F</td>\n",
       "      <td>26-35</td>\n",
       "      <td>15</td>\n",
       "      <td>B</td>\n",
       "      <td>4+</td>\n",
       "      <td>1</td>\n",
       "      <td>20</td>\n",
       "      <td>137</td>\n",
       "    </tr>\n",
       "    <tr>\n",
       "      <th>550066</th>\n",
       "      <td>1006038</td>\n",
       "      <td>P00375436</td>\n",
       "      <td>F</td>\n",
       "      <td>55+</td>\n",
       "      <td>1</td>\n",
       "      <td>C</td>\n",
       "      <td>2</td>\n",
       "      <td>0</td>\n",
       "      <td>20</td>\n",
       "      <td>365</td>\n",
       "    </tr>\n",
       "    <tr>\n",
       "      <th>550067</th>\n",
       "      <td>1006039</td>\n",
       "      <td>P00371644</td>\n",
       "      <td>F</td>\n",
       "      <td>46-50</td>\n",
       "      <td>0</td>\n",
       "      <td>B</td>\n",
       "      <td>4+</td>\n",
       "      <td>1</td>\n",
       "      <td>20</td>\n",
       "      <td>490</td>\n",
       "    </tr>\n",
       "  </tbody>\n",
       "</table>\n",
       "<p>550068 rows × 10 columns</p>\n",
       "</div>"
      ],
      "text/plain": [
       "        User_ID Product_ID Gender    Age  Occupation City_Category  \\\n",
       "0       1000001  P00069042      F   0-17          10             A   \n",
       "1       1000001  P00248942      F   0-17          10             A   \n",
       "2       1000001  P00087842      F   0-17          10             A   \n",
       "3       1000001  P00085442      F   0-17          10             A   \n",
       "4       1000002  P00285442      M    55+          16             C   \n",
       "...         ...        ...    ...    ...         ...           ...   \n",
       "550063  1006033  P00372445      M  51-55          13             B   \n",
       "550064  1006035  P00375436      F  26-35           1             C   \n",
       "550065  1006036  P00375436      F  26-35          15             B   \n",
       "550066  1006038  P00375436      F    55+           1             C   \n",
       "550067  1006039  P00371644      F  46-50           0             B   \n",
       "\n",
       "       Stay_In_Current_City_Years  Marital_Status  Product_Category  Purchase  \n",
       "0                               2               0                 3      8370  \n",
       "1                               2               0                 1     15200  \n",
       "2                               2               0                12      1422  \n",
       "3                               2               0                12      1057  \n",
       "4                              4+               0                 8      7969  \n",
       "...                           ...             ...               ...       ...  \n",
       "550063                          1               1                20       368  \n",
       "550064                          3               0                20       371  \n",
       "550065                         4+               1                20       137  \n",
       "550066                          2               0                20       365  \n",
       "550067                         4+               1                20       490  \n",
       "\n",
       "[550068 rows x 10 columns]"
      ]
     },
     "execution_count": 2,
     "metadata": {},
     "output_type": "execute_result"
    }
   ],
   "source": [
    "walmart=pd.read_csv(\"walmart_data.txt\")\n",
    "walmart"
   ]
  },
  {
   "cell_type": "code",
   "execution_count": 3,
   "id": "2f6265e8",
   "metadata": {},
   "outputs": [
    {
     "data": {
      "text/html": [
       "<div>\n",
       "<style scoped>\n",
       "    .dataframe tbody tr th:only-of-type {\n",
       "        vertical-align: middle;\n",
       "    }\n",
       "\n",
       "    .dataframe tbody tr th {\n",
       "        vertical-align: top;\n",
       "    }\n",
       "\n",
       "    .dataframe thead th {\n",
       "        text-align: right;\n",
       "    }\n",
       "</style>\n",
       "<table border=\"1\" class=\"dataframe\">\n",
       "  <thead>\n",
       "    <tr style=\"text-align: right;\">\n",
       "      <th></th>\n",
       "      <th>User_ID</th>\n",
       "      <th>Product_ID</th>\n",
       "      <th>Gender</th>\n",
       "      <th>Age</th>\n",
       "      <th>Occupation</th>\n",
       "      <th>City_Category</th>\n",
       "      <th>Stay_In_Current_City_Years</th>\n",
       "      <th>Marital_Status</th>\n",
       "      <th>Product_Category</th>\n",
       "      <th>Purchase</th>\n",
       "    </tr>\n",
       "  </thead>\n",
       "  <tbody>\n",
       "    <tr>\n",
       "      <th>0</th>\n",
       "      <td>1000001</td>\n",
       "      <td>P00069042</td>\n",
       "      <td>F</td>\n",
       "      <td>0-17</td>\n",
       "      <td>10</td>\n",
       "      <td>A</td>\n",
       "      <td>2</td>\n",
       "      <td>0</td>\n",
       "      <td>3</td>\n",
       "      <td>8370</td>\n",
       "    </tr>\n",
       "    <tr>\n",
       "      <th>1</th>\n",
       "      <td>1000001</td>\n",
       "      <td>P00248942</td>\n",
       "      <td>F</td>\n",
       "      <td>0-17</td>\n",
       "      <td>10</td>\n",
       "      <td>A</td>\n",
       "      <td>2</td>\n",
       "      <td>0</td>\n",
       "      <td>1</td>\n",
       "      <td>15200</td>\n",
       "    </tr>\n",
       "    <tr>\n",
       "      <th>2</th>\n",
       "      <td>1000001</td>\n",
       "      <td>P00087842</td>\n",
       "      <td>F</td>\n",
       "      <td>0-17</td>\n",
       "      <td>10</td>\n",
       "      <td>A</td>\n",
       "      <td>2</td>\n",
       "      <td>0</td>\n",
       "      <td>12</td>\n",
       "      <td>1422</td>\n",
       "    </tr>\n",
       "    <tr>\n",
       "      <th>3</th>\n",
       "      <td>1000001</td>\n",
       "      <td>P00085442</td>\n",
       "      <td>F</td>\n",
       "      <td>0-17</td>\n",
       "      <td>10</td>\n",
       "      <td>A</td>\n",
       "      <td>2</td>\n",
       "      <td>0</td>\n",
       "      <td>12</td>\n",
       "      <td>1057</td>\n",
       "    </tr>\n",
       "    <tr>\n",
       "      <th>4</th>\n",
       "      <td>1000002</td>\n",
       "      <td>P00285442</td>\n",
       "      <td>M</td>\n",
       "      <td>55+</td>\n",
       "      <td>16</td>\n",
       "      <td>C</td>\n",
       "      <td>4+</td>\n",
       "      <td>0</td>\n",
       "      <td>8</td>\n",
       "      <td>7969</td>\n",
       "    </tr>\n",
       "  </tbody>\n",
       "</table>\n",
       "</div>"
      ],
      "text/plain": [
       "   User_ID Product_ID Gender   Age  Occupation City_Category  \\\n",
       "0  1000001  P00069042      F  0-17          10             A   \n",
       "1  1000001  P00248942      F  0-17          10             A   \n",
       "2  1000001  P00087842      F  0-17          10             A   \n",
       "3  1000001  P00085442      F  0-17          10             A   \n",
       "4  1000002  P00285442      M   55+          16             C   \n",
       "\n",
       "  Stay_In_Current_City_Years  Marital_Status  Product_Category  Purchase  \n",
       "0                          2               0                 3      8370  \n",
       "1                          2               0                 1     15200  \n",
       "2                          2               0                12      1422  \n",
       "3                          2               0                12      1057  \n",
       "4                         4+               0                 8      7969  "
      ]
     },
     "execution_count": 3,
     "metadata": {},
     "output_type": "execute_result"
    }
   ],
   "source": [
    "df=walmart.copy()\n",
    "df.head(5)"
   ]
  },
  {
   "cell_type": "code",
   "execution_count": 4,
   "id": "59bd695c",
   "metadata": {},
   "outputs": [
    {
     "data": {
      "text/plain": [
       "(550068, 10)"
      ]
     },
     "execution_count": 4,
     "metadata": {},
     "output_type": "execute_result"
    }
   ],
   "source": [
    "df.shape"
   ]
  },
  {
   "cell_type": "code",
   "execution_count": 5,
   "id": "e7df860e",
   "metadata": {},
   "outputs": [
    {
     "name": "stdout",
     "output_type": "stream",
     "text": [
      "<class 'pandas.core.frame.DataFrame'>\n",
      "RangeIndex: 550068 entries, 0 to 550067\n",
      "Data columns (total 10 columns):\n",
      " #   Column                      Non-Null Count   Dtype \n",
      "---  ------                      --------------   ----- \n",
      " 0   User_ID                     550068 non-null  int64 \n",
      " 1   Product_ID                  550068 non-null  object\n",
      " 2   Gender                      550068 non-null  object\n",
      " 3   Age                         550068 non-null  object\n",
      " 4   Occupation                  550068 non-null  int64 \n",
      " 5   City_Category               550068 non-null  object\n",
      " 6   Stay_In_Current_City_Years  550068 non-null  object\n",
      " 7   Marital_Status              550068 non-null  int64 \n",
      " 8   Product_Category            550068 non-null  int64 \n",
      " 9   Purchase                    550068 non-null  int64 \n",
      "dtypes: int64(5), object(5)\n",
      "memory usage: 42.0+ MB\n"
     ]
    }
   ],
   "source": [
    "df.info()"
   ]
  },
  {
   "cell_type": "code",
   "execution_count": 6,
   "id": "725afcb8",
   "metadata": {},
   "outputs": [
    {
     "data": {
      "text/plain": [
       "User_ID                       0.0\n",
       "Product_ID                    0.0\n",
       "Gender                        0.0\n",
       "Age                           0.0\n",
       "Occupation                    0.0\n",
       "City_Category                 0.0\n",
       "Stay_In_Current_City_Years    0.0\n",
       "Marital_Status                0.0\n",
       "Product_Category              0.0\n",
       "Purchase                      0.0\n",
       "dtype: float64"
      ]
     },
     "execution_count": 6,
     "metadata": {},
     "output_type": "execute_result"
    }
   ],
   "source": [
    "df.isnull().sum()/len(df)*100"
   ]
  },
  {
   "cell_type": "markdown",
   "id": "372bfad3",
   "metadata": {},
   "source": [
    "## **Observation-No null/missing values in data**"
   ]
  },
  {
   "cell_type": "code",
   "execution_count": 7,
   "id": "61d78215",
   "metadata": {},
   "outputs": [
    {
     "data": {
      "text/html": [
       "<div>\n",
       "<style scoped>\n",
       "    .dataframe tbody tr th:only-of-type {\n",
       "        vertical-align: middle;\n",
       "    }\n",
       "\n",
       "    .dataframe tbody tr th {\n",
       "        vertical-align: top;\n",
       "    }\n",
       "\n",
       "    .dataframe thead th {\n",
       "        text-align: right;\n",
       "    }\n",
       "</style>\n",
       "<table border=\"1\" class=\"dataframe\">\n",
       "  <thead>\n",
       "    <tr style=\"text-align: right;\">\n",
       "      <th></th>\n",
       "      <th>User_ID</th>\n",
       "      <th>Occupation</th>\n",
       "      <th>Marital_Status</th>\n",
       "      <th>Product_Category</th>\n",
       "      <th>Purchase</th>\n",
       "    </tr>\n",
       "  </thead>\n",
       "  <tbody>\n",
       "    <tr>\n",
       "      <th>count</th>\n",
       "      <td>5.500680e+05</td>\n",
       "      <td>550068.000000</td>\n",
       "      <td>550068.000000</td>\n",
       "      <td>550068.000000</td>\n",
       "      <td>550068.000000</td>\n",
       "    </tr>\n",
       "    <tr>\n",
       "      <th>mean</th>\n",
       "      <td>1.003029e+06</td>\n",
       "      <td>8.076707</td>\n",
       "      <td>0.409653</td>\n",
       "      <td>5.404270</td>\n",
       "      <td>9263.968713</td>\n",
       "    </tr>\n",
       "    <tr>\n",
       "      <th>std</th>\n",
       "      <td>1.727592e+03</td>\n",
       "      <td>6.522660</td>\n",
       "      <td>0.491770</td>\n",
       "      <td>3.936211</td>\n",
       "      <td>5023.065394</td>\n",
       "    </tr>\n",
       "    <tr>\n",
       "      <th>min</th>\n",
       "      <td>1.000001e+06</td>\n",
       "      <td>0.000000</td>\n",
       "      <td>0.000000</td>\n",
       "      <td>1.000000</td>\n",
       "      <td>12.000000</td>\n",
       "    </tr>\n",
       "    <tr>\n",
       "      <th>25%</th>\n",
       "      <td>1.001516e+06</td>\n",
       "      <td>2.000000</td>\n",
       "      <td>0.000000</td>\n",
       "      <td>1.000000</td>\n",
       "      <td>5823.000000</td>\n",
       "    </tr>\n",
       "    <tr>\n",
       "      <th>50%</th>\n",
       "      <td>1.003077e+06</td>\n",
       "      <td>7.000000</td>\n",
       "      <td>0.000000</td>\n",
       "      <td>5.000000</td>\n",
       "      <td>8047.000000</td>\n",
       "    </tr>\n",
       "    <tr>\n",
       "      <th>75%</th>\n",
       "      <td>1.004478e+06</td>\n",
       "      <td>14.000000</td>\n",
       "      <td>1.000000</td>\n",
       "      <td>8.000000</td>\n",
       "      <td>12054.000000</td>\n",
       "    </tr>\n",
       "    <tr>\n",
       "      <th>max</th>\n",
       "      <td>1.006040e+06</td>\n",
       "      <td>20.000000</td>\n",
       "      <td>1.000000</td>\n",
       "      <td>20.000000</td>\n",
       "      <td>23961.000000</td>\n",
       "    </tr>\n",
       "  </tbody>\n",
       "</table>\n",
       "</div>"
      ],
      "text/plain": [
       "            User_ID     Occupation  Marital_Status  Product_Category  \\\n",
       "count  5.500680e+05  550068.000000   550068.000000     550068.000000   \n",
       "mean   1.003029e+06       8.076707        0.409653          5.404270   \n",
       "std    1.727592e+03       6.522660        0.491770          3.936211   \n",
       "min    1.000001e+06       0.000000        0.000000          1.000000   \n",
       "25%    1.001516e+06       2.000000        0.000000          1.000000   \n",
       "50%    1.003077e+06       7.000000        0.000000          5.000000   \n",
       "75%    1.004478e+06      14.000000        1.000000          8.000000   \n",
       "max    1.006040e+06      20.000000        1.000000         20.000000   \n",
       "\n",
       "            Purchase  \n",
       "count  550068.000000  \n",
       "mean     9263.968713  \n",
       "std      5023.065394  \n",
       "min        12.000000  \n",
       "25%      5823.000000  \n",
       "50%      8047.000000  \n",
       "75%     12054.000000  \n",
       "max     23961.000000  "
      ]
     },
     "execution_count": 7,
     "metadata": {},
     "output_type": "execute_result"
    }
   ],
   "source": [
    "df.describe()"
   ]
  },
  {
   "cell_type": "code",
   "execution_count": 8,
   "id": "7279b186",
   "metadata": {},
   "outputs": [
    {
     "data": {
      "image/png": "[encoded data removed]",
      "text/plain": [
       "<Figure size 432x288 with 1 Axes>"
      ]
     },
     "metadata": {
      "needs_background": "light"
     },
     "output_type": "display_data"
    }
   ],
   "source": [
    "#Finding outliers in Purchase and removing them\n",
    "sns.boxplot(df[\"Purchase\"])\n",
    "plt.title(\"Outlier Detection in Purchase\")\n",
    "plt.show()"
   ]
  },
  {
   "cell_type": "code",
   "execution_count": 9,
   "id": "e3dc687c",
   "metadata": {},
   "outputs": [
    {
     "data": {
      "text/plain": [
       "5823.0"
      ]
     },
     "execution_count": 9,
     "metadata": {},
     "output_type": "execute_result"
    }
   ],
   "source": [
    "q1=df[\"Purchase\"].quantile(0.25)\n",
    "q1"
   ]
  },
  {
   "cell_type": "code",
   "execution_count": 10,
   "id": "51412cae",
   "metadata": {},
   "outputs": [
    {
     "data": {
      "text/plain": [
       "12054.0"
      ]
     },
     "execution_count": 10,
     "metadata": {},
     "output_type": "execute_result"
    }
   ],
   "source": [
    "q3=df[\"Purchase\"].quantile(0.75)\n",
    "q3"
   ]
  },
  {
   "cell_type": "code",
   "execution_count": 11,
   "id": "e152d27f",
   "metadata": {},
   "outputs": [
    {
     "data": {
      "text/plain": [
       "9346.5"
      ]
     },
     "execution_count": 11,
     "metadata": {},
     "output_type": "execute_result"
    }
   ],
   "source": [
    "iqr=1.5*stats.iqr(df[\"Purchase\"])\n",
    "iqr"
   ]
  },
  {
   "cell_type": "code",
   "execution_count": 12,
   "id": "dcf53295",
   "metadata": {},
   "outputs": [
    {
     "data": {
      "text/html": [
       "<div>\n",
       "<style scoped>\n",
       "    .dataframe tbody tr th:only-of-type {\n",
       "        vertical-align: middle;\n",
       "    }\n",
       "\n",
       "    .dataframe tbody tr th {\n",
       "        vertical-align: top;\n",
       "    }\n",
       "\n",
       "    .dataframe thead th {\n",
       "        text-align: right;\n",
       "    }\n",
       "</style>\n",
       "<table border=\"1\" class=\"dataframe\">\n",
       "  <thead>\n",
       "    <tr style=\"text-align: right;\">\n",
       "      <th></th>\n",
       "      <th>User_ID</th>\n",
       "      <th>Product_ID</th>\n",
       "      <th>Gender</th>\n",
       "      <th>Age</th>\n",
       "      <th>Occupation</th>\n",
       "      <th>City_Category</th>\n",
       "      <th>Stay_In_Current_City_Years</th>\n",
       "      <th>Marital_Status</th>\n",
       "      <th>Product_Category</th>\n",
       "      <th>Purchase</th>\n",
       "    </tr>\n",
       "  </thead>\n",
       "  <tbody>\n",
       "    <tr>\n",
       "      <th>343</th>\n",
       "      <td>1000058</td>\n",
       "      <td>P00117642</td>\n",
       "      <td>M</td>\n",
       "      <td>26-35</td>\n",
       "      <td>2</td>\n",
       "      <td>B</td>\n",
       "      <td>3</td>\n",
       "      <td>0</td>\n",
       "      <td>10</td>\n",
       "      <td>23603</td>\n",
       "    </tr>\n",
       "    <tr>\n",
       "      <th>375</th>\n",
       "      <td>1000062</td>\n",
       "      <td>P00119342</td>\n",
       "      <td>F</td>\n",
       "      <td>36-45</td>\n",
       "      <td>3</td>\n",
       "      <td>A</td>\n",
       "      <td>1</td>\n",
       "      <td>0</td>\n",
       "      <td>10</td>\n",
       "      <td>23792</td>\n",
       "    </tr>\n",
       "    <tr>\n",
       "      <th>652</th>\n",
       "      <td>1000126</td>\n",
       "      <td>P00087042</td>\n",
       "      <td>M</td>\n",
       "      <td>18-25</td>\n",
       "      <td>9</td>\n",
       "      <td>B</td>\n",
       "      <td>1</td>\n",
       "      <td>0</td>\n",
       "      <td>10</td>\n",
       "      <td>23233</td>\n",
       "    </tr>\n",
       "    <tr>\n",
       "      <th>736</th>\n",
       "      <td>1000139</td>\n",
       "      <td>P00159542</td>\n",
       "      <td>F</td>\n",
       "      <td>26-35</td>\n",
       "      <td>20</td>\n",
       "      <td>C</td>\n",
       "      <td>2</td>\n",
       "      <td>0</td>\n",
       "      <td>10</td>\n",
       "      <td>23595</td>\n",
       "    </tr>\n",
       "    <tr>\n",
       "      <th>1041</th>\n",
       "      <td>1000175</td>\n",
       "      <td>P00052842</td>\n",
       "      <td>F</td>\n",
       "      <td>26-35</td>\n",
       "      <td>2</td>\n",
       "      <td>B</td>\n",
       "      <td>1</td>\n",
       "      <td>0</td>\n",
       "      <td>10</td>\n",
       "      <td>23341</td>\n",
       "    </tr>\n",
       "    <tr>\n",
       "      <th>...</th>\n",
       "      <td>...</td>\n",
       "      <td>...</td>\n",
       "      <td>...</td>\n",
       "      <td>...</td>\n",
       "      <td>...</td>\n",
       "      <td>...</td>\n",
       "      <td>...</td>\n",
       "      <td>...</td>\n",
       "      <td>...</td>\n",
       "      <td>...</td>\n",
       "    </tr>\n",
       "    <tr>\n",
       "      <th>544488</th>\n",
       "      <td>1005815</td>\n",
       "      <td>P00116142</td>\n",
       "      <td>M</td>\n",
       "      <td>26-35</td>\n",
       "      <td>20</td>\n",
       "      <td>B</td>\n",
       "      <td>1</td>\n",
       "      <td>0</td>\n",
       "      <td>10</td>\n",
       "      <td>23753</td>\n",
       "    </tr>\n",
       "    <tr>\n",
       "      <th>544704</th>\n",
       "      <td>1005847</td>\n",
       "      <td>P00085342</td>\n",
       "      <td>F</td>\n",
       "      <td>18-25</td>\n",
       "      <td>4</td>\n",
       "      <td>B</td>\n",
       "      <td>2</td>\n",
       "      <td>0</td>\n",
       "      <td>10</td>\n",
       "      <td>23724</td>\n",
       "    </tr>\n",
       "    <tr>\n",
       "      <th>544743</th>\n",
       "      <td>1005852</td>\n",
       "      <td>P00202242</td>\n",
       "      <td>F</td>\n",
       "      <td>26-35</td>\n",
       "      <td>1</td>\n",
       "      <td>A</td>\n",
       "      <td>0</td>\n",
       "      <td>1</td>\n",
       "      <td>10</td>\n",
       "      <td>23529</td>\n",
       "    </tr>\n",
       "    <tr>\n",
       "      <th>545663</th>\n",
       "      <td>1006002</td>\n",
       "      <td>P00116142</td>\n",
       "      <td>M</td>\n",
       "      <td>51-55</td>\n",
       "      <td>0</td>\n",
       "      <td>C</td>\n",
       "      <td>1</td>\n",
       "      <td>1</td>\n",
       "      <td>10</td>\n",
       "      <td>23663</td>\n",
       "    </tr>\n",
       "    <tr>\n",
       "      <th>545787</th>\n",
       "      <td>1006018</td>\n",
       "      <td>P00052842</td>\n",
       "      <td>M</td>\n",
       "      <td>36-45</td>\n",
       "      <td>1</td>\n",
       "      <td>C</td>\n",
       "      <td>3</td>\n",
       "      <td>0</td>\n",
       "      <td>10</td>\n",
       "      <td>23496</td>\n",
       "    </tr>\n",
       "  </tbody>\n",
       "</table>\n",
       "<p>2677 rows × 10 columns</p>\n",
       "</div>"
      ],
      "text/plain": [
       "        User_ID Product_ID Gender    Age  Occupation City_Category  \\\n",
       "343     1000058  P00117642      M  26-35           2             B   \n",
       "375     1000062  P00119342      F  36-45           3             A   \n",
       "652     1000126  P00087042      M  18-25           9             B   \n",
       "736     1000139  P00159542      F  26-35          20             C   \n",
       "1041    1000175  P00052842      F  26-35           2             B   \n",
       "...         ...        ...    ...    ...         ...           ...   \n",
       "544488  1005815  P00116142      M  26-35          20             B   \n",
       "544704  1005847  P00085342      F  18-25           4             B   \n",
       "544743  1005852  P00202242      F  26-35           1             A   \n",
       "545663  1006002  P00116142      M  51-55           0             C   \n",
       "545787  1006018  P00052842      M  36-45           1             C   \n",
       "\n",
       "       Stay_In_Current_City_Years  Marital_Status  Product_Category  Purchase  \n",
       "343                             3               0                10     23603  \n",
       "375                             1               0                10     23792  \n",
       "652                             1               0                10     23233  \n",
       "736                             2               0                10     23595  \n",
       "1041                            1               0                10     23341  \n",
       "...                           ...             ...               ...       ...  \n",
       "544488                          1               0                10     23753  \n",
       "544704                          2               0                10     23724  \n",
       "544743                          0               1                10     23529  \n",
       "545663                          1               1                10     23663  \n",
       "545787                          3               0                10     23496  \n",
       "\n",
       "[2677 rows x 10 columns]"
      ]
     },
     "execution_count": 12,
     "metadata": {},
     "output_type": "execute_result"
    }
   ],
   "source": [
    "df.loc[(df[\"Purchase\"]<q1-iqr) | (df[\"Purchase\"]>q3+iqr)]"
   ]
  },
  {
   "cell_type": "markdown",
   "id": "e88ffcc4",
   "metadata": {},
   "source": [
    "## **Observation 0.4% data in Purchase are outliers hence will remove them to get proper EDA**"
   ]
  },
  {
   "cell_type": "code",
   "execution_count": 13,
   "id": "2dea7eb4",
   "metadata": {},
   "outputs": [
    {
     "data": {
      "text/plain": [
       "(547391, 10)"
      ]
     },
     "execution_count": 13,
     "metadata": {},
     "output_type": "execute_result"
    }
   ],
   "source": [
    "#Outlier Removal\n",
    "df=df.loc[(df[\"Purchase\"]>=q1-iqr) & (df[\"Purchase\"]<=q3+iqr)]\n",
    "df.shape"
   ]
  },
  {
   "cell_type": "code",
   "execution_count": 14,
   "id": "04f3f75f",
   "metadata": {},
   "outputs": [
    {
     "data": {
      "text/html": [
       "<div>\n",
       "<style scoped>\n",
       "    .dataframe tbody tr th:only-of-type {\n",
       "        vertical-align: middle;\n",
       "    }\n",
       "\n",
       "    .dataframe tbody tr th {\n",
       "        vertical-align: top;\n",
       "    }\n",
       "\n",
       "    .dataframe thead th {\n",
       "        text-align: right;\n",
       "    }\n",
       "</style>\n",
       "<table border=\"1\" class=\"dataframe\">\n",
       "  <thead>\n",
       "    <tr style=\"text-align: right;\">\n",
       "      <th></th>\n",
       "      <th>User_ID</th>\n",
       "      <th>Occupation</th>\n",
       "      <th>Marital_Status</th>\n",
       "      <th>Product_Category</th>\n",
       "      <th>Purchase</th>\n",
       "    </tr>\n",
       "  </thead>\n",
       "  <tbody>\n",
       "    <tr>\n",
       "      <th>count</th>\n",
       "      <td>5.473910e+05</td>\n",
       "      <td>547391.000000</td>\n",
       "      <td>547391.000000</td>\n",
       "      <td>547391.000000</td>\n",
       "      <td>547391.000000</td>\n",
       "    </tr>\n",
       "    <tr>\n",
       "      <th>mean</th>\n",
       "      <td>1.003028e+06</td>\n",
       "      <td>8.074627</td>\n",
       "      <td>0.409486</td>\n",
       "      <td>5.378945</td>\n",
       "      <td>9195.627195</td>\n",
       "    </tr>\n",
       "    <tr>\n",
       "      <th>std</th>\n",
       "      <td>1.727357e+03</td>\n",
       "      <td>6.521586</td>\n",
       "      <td>0.491739</td>\n",
       "      <td>3.927383</td>\n",
       "      <td>4938.872953</td>\n",
       "    </tr>\n",
       "    <tr>\n",
       "      <th>min</th>\n",
       "      <td>1.000001e+06</td>\n",
       "      <td>0.000000</td>\n",
       "      <td>0.000000</td>\n",
       "      <td>1.000000</td>\n",
       "      <td>12.000000</td>\n",
       "    </tr>\n",
       "    <tr>\n",
       "      <th>25%</th>\n",
       "      <td>1.001516e+06</td>\n",
       "      <td>2.000000</td>\n",
       "      <td>0.000000</td>\n",
       "      <td>1.000000</td>\n",
       "      <td>5721.000000</td>\n",
       "    </tr>\n",
       "    <tr>\n",
       "      <th>50%</th>\n",
       "      <td>1.003075e+06</td>\n",
       "      <td>7.000000</td>\n",
       "      <td>0.000000</td>\n",
       "      <td>5.000000</td>\n",
       "      <td>8038.000000</td>\n",
       "    </tr>\n",
       "    <tr>\n",
       "      <th>75%</th>\n",
       "      <td>1.004478e+06</td>\n",
       "      <td>14.000000</td>\n",
       "      <td>1.000000</td>\n",
       "      <td>8.000000</td>\n",
       "      <td>12019.000000</td>\n",
       "    </tr>\n",
       "    <tr>\n",
       "      <th>max</th>\n",
       "      <td>1.006040e+06</td>\n",
       "      <td>20.000000</td>\n",
       "      <td>1.000000</td>\n",
       "      <td>20.000000</td>\n",
       "      <td>21399.000000</td>\n",
       "    </tr>\n",
       "  </tbody>\n",
       "</table>\n",
       "</div>"
      ],
      "text/plain": [
       "            User_ID     Occupation  Marital_Status  Product_Category  \\\n",
       "count  5.473910e+05  547391.000000   547391.000000     547391.000000   \n",
       "mean   1.003028e+06       8.074627        0.409486          5.378945   \n",
       "std    1.727357e+03       6.521586        0.491739          3.927383   \n",
       "min    1.000001e+06       0.000000        0.000000          1.000000   \n",
       "25%    1.001516e+06       2.000000        0.000000          1.000000   \n",
       "50%    1.003075e+06       7.000000        0.000000          5.000000   \n",
       "75%    1.004478e+06      14.000000        1.000000          8.000000   \n",
       "max    1.006040e+06      20.000000        1.000000         20.000000   \n",
       "\n",
       "            Purchase  \n",
       "count  547391.000000  \n",
       "mean     9195.627195  \n",
       "std      4938.872953  \n",
       "min        12.000000  \n",
       "25%      5721.000000  \n",
       "50%      8038.000000  \n",
       "75%     12019.000000  \n",
       "max     21399.000000  "
      ]
     },
     "execution_count": 14,
     "metadata": {},
     "output_type": "execute_result"
    }
   ],
   "source": [
    "#Statistical Info after Outlier removal in Purchase\n",
    "df.describe()"
   ]
  },
  {
   "cell_type": "code",
   "execution_count": 15,
   "id": "6e676996",
   "metadata": {},
   "outputs": [
    {
     "data": {
      "text/plain": [
       "26-35    218661\n",
       "36-45    109409\n",
       "18-25     99334\n",
       "46-50     45442\n",
       "51-55     38191\n",
       "55+       21322\n",
       "0-17      15032\n",
       "Name: Age, dtype: int64"
      ]
     },
     "execution_count": 15,
     "metadata": {},
     "output_type": "execute_result"
    }
   ],
   "source": [
    "#some basic analysis on the metrics to be used .Finding their unique values and counts\n",
    "df[\"Age\"].value_counts()"
   ]
  },
  {
   "cell_type": "code",
   "execution_count": 16,
   "id": "b61ccec5",
   "metadata": {},
   "outputs": [
    {
     "data": {
      "text/plain": [
       "Product_Category\n",
       "1     140378\n",
       "2      23864\n",
       "3      20213\n",
       "4      11753\n",
       "5     150933\n",
       "6      20466\n",
       "7       3721\n",
       "8     113925\n",
       "9        335\n",
       "10      2850\n",
       "11     24287\n",
       "12      3947\n",
       "13      5549\n",
       "14      1523\n",
       "15      5963\n",
       "16      9828\n",
       "17       578\n",
       "18      3125\n",
       "19      1603\n",
       "20      2550\n",
       "Name: Product_Category, dtype: int64"
      ]
     },
     "execution_count": 16,
     "metadata": {},
     "output_type": "execute_result"
    }
   ],
   "source": [
    "df.groupby(\"Product_Category\")[\"Product_Category\"].count()"
   ]
  },
  {
   "cell_type": "code",
   "execution_count": 17,
   "id": "318e4e0c",
   "metadata": {},
   "outputs": [
    {
     "data": {
      "text/plain": [
       "Gender\n",
       "F    135220\n",
       "M    412171\n",
       "Name: Gender, dtype: int64"
      ]
     },
     "execution_count": 17,
     "metadata": {},
     "output_type": "execute_result"
    }
   ],
   "source": [
    "df.groupby([\"Gender\"])[\"Gender\"].count()"
   ]
  },
  {
   "cell_type": "markdown",
   "id": "46897d92",
   "metadata": {},
   "source": [
    "## **Observation-After outlier removal the sample has data of 135220 female and 412171 male users in different  7 different age groups as listed above.Ther are purchases made in 20 different Product categories**"
   ]
  },
  {
   "cell_type": "code",
   "execution_count": 288,
   "id": "3b22e3ee",
   "metadata": {},
   "outputs": [
    {
     "data": {
      "image/png": "[encoded data removed]",
      "text/plain": [
       "<Figure size 576x360 with 1 Axes>"
      ]
     },
     "metadata": {
      "needs_background": "light"
     },
     "output_type": "display_data"
    }
   ],
   "source": [
    "sns.countplot(x=\"Product_Category\",data=df,hue=\"Gender\")\n",
    "plt.rcParams[\"figure.figsize\"] = (5,5)\n",
    "colors = [ \"#EA3680\",\"#00129A\"]\n",
    "plt.title(\"Gender & Product wise Purchasing Trend \")\n",
    "sns.set_palette(sns.color_palette(colors))"
   ]
  },
  {
   "cell_type": "markdown",
   "id": "ff8e03bf",
   "metadata": {},
   "source": [
    "## **Observation-Number of Purchases are more for Males and its in Product Category 1,5,8**"
   ]
  },
  {
   "cell_type": "code",
   "execution_count": 19,
   "id": "8041480c",
   "metadata": {},
   "outputs": [],
   "source": [
    "df.insert(10,\"MaritalStatus\",'')"
   ]
  },
  {
   "cell_type": "code",
   "execution_count": 20,
   "id": "7cdaf74d",
   "metadata": {},
   "outputs": [],
   "source": [
    "idx=df.loc[df[\"Marital_Status\"]==0].index\n",
    "df.loc[idx,[\"MaritalStatus\"]]=\"Single\""
   ]
  },
  {
   "cell_type": "code",
   "execution_count": 21,
   "id": "f786370b",
   "metadata": {},
   "outputs": [],
   "source": [
    "idx=df.loc[df[\"Marital_Status\"]==1].index\n",
    "df.loc[idx,[\"MaritalStatus\"]]=\"Married\""
   ]
  },
  {
   "cell_type": "code",
   "execution_count": 234,
   "id": "e55611b1",
   "metadata": {},
   "outputs": [
    {
     "data": {
      "text/html": [
       "<div>\n",
       "<style scoped>\n",
       "    .dataframe tbody tr th:only-of-type {\n",
       "        vertical-align: middle;\n",
       "    }\n",
       "\n",
       "    .dataframe tbody tr th {\n",
       "        vertical-align: top;\n",
       "    }\n",
       "\n",
       "    .dataframe thead tr th {\n",
       "        text-align: left;\n",
       "    }\n",
       "\n",
       "    .dataframe thead tr:last-of-type th {\n",
       "        text-align: right;\n",
       "    }\n",
       "</style>\n",
       "<table border=\"1\" class=\"dataframe\">\n",
       "  <thead>\n",
       "    <tr>\n",
       "      <th>Age</th>\n",
       "      <th>0-17</th>\n",
       "      <th colspan=\"2\" halign=\"left\">18-25</th>\n",
       "      <th colspan=\"2\" halign=\"left\">26-35</th>\n",
       "      <th colspan=\"2\" halign=\"left\">36-45</th>\n",
       "      <th colspan=\"2\" halign=\"left\">46-50</th>\n",
       "      <th colspan=\"2\" halign=\"left\">51-55</th>\n",
       "      <th colspan=\"2\" halign=\"left\">55+</th>\n",
       "    </tr>\n",
       "    <tr>\n",
       "      <th>MaritalStatus</th>\n",
       "      <th>Single</th>\n",
       "      <th>Married</th>\n",
       "      <th>Single</th>\n",
       "      <th>Married</th>\n",
       "      <th>Single</th>\n",
       "      <th>Married</th>\n",
       "      <th>Single</th>\n",
       "      <th>Married</th>\n",
       "      <th>Single</th>\n",
       "      <th>Married</th>\n",
       "      <th>Single</th>\n",
       "      <th>Married</th>\n",
       "      <th>Single</th>\n",
       "    </tr>\n",
       "    <tr>\n",
       "      <th>Gender</th>\n",
       "      <th></th>\n",
       "      <th></th>\n",
       "      <th></th>\n",
       "      <th></th>\n",
       "      <th></th>\n",
       "      <th></th>\n",
       "      <th></th>\n",
       "      <th></th>\n",
       "      <th></th>\n",
       "      <th></th>\n",
       "      <th></th>\n",
       "      <th></th>\n",
       "      <th></th>\n",
       "    </tr>\n",
       "  </thead>\n",
       "  <tbody>\n",
       "    <tr>\n",
       "      <th>F</th>\n",
       "      <td>8276.806993</td>\n",
       "      <td>7906.885212</td>\n",
       "      <td>8454.645605</td>\n",
       "      <td>8855.320570</td>\n",
       "      <td>8547.536707</td>\n",
       "      <td>8775.970088</td>\n",
       "      <td>8959.602583</td>\n",
       "      <td>8796.934195</td>\n",
       "      <td>8697.189404</td>\n",
       "      <td>8891.257535</td>\n",
       "      <td>8992.112302</td>\n",
       "      <td>8965.655534</td>\n",
       "      <td>8664.879045</td>\n",
       "    </tr>\n",
       "    <tr>\n",
       "      <th>M</th>\n",
       "      <td>9167.328686</td>\n",
       "      <td>9383.981537</td>\n",
       "      <td>9391.474502</td>\n",
       "      <td>9301.603198</td>\n",
       "      <td>9380.897651</td>\n",
       "      <td>9257.660794</td>\n",
       "      <td>9451.817399</td>\n",
       "      <td>9420.534880</td>\n",
       "      <td>8918.991751</td>\n",
       "      <td>9566.047927</td>\n",
       "      <td>9678.182273</td>\n",
       "      <td>9138.287396</td>\n",
       "      <td>9661.973360</td>\n",
       "    </tr>\n",
       "  </tbody>\n",
       "</table>\n",
       "</div>"
      ],
      "text/plain": [
       "Age                   0-17        18-25                     26-35  \\\n",
       "MaritalStatus       Single      Married       Single      Married   \n",
       "Gender                                                              \n",
       "F              8276.806993  7906.885212  8454.645605  8855.320570   \n",
       "M              9167.328686  9383.981537  9391.474502  9301.603198   \n",
       "\n",
       "Age                               36-45                     46-50  \\\n",
       "MaritalStatus       Single      Married       Single      Married   \n",
       "Gender                                                              \n",
       "F              8547.536707  8775.970088  8959.602583  8796.934195   \n",
       "M              9380.897651  9257.660794  9451.817399  9420.534880   \n",
       "\n",
       "Age                               51-55                       55+               \n",
       "MaritalStatus       Single      Married       Single      Married       Single  \n",
       "Gender                                                                          \n",
       "F              8697.189404  8891.257535  8992.112302  8965.655534  8664.879045  \n",
       "M              8918.991751  9566.047927  9678.182273  9138.287396  9661.973360  "
      ]
     },
     "execution_count": 234,
     "metadata": {},
     "output_type": "execute_result"
    }
   ],
   "source": [
    "pd.crosstab(index=df[\"Gender\"],columns=[df[\"Age\"],df[\"MaritalStatus\"]],values=df[\"Purchase\"],aggfunc=\"mean\")"
   ]
  },
  {
   "cell_type": "code",
   "execution_count": 292,
   "id": "7508be38",
   "metadata": {},
   "outputs": [
    {
     "data": {
      "image/png": "[encoded data removed]",
      "text/plain": [
       "<Figure size 576x360 with 2 Axes>"
      ]
     },
     "metadata": {
      "needs_background": "light"
     },
     "output_type": "display_data"
    }
   ],
   "source": [
    "s=pd.crosstab(index=df[\"Gender\"],columns=[df[\"Age\"],df[\"MaritalStatus\"]],values=df[\"Purchase\"],aggfunc=\"mean\")\n",
    "sns.heatmap(s)\n",
    "plt.rcParams[\"figure.figsize\"] = (8,8)\n",
    "plt.title(\"Gender-Age-MaritalStatus Purchase Trends\")\n",
    "\n",
    "plt.show()"
   ]
  },
  {
   "cell_type": "markdown",
   "id": "3632cd4b",
   "metadata": {},
   "source": [
    "## **Observation-Its interesting to note that for males till 45 years age groups people who are single tends to spend more ,But from 46 years age groups the married people have more purchases.As far a Females are considered, till 25 years of age they spend less but after this age their purchasing trend is quite similar wether they are married or not .**"
   ]
  },
  {
   "cell_type": "code",
   "execution_count": 25,
   "id": "1f0b84e8",
   "metadata": {},
   "outputs": [
    {
     "data": {
      "text/plain": [
       "City_Category  Stay_In_Current_City_Years  Stay_In_Current_City_Years\n",
       "A              0                           0                              4.394300\n",
       "               1                           1                              8.967813\n",
       "               2                           2                              4.931210\n",
       "               3                           3                              4.507747\n",
       "               4+                          4+                             4.060169\n",
       "B              0                           0                              5.218756\n",
       "               1                           1                             15.161557\n",
       "               2                           2                              7.601331\n",
       "               3                           3                              7.763007\n",
       "               4+                          4+                             6.293673\n",
       "C              0                           0                              3.912194\n",
       "               1                           1                             11.100475\n",
       "               2                           2                              5.988772\n",
       "               3                           3                              5.048494\n",
       "               4+                          4+                             5.050503\n",
       "Name: Stay_In_Current_City_Years, dtype: float64"
      ]
     },
     "execution_count": 25,
     "metadata": {},
     "output_type": "execute_result"
    }
   ],
   "source": [
    "df.groupby([\"City_Category\",\"Stay_In_Current_City_Years\"])[\"Stay_In_Current_City_Years\"].value_counts()*100/len(df)"
   ]
  },
  {
   "cell_type": "code",
   "execution_count": 26,
   "id": "5ebb9ebc",
   "metadata": {},
   "outputs": [
    {
     "data": {
      "image/png": "[encoded data removed]",
      "text/plain": [
       "<Figure size 1008x576 with 1 Axes>"
      ]
     },
     "metadata": {
      "needs_background": "light"
     },
     "output_type": "display_data"
    }
   ],
   "source": [
    "xorder=['0','1','2','3','4+']\n",
    "sns.countplot(df[\"Stay_In_Current_City_Years\"],hue=df[\"City_Category\"],order=xorder)\n",
    "plt.title(\"Purchase trend in different City along with years of stay\")\n",
    "plt.show()\n"
   ]
  },
  {
   "cell_type": "markdown",
   "id": "92b0b7a2",
   "metadata": {},
   "source": [
    "## **Observation-Above plot shows that most of the purchases are done from city B regardless of the number of years of stay in that city.People with less than 1 year of stay has made least Number of  of purchases**"
   ]
  },
  {
   "cell_type": "markdown",
   "id": "57b2efc9",
   "metadata": {},
   "source": [
    "## **Recommendation-The number of purchases from city A and C are less compared to B .Perhaps the number of stores/outlets are less in these cities.Walmart can open more outlets here to improve Business**"
   ]
  },
  {
   "cell_type": "markdown",
   "id": "93b213cd",
   "metadata": {},
   "source": [
    "# **Male Vs Female**"
   ]
  },
  {
   "cell_type": "code",
   "execution_count": 27,
   "id": "b9a81944",
   "metadata": {},
   "outputs": [
    {
     "data": {
      "text/html": [
       "<div>\n",
       "<style scoped>\n",
       "    .dataframe tbody tr th:only-of-type {\n",
       "        vertical-align: middle;\n",
       "    }\n",
       "\n",
       "    .dataframe tbody tr th {\n",
       "        vertical-align: top;\n",
       "    }\n",
       "\n",
       "    .dataframe thead th {\n",
       "        text-align: right;\n",
       "    }\n",
       "</style>\n",
       "<table border=\"1\" class=\"dataframe\">\n",
       "  <thead>\n",
       "    <tr style=\"text-align: right;\">\n",
       "      <th></th>\n",
       "      <th>User_ID</th>\n",
       "      <th>Product_ID</th>\n",
       "      <th>Gender</th>\n",
       "      <th>Age</th>\n",
       "      <th>Occupation</th>\n",
       "      <th>City_Category</th>\n",
       "      <th>Stay_In_Current_City_Years</th>\n",
       "      <th>Marital_Status</th>\n",
       "      <th>Product_Category</th>\n",
       "      <th>Purchase</th>\n",
       "      <th>MaritalStatus</th>\n",
       "    </tr>\n",
       "  </thead>\n",
       "  <tbody>\n",
       "    <tr>\n",
       "      <th>0</th>\n",
       "      <td>1000001</td>\n",
       "      <td>P00069042</td>\n",
       "      <td>F</td>\n",
       "      <td>0-17</td>\n",
       "      <td>10</td>\n",
       "      <td>A</td>\n",
       "      <td>2</td>\n",
       "      <td>0</td>\n",
       "      <td>3</td>\n",
       "      <td>8370</td>\n",
       "      <td>Single</td>\n",
       "    </tr>\n",
       "    <tr>\n",
       "      <th>1</th>\n",
       "      <td>1000001</td>\n",
       "      <td>P00248942</td>\n",
       "      <td>F</td>\n",
       "      <td>0-17</td>\n",
       "      <td>10</td>\n",
       "      <td>A</td>\n",
       "      <td>2</td>\n",
       "      <td>0</td>\n",
       "      <td>1</td>\n",
       "      <td>15200</td>\n",
       "      <td>Single</td>\n",
       "    </tr>\n",
       "    <tr>\n",
       "      <th>2</th>\n",
       "      <td>1000001</td>\n",
       "      <td>P00087842</td>\n",
       "      <td>F</td>\n",
       "      <td>0-17</td>\n",
       "      <td>10</td>\n",
       "      <td>A</td>\n",
       "      <td>2</td>\n",
       "      <td>0</td>\n",
       "      <td>12</td>\n",
       "      <td>1422</td>\n",
       "      <td>Single</td>\n",
       "    </tr>\n",
       "    <tr>\n",
       "      <th>3</th>\n",
       "      <td>1000001</td>\n",
       "      <td>P00085442</td>\n",
       "      <td>F</td>\n",
       "      <td>0-17</td>\n",
       "      <td>10</td>\n",
       "      <td>A</td>\n",
       "      <td>2</td>\n",
       "      <td>0</td>\n",
       "      <td>12</td>\n",
       "      <td>1057</td>\n",
       "      <td>Single</td>\n",
       "    </tr>\n",
       "    <tr>\n",
       "      <th>4</th>\n",
       "      <td>1000006</td>\n",
       "      <td>P00231342</td>\n",
       "      <td>F</td>\n",
       "      <td>51-55</td>\n",
       "      <td>9</td>\n",
       "      <td>A</td>\n",
       "      <td>1</td>\n",
       "      <td>0</td>\n",
       "      <td>5</td>\n",
       "      <td>5378</td>\n",
       "      <td>Single</td>\n",
       "    </tr>\n",
       "    <tr>\n",
       "      <th>...</th>\n",
       "      <td>...</td>\n",
       "      <td>...</td>\n",
       "      <td>...</td>\n",
       "      <td>...</td>\n",
       "      <td>...</td>\n",
       "      <td>...</td>\n",
       "      <td>...</td>\n",
       "      <td>...</td>\n",
       "      <td>...</td>\n",
       "      <td>...</td>\n",
       "      <td>...</td>\n",
       "    </tr>\n",
       "    <tr>\n",
       "      <th>135215</th>\n",
       "      <td>1006029</td>\n",
       "      <td>P00372445</td>\n",
       "      <td>F</td>\n",
       "      <td>26-35</td>\n",
       "      <td>1</td>\n",
       "      <td>C</td>\n",
       "      <td>1</td>\n",
       "      <td>1</td>\n",
       "      <td>20</td>\n",
       "      <td>599</td>\n",
       "      <td>Married</td>\n",
       "    </tr>\n",
       "    <tr>\n",
       "      <th>135216</th>\n",
       "      <td>1006035</td>\n",
       "      <td>P00375436</td>\n",
       "      <td>F</td>\n",
       "      <td>26-35</td>\n",
       "      <td>1</td>\n",
       "      <td>C</td>\n",
       "      <td>3</td>\n",
       "      <td>0</td>\n",
       "      <td>20</td>\n",
       "      <td>371</td>\n",
       "      <td>Single</td>\n",
       "    </tr>\n",
       "    <tr>\n",
       "      <th>135217</th>\n",
       "      <td>1006036</td>\n",
       "      <td>P00375436</td>\n",
       "      <td>F</td>\n",
       "      <td>26-35</td>\n",
       "      <td>15</td>\n",
       "      <td>B</td>\n",
       "      <td>4+</td>\n",
       "      <td>1</td>\n",
       "      <td>20</td>\n",
       "      <td>137</td>\n",
       "      <td>Married</td>\n",
       "    </tr>\n",
       "    <tr>\n",
       "      <th>135218</th>\n",
       "      <td>1006038</td>\n",
       "      <td>P00375436</td>\n",
       "      <td>F</td>\n",
       "      <td>55+</td>\n",
       "      <td>1</td>\n",
       "      <td>C</td>\n",
       "      <td>2</td>\n",
       "      <td>0</td>\n",
       "      <td>20</td>\n",
       "      <td>365</td>\n",
       "      <td>Single</td>\n",
       "    </tr>\n",
       "    <tr>\n",
       "      <th>135219</th>\n",
       "      <td>1006039</td>\n",
       "      <td>P00371644</td>\n",
       "      <td>F</td>\n",
       "      <td>46-50</td>\n",
       "      <td>0</td>\n",
       "      <td>B</td>\n",
       "      <td>4+</td>\n",
       "      <td>1</td>\n",
       "      <td>20</td>\n",
       "      <td>490</td>\n",
       "      <td>Married</td>\n",
       "    </tr>\n",
       "  </tbody>\n",
       "</table>\n",
       "<p>135220 rows × 11 columns</p>\n",
       "</div>"
      ],
      "text/plain": [
       "        User_ID Product_ID Gender    Age  Occupation City_Category  \\\n",
       "0       1000001  P00069042      F   0-17          10             A   \n",
       "1       1000001  P00248942      F   0-17          10             A   \n",
       "2       1000001  P00087842      F   0-17          10             A   \n",
       "3       1000001  P00085442      F   0-17          10             A   \n",
       "4       1000006  P00231342      F  51-55           9             A   \n",
       "...         ...        ...    ...    ...         ...           ...   \n",
       "135215  1006029  P00372445      F  26-35           1             C   \n",
       "135216  1006035  P00375436      F  26-35           1             C   \n",
       "135217  1006036  P00375436      F  26-35          15             B   \n",
       "135218  1006038  P00375436      F    55+           1             C   \n",
       "135219  1006039  P00371644      F  46-50           0             B   \n",
       "\n",
       "       Stay_In_Current_City_Years  Marital_Status  Product_Category  Purchase  \\\n",
       "0                               2               0                 3      8370   \n",
       "1                               2               0                 1     15200   \n",
       "2                               2               0                12      1422   \n",
       "3                               2               0                12      1057   \n",
       "4                               1               0                 5      5378   \n",
       "...                           ...             ...               ...       ...   \n",
       "135215                          1               1                20       599   \n",
       "135216                          3               0                20       371   \n",
       "135217                         4+               1                20       137   \n",
       "135218                          2               0                20       365   \n",
       "135219                         4+               1                20       490   \n",
       "\n",
       "       MaritalStatus  \n",
       "0             Single  \n",
       "1             Single  \n",
       "2             Single  \n",
       "3             Single  \n",
       "4             Single  \n",
       "...              ...  \n",
       "135215       Married  \n",
       "135216        Single  \n",
       "135217       Married  \n",
       "135218        Single  \n",
       "135219       Married  \n",
       "\n",
       "[135220 rows x 11 columns]"
      ]
     },
     "execution_count": 27,
     "metadata": {},
     "output_type": "execute_result"
    }
   ],
   "source": [
    "# Separating the male and female purchases into two data frames \n",
    "df_f=df.loc[df[\"Gender\"]=='F']\n",
    "df_f.reset_index(inplace=True)\n",
    "df_f.drop(\"index\",axis=1,inplace=True)\n",
    "df_f"
   ]
  },
  {
   "cell_type": "code",
   "execution_count": 28,
   "id": "faa79781",
   "metadata": {},
   "outputs": [
    {
     "data": {
      "text/html": [
       "<div>\n",
       "<style scoped>\n",
       "    .dataframe tbody tr th:only-of-type {\n",
       "        vertical-align: middle;\n",
       "    }\n",
       "\n",
       "    .dataframe tbody tr th {\n",
       "        vertical-align: top;\n",
       "    }\n",
       "\n",
       "    .dataframe thead th {\n",
       "        text-align: right;\n",
       "    }\n",
       "</style>\n",
       "<table border=\"1\" class=\"dataframe\">\n",
       "  <thead>\n",
       "    <tr style=\"text-align: right;\">\n",
       "      <th></th>\n",
       "      <th>User_ID</th>\n",
       "      <th>Product_ID</th>\n",
       "      <th>Gender</th>\n",
       "      <th>Age</th>\n",
       "      <th>Occupation</th>\n",
       "      <th>City_Category</th>\n",
       "      <th>Stay_In_Current_City_Years</th>\n",
       "      <th>Marital_Status</th>\n",
       "      <th>Product_Category</th>\n",
       "      <th>Purchase</th>\n",
       "      <th>MaritalStatus</th>\n",
       "    </tr>\n",
       "  </thead>\n",
       "  <tbody>\n",
       "    <tr>\n",
       "      <th>0</th>\n",
       "      <td>1000002</td>\n",
       "      <td>P00285442</td>\n",
       "      <td>M</td>\n",
       "      <td>55+</td>\n",
       "      <td>16</td>\n",
       "      <td>C</td>\n",
       "      <td>4+</td>\n",
       "      <td>0</td>\n",
       "      <td>8</td>\n",
       "      <td>7969</td>\n",
       "      <td>Single</td>\n",
       "    </tr>\n",
       "    <tr>\n",
       "      <th>1</th>\n",
       "      <td>1000003</td>\n",
       "      <td>P00193542</td>\n",
       "      <td>M</td>\n",
       "      <td>26-35</td>\n",
       "      <td>15</td>\n",
       "      <td>A</td>\n",
       "      <td>3</td>\n",
       "      <td>0</td>\n",
       "      <td>1</td>\n",
       "      <td>15227</td>\n",
       "      <td>Single</td>\n",
       "    </tr>\n",
       "    <tr>\n",
       "      <th>2</th>\n",
       "      <td>1000004</td>\n",
       "      <td>P00184942</td>\n",
       "      <td>M</td>\n",
       "      <td>46-50</td>\n",
       "      <td>7</td>\n",
       "      <td>B</td>\n",
       "      <td>2</td>\n",
       "      <td>1</td>\n",
       "      <td>1</td>\n",
       "      <td>19215</td>\n",
       "      <td>Married</td>\n",
       "    </tr>\n",
       "    <tr>\n",
       "      <th>3</th>\n",
       "      <td>1000004</td>\n",
       "      <td>P00346142</td>\n",
       "      <td>M</td>\n",
       "      <td>46-50</td>\n",
       "      <td>7</td>\n",
       "      <td>B</td>\n",
       "      <td>2</td>\n",
       "      <td>1</td>\n",
       "      <td>1</td>\n",
       "      <td>15854</td>\n",
       "      <td>Married</td>\n",
       "    </tr>\n",
       "    <tr>\n",
       "      <th>4</th>\n",
       "      <td>1000004</td>\n",
       "      <td>P0097242</td>\n",
       "      <td>M</td>\n",
       "      <td>46-50</td>\n",
       "      <td>7</td>\n",
       "      <td>B</td>\n",
       "      <td>2</td>\n",
       "      <td>1</td>\n",
       "      <td>1</td>\n",
       "      <td>15686</td>\n",
       "      <td>Married</td>\n",
       "    </tr>\n",
       "    <tr>\n",
       "      <th>...</th>\n",
       "      <td>...</td>\n",
       "      <td>...</td>\n",
       "      <td>...</td>\n",
       "      <td>...</td>\n",
       "      <td>...</td>\n",
       "      <td>...</td>\n",
       "      <td>...</td>\n",
       "      <td>...</td>\n",
       "      <td>...</td>\n",
       "      <td>...</td>\n",
       "      <td>...</td>\n",
       "    </tr>\n",
       "    <tr>\n",
       "      <th>412166</th>\n",
       "      <td>1006023</td>\n",
       "      <td>P00370853</td>\n",
       "      <td>M</td>\n",
       "      <td>26-35</td>\n",
       "      <td>0</td>\n",
       "      <td>C</td>\n",
       "      <td>2</td>\n",
       "      <td>1</td>\n",
       "      <td>19</td>\n",
       "      <td>61</td>\n",
       "      <td>Married</td>\n",
       "    </tr>\n",
       "    <tr>\n",
       "      <th>412167</th>\n",
       "      <td>1006024</td>\n",
       "      <td>P00372445</td>\n",
       "      <td>M</td>\n",
       "      <td>26-35</td>\n",
       "      <td>12</td>\n",
       "      <td>A</td>\n",
       "      <td>0</td>\n",
       "      <td>1</td>\n",
       "      <td>20</td>\n",
       "      <td>121</td>\n",
       "      <td>Married</td>\n",
       "    </tr>\n",
       "    <tr>\n",
       "      <th>412168</th>\n",
       "      <td>1006026</td>\n",
       "      <td>P00371644</td>\n",
       "      <td>M</td>\n",
       "      <td>36-45</td>\n",
       "      <td>6</td>\n",
       "      <td>C</td>\n",
       "      <td>1</td>\n",
       "      <td>1</td>\n",
       "      <td>20</td>\n",
       "      <td>494</td>\n",
       "      <td>Married</td>\n",
       "    </tr>\n",
       "    <tr>\n",
       "      <th>412169</th>\n",
       "      <td>1006032</td>\n",
       "      <td>P00372445</td>\n",
       "      <td>M</td>\n",
       "      <td>46-50</td>\n",
       "      <td>7</td>\n",
       "      <td>A</td>\n",
       "      <td>3</td>\n",
       "      <td>0</td>\n",
       "      <td>20</td>\n",
       "      <td>473</td>\n",
       "      <td>Single</td>\n",
       "    </tr>\n",
       "    <tr>\n",
       "      <th>412170</th>\n",
       "      <td>1006033</td>\n",
       "      <td>P00372445</td>\n",
       "      <td>M</td>\n",
       "      <td>51-55</td>\n",
       "      <td>13</td>\n",
       "      <td>B</td>\n",
       "      <td>1</td>\n",
       "      <td>1</td>\n",
       "      <td>20</td>\n",
       "      <td>368</td>\n",
       "      <td>Married</td>\n",
       "    </tr>\n",
       "  </tbody>\n",
       "</table>\n",
       "<p>412171 rows × 11 columns</p>\n",
       "</div>"
      ],
      "text/plain": [
       "        User_ID Product_ID Gender    Age  Occupation City_Category  \\\n",
       "0       1000002  P00285442      M    55+          16             C   \n",
       "1       1000003  P00193542      M  26-35          15             A   \n",
       "2       1000004  P00184942      M  46-50           7             B   \n",
       "3       1000004  P00346142      M  46-50           7             B   \n",
       "4       1000004   P0097242      M  46-50           7             B   \n",
       "...         ...        ...    ...    ...         ...           ...   \n",
       "412166  1006023  P00370853      M  26-35           0             C   \n",
       "412167  1006024  P00372445      M  26-35          12             A   \n",
       "412168  1006026  P00371644      M  36-45           6             C   \n",
       "412169  1006032  P00372445      M  46-50           7             A   \n",
       "412170  1006033  P00372445      M  51-55          13             B   \n",
       "\n",
       "       Stay_In_Current_City_Years  Marital_Status  Product_Category  Purchase  \\\n",
       "0                              4+               0                 8      7969   \n",
       "1                               3               0                 1     15227   \n",
       "2                               2               1                 1     19215   \n",
       "3                               2               1                 1     15854   \n",
       "4                               2               1                 1     15686   \n",
       "...                           ...             ...               ...       ...   \n",
       "412166                          2               1                19        61   \n",
       "412167                          0               1                20       121   \n",
       "412168                          1               1                20       494   \n",
       "412169                          3               0                20       473   \n",
       "412170                          1               1                20       368   \n",
       "\n",
       "       MaritalStatus  \n",
       "0             Single  \n",
       "1             Single  \n",
       "2            Married  \n",
       "3            Married  \n",
       "4            Married  \n",
       "...              ...  \n",
       "412166       Married  \n",
       "412167       Married  \n",
       "412168       Married  \n",
       "412169        Single  \n",
       "412170       Married  \n",
       "\n",
       "[412171 rows x 11 columns]"
      ]
     },
     "execution_count": 28,
     "metadata": {},
     "output_type": "execute_result"
    }
   ],
   "source": [
    "df_m=df.loc[df[\"Gender\"]=='M']\n",
    "df_m.reset_index(inplace=True)\n",
    "df_m.drop(\"index\",axis=1,inplace=True)\n",
    "df_m"
   ]
  },
  {
   "cell_type": "code",
   "execution_count": 235,
   "id": "59cffe5a",
   "metadata": {},
   "outputs": [
    {
     "data": {
      "image/png": "[encoded data removed]",
      "text/plain": [
       "<Figure size 1008x576 with 2 Axes>"
      ]
     },
     "metadata": {
      "needs_background": "light"
     },
     "output_type": "display_data"
    }
   ],
   "source": [
    "df.hist(column=\"Purchase\",by=\"Gender\",sharey=True)\n",
    "plt.xlabel(\"Purchase\")\n",
    "plt.ylabel(\"Count\")\n",
    "plt.title(\"Distribution of Male and Female Purchases\")\n",
    "plt.show()"
   ]
  },
  {
   "cell_type": "code",
   "execution_count": 237,
   "id": "274eea5e",
   "metadata": {
    "scrolled": false
   },
   "outputs": [
    {
     "data": {
      "image/png": "[encoded data removed]",
      "text/plain": [
       "<Figure size 1008x576 with 1 Axes>"
      ]
     },
     "metadata": {
      "needs_background": "light"
     },
     "output_type": "display_data"
    }
   ],
   "source": [
    "sns.kdeplot(df[\"Purchase\"],hue=df[\"Gender\"])\n",
    "plt.title(\"Distribution of Male and Female Purchases\")\n",
    "plt.show()"
   ]
  },
  {
   "cell_type": "markdown",
   "id": "b5cdc7c4",
   "metadata": {},
   "source": [
    "## **Observation-The distribution is clearly not Gaussian ,Hence following Bootstrap method as given below**"
   ]
  },
  {
   "cell_type": "code",
   "execution_count": 254,
   "id": "96f9723f",
   "metadata": {
    "scrolled": false
   },
   "outputs": [
    {
     "name": "stdout",
     "output_type": "stream",
     "text": [
      "The mean of Distribution of sample means is  8668.9 with Standard Deviation 214.96\n"
     ]
    },
    {
     "data": {
      "image/png": "[encoded data removed]",
      "text/plain": [
       "<Figure size 1008x576 with 1 Axes>"
      ]
     },
     "metadata": {
      "needs_background": "light"
     },
     "output_type": "display_data"
    }
   ],
   "source": [
    "#Sampling the female population to a Normal Distribution\n",
    "sample_mean_list=[]\n",
    "number_of_times=200\n",
    "for i in range (number_of_times):\n",
    "    sample_data=df_f.sample(n=500)\n",
    "    sample_mean=np.mean(sample_data[\"Purchase\"])\n",
    "    sample_mean_list.append(sample_mean)\n",
    "s_mean=round(np.mean(sample_mean_list),2)\n",
    "s_std=round(np.std(sample_mean_list),2)\n",
    "print(\"The mean of Distribution of sample means is \",s_mean,\"with Standard Deviation\",s_std)\n",
    "pd.DataFrame(sample_mean_list).plot(kind=\"density\")\n",
    "plt.title(\"Female Distribution of Purchases after Sampling\")\n",
    "plt.legend('')\n",
    "plt.show()\n",
    "\n",
    "\n",
    "\n"
   ]
  },
  {
   "cell_type": "markdown",
   "id": "bbb731a1",
   "metadata": {},
   "source": [
    "## **Observation-From the female datapool ,500 samples were drawn .This was repeated 200 times.The resultant mean each time was plotted.The density plot shows its a Gaussian distribution with  mean centered almost same as the female dataset.The same experiment is repeated for male popuation and similar observation found**"
   ]
  },
  {
   "cell_type": "code",
   "execution_count": 268,
   "id": "d44745a7",
   "metadata": {},
   "outputs": [
    {
     "name": "stdout",
     "output_type": "stream",
     "text": [
      "The mean of Distribution of sample means is  9368.52 with Standard Deviation 238.68\n"
     ]
    },
    {
     "data": {
      "image/png": "[encoded data removed]",
      "text/plain": [
       "<Figure size 1008x576 with 1 Axes>"
      ]
     },
     "metadata": {
      "needs_background": "light"
     },
     "output_type": "display_data"
    }
   ],
   "source": [
    "#Sampling the male population to a Normal Distribution\n",
    "sample_mean_list=[]\n",
    "number_of_times=200\n",
    "for i in range (number_of_times):\n",
    "    sample_data=df_m.sample(n=500,replace=True)\n",
    "    sample_mean=np.mean(sample_data[\"Purchase\"])\n",
    "    sample_mean_list.append(sample_mean)\n",
    "s_mean=round(np.mean(sample_mean_list),2)\n",
    "s_std=round(np.std(sample_mean_list),2)\n",
    "print(\"The mean of Distribution of sample means is \",s_mean,\"with Standard Deviation\",s_std)\n",
    "pd.DataFrame(sample_mean_list).plot(kind=\"density\",color=\"blue\")\n",
    "plt.title(\"Male Distribution of Purchases after Sampling\")\n",
    "plt.legend('')\n",
    "plt.show()"
   ]
  },
  {
   "cell_type": "code",
   "execution_count": 35,
   "id": "828d50c0",
   "metadata": {},
   "outputs": [],
   "source": [
    "#Bootstrapping to find the CI for females\n",
    "bootstap_mean_list_f=[]\n",
    "number_of_times=200\n",
    "for i in range (number_of_times):\n",
    "    sample_data=df_f.sample(n=len(df_f),replace=True)\n",
    "    bootstrap_mean=np.mean(sample_data[\"Purchase\"])\n",
    "    bootstap_mean_list_f.append(bootstrap_mean)\n",
    "confidence_interval_female=[]\n",
    "\n",
    "for ci in (90,95,99):\n",
    "    lb=(100-ci)/2\n",
    "    ub=ci+(100-ci)/2\n",
    "    confidence_interval_female.append(np.percentile(bootstap_mean_list_f,[lb,ub]))"
   ]
  },
  {
   "cell_type": "code",
   "execution_count": 280,
   "id": "7c195774",
   "metadata": {},
   "outputs": [
    {
     "name": "stdout",
     "output_type": "stream",
     "text": [
      "The mean of sampled means is 8669.19 dollars.The Mean purchase of the Female population is expected to be this with standard deviation 13.46\n",
      "90% Confidence Interval is [ 8647.45 , 8692.89 ]\n",
      "95% Confidence Interval is [ 8644.33 , 8695.99 ]\n",
      "99% Confidence Interval is [ 8640.52 , 8704.36 ]\n"
     ]
    }
   ],
   "source": [
    "confidence_interval_female#Confidence Interval for females with 90%,95%,99% confidence levels\n",
    "mean_f=round(np.mean(bootstap_mean_list_f),2)\n",
    "std_f=round(np.std(bootstap_mean_list_f),2)\n",
    "print(\"The mean of sampled means is\",mean_f,\"dollars.The Mean purchase of the Female population is expected to be this with standard deviation\",std_f)\n",
    "print(\"90% Confidence Interval is [\",round(confidence_interval_female[0][0],2),\",\",round(confidence_interval_female[0][1],2),\"]\")\n",
    "print(\"95% Confidence Interval is [\",round(confidence_interval_female[1][0],2),\",\",round(confidence_interval_female[1][1],2),\"]\")\n",
    "print(\"99% Confidence Interval is [\",round(confidence_interval_female[2][0],2),\",\",round(confidence_interval_female[2][1],2),\"]\")"
   ]
  },
  {
   "cell_type": "code",
   "execution_count": 260,
   "id": "7601b5a9",
   "metadata": {},
   "outputs": [],
   "source": [
    "#Bootstrapping to find the CI for males\n",
    "bootstap_mean_list_m=[]\n",
    "number_of_times=200\n",
    "for i in range (number_of_times):\n",
    "    sample_data=df_m.sample(n=len(df_m),replace=True)\n",
    "    bootstrap_mean=np.mean(sample_data[\"Purchase\"])\n",
    "    bootstap_mean_list_m.append(bootstrap_mean)\n",
    "confidence_interval_male=[]\n",
    "\n",
    "for ci in (90,95,99):\n",
    "    lb=(100-ci)/2\n",
    "    ub=ci+(100-ci)/2\n",
    "    confidence_interval_male.append(np.percentile(bootstap_mean_list_m,[lb,ub]))"
   ]
  },
  {
   "cell_type": "code",
   "execution_count": 281,
   "id": "d2d87f8d",
   "metadata": {},
   "outputs": [
    {
     "name": "stdout",
     "output_type": "stream",
     "text": [
      "The mean of sampled means is 9367.29 dollars.The Mean purchase of the Male population is expected to be this value with Std Deviation. 7.27\n",
      "90% Confidence Interval is [ 9356.22 , 9378.7 ]\n",
      "95% Confidence Interval is [ 9354.27 , 9383.34 ]\n",
      "99% Confidence Interval is [ 9352.09 , 9386.78 ]\n"
     ]
    }
   ],
   "source": [
    "mean_m=round(np.mean(bootstap_mean_list_m),2)\n",
    "std_m=round(np.std(bootstap_mean_list_m),2)\n",
    "print(\"The mean of sampled means is\",mean_m,\"dollars.The Mean purchase of the Male population is expected to be this value with Std Deviation.\",std_m)\n",
    "confidence_interval_male #Confidence Interval for males with 90%,95%,99% confidence levels\n",
    "print(\"90% Confidence Interval is [\",round(confidence_interval_male[0][0],2),\",\",round(confidence_interval_male[0][1],2),\"]\")\n",
    "print(\"95% Confidence Interval is [\",round(confidence_interval_male[1][0],2),\",\",round(confidence_interval_male[1][1],2),\"]\")\n",
    "print(\"99% Confidence Interval is [\",round(confidence_interval_male[2][0],2),\",\",round(confidence_interval_male[2][1],2),\"]\")"
   ]
  },
  {
   "cell_type": "code",
   "execution_count": 269,
   "id": "63685080",
   "metadata": {},
   "outputs": [
    {
     "data": {
      "image/png": "[encoded data removed]",
      "text/plain": [
       "<Figure size 1008x576 with 1 Axes>"
      ]
     },
     "metadata": {
      "needs_background": "light"
     },
     "output_type": "display_data"
    }
   ],
   "source": [
    "#Plot gender wise 90% CI\n",
    "plt.hist(bootstap_mean_list_f,label=\"Female\")\n",
    "plt.hist(bootstap_mean_list_m,label=\"Male\",alpha=.5)\n",
    "plt.axvline(confidence_interval_male[0][0],c='b')\n",
    "plt.axvline(confidence_interval_male[0][1],c='b')\n",
    "plt.axvline(confidence_interval_female[0][0],color='magenta')\n",
    "plt.axvline(confidence_interval_female[0][1],color='magenta')\n",
    "plt.title(\"Gender wise Purchase info with 90% CI interval\")\n",
    "plt.xlabel(\"Purchase\")\n",
    "plt.ylabel(\"Count\")\n",
    "plt.legend()\n",
    "plt.show()"
   ]
  },
  {
   "cell_type": "code",
   "execution_count": 270,
   "id": "f9f7e76a",
   "metadata": {},
   "outputs": [
    {
     "data": {
      "image/png": "[encoded data removed]",
      "text/plain": [
       "<Figure size 1008x576 with 1 Axes>"
      ]
     },
     "metadata": {
      "needs_background": "light"
     },
     "output_type": "display_data"
    }
   ],
   "source": [
    "#Plot gender wise 95% CI\n",
    "plt.hist(bootstap_mean_list_f,label=\"Female\")\n",
    "plt.hist(bootstap_mean_list_m,label=\"Male\",alpha=.5)\n",
    "plt.axvline(confidence_interval_male[1][0],c='b')\n",
    "plt.axvline(confidence_interval_male[1][1],c='b')\n",
    "plt.axvline(confidence_interval_female[1][0],color='magenta')\n",
    "plt.axvline(confidence_interval_female[1][1],color='magenta')\n",
    "plt.title(\"Gender wise Purchase info with 95% CI interval\")\n",
    "plt.xlabel(\"Purchase\")\n",
    "plt.ylabel(\"Count\")\n",
    "plt.legend()\n",
    "plt.show()"
   ]
  },
  {
   "cell_type": "code",
   "execution_count": 271,
   "id": "01302ef0",
   "metadata": {},
   "outputs": [
    {
     "data": {
      "image/png": "[encoded data removed]",
      "text/plain": [
       "<Figure size 1008x576 with 1 Axes>"
      ]
     },
     "metadata": {
      "needs_background": "light"
     },
     "output_type": "display_data"
    }
   ],
   "source": [
    "#Plot gender wise 99% CI\n",
    "plt.hist(bootstap_mean_list_f,label=\"Female\")\n",
    "plt.hist(bootstap_mean_list_m,label=\"Male\",alpha=.5)\n",
    "plt.axvline(confidence_interval_male[2][0],c='b')\n",
    "plt.axvline(confidence_interval_male[2][1],c='b')\n",
    "plt.axvline(confidence_interval_female[2][0],color='magenta')\n",
    "plt.axvline(confidence_interval_female[2][1],color='magenta')\n",
    "plt.title(\"Gender wise Purchase info with 99% CI interval\")\n",
    "plt.xlabel(\"Purchase\")\n",
    "plt.ylabel(\"Count\")\n",
    "plt.legend()\n",
    "plt.show()"
   ]
  },
  {
   "cell_type": "markdown",
   "id": "4527e975",
   "metadata": {},
   "source": [
    "## **Observation-The confidence intervals for male and female are non-overlapping which indicates that these groups are significantly different from each other.So how can we increase the business among the these group?**"
   ]
  },
  {
   "cell_type": "code",
   "execution_count": 42,
   "id": "176cea5e",
   "metadata": {},
   "outputs": [
    {
     "data": {
      "text/html": [
       "<div>\n",
       "<style scoped>\n",
       "    .dataframe tbody tr th:only-of-type {\n",
       "        vertical-align: middle;\n",
       "    }\n",
       "\n",
       "    .dataframe tbody tr th {\n",
       "        vertical-align: top;\n",
       "    }\n",
       "\n",
       "    .dataframe thead th {\n",
       "        text-align: right;\n",
       "    }\n",
       "</style>\n",
       "<table border=\"1\" class=\"dataframe\">\n",
       "  <thead>\n",
       "    <tr style=\"text-align: right;\">\n",
       "      <th></th>\n",
       "      <th>Purchase</th>\n",
       "    </tr>\n",
       "    <tr>\n",
       "      <th>Product_Category</th>\n",
       "      <th></th>\n",
       "    </tr>\n",
       "  </thead>\n",
       "  <tbody>\n",
       "    <tr>\n",
       "      <th>10</th>\n",
       "      <td>16563.998433</td>\n",
       "    </tr>\n",
       "    <tr>\n",
       "      <th>7</th>\n",
       "      <td>16394.853659</td>\n",
       "    </tr>\n",
       "    <tr>\n",
       "      <th>6</th>\n",
       "      <td>15596.428164</td>\n",
       "    </tr>\n",
       "    <tr>\n",
       "      <th>16</th>\n",
       "      <td>14681.491257</td>\n",
       "    </tr>\n",
       "    <tr>\n",
       "      <th>15</th>\n",
       "      <td>14347.546734</td>\n",
       "    </tr>\n",
       "    <tr>\n",
       "      <th>9</th>\n",
       "      <td>13878.142857</td>\n",
       "    </tr>\n",
       "    <tr>\n",
       "      <th>14</th>\n",
       "      <td>13747.362761</td>\n",
       "    </tr>\n",
       "    <tr>\n",
       "      <th>1</th>\n",
       "      <td>13597.162619</td>\n",
       "    </tr>\n",
       "    <tr>\n",
       "      <th>2</th>\n",
       "      <td>11407.496819</td>\n",
       "    </tr>\n",
       "    <tr>\n",
       "      <th>3</th>\n",
       "      <td>10262.656677</td>\n",
       "    </tr>\n",
       "  </tbody>\n",
       "</table>\n",
       "</div>"
      ],
      "text/plain": [
       "                      Purchase\n",
       "Product_Category              \n",
       "10                16563.998433\n",
       "7                 16394.853659\n",
       "6                 15596.428164\n",
       "16                14681.491257\n",
       "15                14347.546734\n",
       "9                 13878.142857\n",
       "14                13747.362761\n",
       "1                 13597.162619\n",
       "2                 11407.496819\n",
       "3                 10262.656677"
      ]
     },
     "execution_count": 42,
     "metadata": {},
     "output_type": "execute_result"
    }
   ],
   "source": [
    "#Female Purchase\n",
    "df_f.groupby(\"Product_Category\")[\"Purchase\"].mean().sort_values(ascending=False).to_frame().head(10)"
   ]
  },
  {
   "cell_type": "code",
   "execution_count": 294,
   "id": "6dd6285f",
   "metadata": {},
   "outputs": [
    {
     "data": {
      "text/html": [
       "<div>\n",
       "<style scoped>\n",
       "    .dataframe tbody tr th:only-of-type {\n",
       "        vertical-align: middle;\n",
       "    }\n",
       "\n",
       "    .dataframe tbody tr th {\n",
       "        vertical-align: top;\n",
       "    }\n",
       "\n",
       "    .dataframe thead th {\n",
       "        text-align: right;\n",
       "    }\n",
       "</style>\n",
       "<table border=\"1\" class=\"dataframe\">\n",
       "  <thead>\n",
       "    <tr style=\"text-align: right;\">\n",
       "      <th></th>\n",
       "      <th>Purchase</th>\n",
       "    </tr>\n",
       "    <tr>\n",
       "      <th>Product_Category</th>\n",
       "      <th></th>\n",
       "    </tr>\n",
       "  </thead>\n",
       "  <tbody>\n",
       "    <tr>\n",
       "      <th>10</th>\n",
       "      <td>16644.380199</td>\n",
       "    </tr>\n",
       "    <tr>\n",
       "      <th>7</th>\n",
       "      <td>16355.789777</td>\n",
       "    </tr>\n",
       "    <tr>\n",
       "      <th>6</th>\n",
       "      <td>15907.851009</td>\n",
       "    </tr>\n",
       "    <tr>\n",
       "      <th>16</th>\n",
       "      <td>14793.384056</td>\n",
       "    </tr>\n",
       "    <tr>\n",
       "      <th>15</th>\n",
       "      <td>14425.513889</td>\n",
       "    </tr>\n",
       "    <tr>\n",
       "      <th>9</th>\n",
       "      <td>13847.143369</td>\n",
       "    </tr>\n",
       "    <tr>\n",
       "      <th>1</th>\n",
       "      <td>13608.164721</td>\n",
       "    </tr>\n",
       "    <tr>\n",
       "      <th>14</th>\n",
       "      <td>12722.321111</td>\n",
       "    </tr>\n",
       "    <tr>\n",
       "      <th>2</th>\n",
       "      <td>11203.590520</td>\n",
       "    </tr>\n",
       "    <tr>\n",
       "      <th>17</th>\n",
       "      <td>10209.732558</td>\n",
       "    </tr>\n",
       "  </tbody>\n",
       "</table>\n",
       "</div>"
      ],
      "text/plain": [
       "                      Purchase\n",
       "Product_Category              \n",
       "10                16644.380199\n",
       "7                 16355.789777\n",
       "6                 15907.851009\n",
       "16                14793.384056\n",
       "15                14425.513889\n",
       "9                 13847.143369\n",
       "1                 13608.164721\n",
       "14                12722.321111\n",
       "2                 11203.590520\n",
       "17                10209.732558"
      ]
     },
     "execution_count": 294,
     "metadata": {},
     "output_type": "execute_result"
    }
   ],
   "source": [
    "#Male Purchase\n",
    "df_m.groupby(\"Product_Category\")[\"Purchase\"].mean().sort_values(ascending=False).to_frame().head(10)"
   ]
  },
  {
   "cell_type": "markdown",
   "id": "85b39159",
   "metadata": {},
   "source": [
    "## **Recommendation-The above output shows the top 10 product categories on which the female and male spend more.So business could improve if the stores have more stock of products in these categories.**"
   ]
  },
  {
   "cell_type": "markdown",
   "id": "6a7527a7",
   "metadata": {},
   "source": [
    "# **Single Vs Married**\n",
    "\n"
   ]
  },
  {
   "cell_type": "code",
   "execution_count": 43,
   "id": "b1ac7a96",
   "metadata": {},
   "outputs": [
    {
     "data": {
      "text/plain": [
       "Single     323242\n",
       "Married    224149\n",
       "Name: MaritalStatus, dtype: int64"
      ]
     },
     "execution_count": 43,
     "metadata": {},
     "output_type": "execute_result"
    }
   ],
   "source": [
    "df[\"MaritalStatus\"].value_counts()"
   ]
  },
  {
   "cell_type": "code",
   "execution_count": 44,
   "id": "5ff7af68",
   "metadata": {},
   "outputs": [
    {
     "data": {
      "image/png": "[encoded data removed]",
      "text/plain": [
       "<Figure size 1008x576 with 1 Axes>"
      ]
     },
     "metadata": {
      "needs_background": "light"
     },
     "output_type": "display_data"
    }
   ],
   "source": [
    "sns.kdeplot(df[\"Purchase\"],hue=df[\"MaritalStatus\"])\n",
    "plt.title(\"Distribution of Purchases wrt Marital Status\")\n",
    "plt.show()"
   ]
  },
  {
   "cell_type": "markdown",
   "id": "b78fa21a",
   "metadata": {},
   "source": [
    "## **Observation-Its clearly not gaussian**"
   ]
  },
  {
   "cell_type": "code",
   "execution_count": 46,
   "id": "818757ad",
   "metadata": {},
   "outputs": [],
   "source": [
    "\"\"\"Inorder to reduce the redundancy in code,introducing two custom functions to split the dataframe and to Bootstrap\n",
    "1)Function to split the dataframe df based \n",
    "on the column name and column value\"\"\"\n",
    "def DataFrameSplit (df,column,value):\n",
    "    name_dataframe=\"df_\"+column+\"_\"+value\n",
    "    x=df.loc[df[column]==value]\n",
    "    x.reset_index(inplace=True)\n",
    "    x.drop(\"index\",axis=1,inplace=True)\n",
    "    return name_dataframe,x\n",
    "    "
   ]
  },
  {
   "cell_type": "code",
   "execution_count": 145,
   "id": "a618ce4e",
   "metadata": {},
   "outputs": [],
   "source": [
    "#Dataframe df is split based on column MaritalStatus and value=Single.The resultant dataframe is stored in dictionary dataframes\n",
    "name,data=DataFrameSplit(df,\"MaritalStatus\",\"Single\")\n",
    "dataframes={}\n",
    "dataframes[name] = data\n",
    "\n",
    "                       \n",
    "\n"
   ]
  },
  {
   "cell_type": "code",
   "execution_count": 144,
   "id": "78556861",
   "metadata": {},
   "outputs": [],
   "source": [
    "#initialsing dictionaries to store the confidence intervals and bootstrap means for the dataframes post the split\n",
    "dataframes_namelist_pos=0\n",
    "ci_dict={}\n",
    "bootstrap_mean_dict={}"
   ]
  },
  {
   "cell_type": "code",
   "execution_count": 143,
   "id": "75c96cf1",
   "metadata": {},
   "outputs": [],
   "source": [
    "\"\"\"2)This function is used to find the bootstrapped means of the dataframes post the spilt and then find their confidence \n",
    "intervals\n",
    "The bootstrapped means of each of the split dataframes are stored in dictionary bootstrap_mean_dict and the CI's of each of the \n",
    "split dataframes are stored in the dictionary ci_dict \"\"\"\n",
    "def BootStrapFunc(data):\n",
    "    bootstap_mean_list=[]\n",
    "    global dataframes_namelist_pos\n",
    "    number_of_times=200\n",
    "    for i in range (number_of_times):\n",
    "        sample_data=data.sample(n=len(data),replace=True)\n",
    "        bootstrap_mean=np.mean(sample_data[\"Purchase\"])\n",
    "        bootstap_mean_list.append(bootstrap_mean)\n",
    "    c_interval=[]\n",
    "    global ci_dict\n",
    "    global bootstrap_mean_dict\n",
    "    bootstrap_mean=np.mean(bootstap_mean_list)\n",
    "    \n",
    "    ci_name=list(dataframes.keys())[dataframes_namelist_pos]\n",
    "    ci_name=ci_name+'_CI'\n",
    "    \n",
    "    bs_name=list(dataframes.keys())[dataframes_namelist_pos]\n",
    "    bs_name=bs_name+\"_BS\"\n",
    "\n",
    "    for ci in (90,95,99):\n",
    "        lb=(100-ci)/2\n",
    "        ub=ci+(100-ci)/2\n",
    "        c_interval.append(np.percentile(bootstap_mean_list,[lb,ub]))\n",
    "    print(\"Mean of the Sampling Distribution is\",round(bootstrap_mean,2))\n",
    "    print(\"90% Confidence Interval is [\",round(c_interval[0][0],2),\",\",round(c_interval[0][1],2),\"]\")\n",
    "    print(\"95% Confidence Interval is [\",round(c_interval[1][0],2),\",\",round(c_interval[1][1],2),\"]\")\n",
    "    print(\"99% Confidence Interval is [\",round(c_interval[2][0],2),\",\",round(c_interval[2][1],2),\"]\")\n",
    "    ci_dict[ci_name]=c_interval\n",
    "    bootstrap_mean_dict[bs_name]=bootstap_mean_list\n",
    "    \n",
    "    dataframes_namelist_pos+=1"
   ]
  },
  {
   "cell_type": "code",
   "execution_count": 146,
   "id": "ee1b0b17",
   "metadata": {
    "scrolled": true
   },
   "outputs": [
    {
     "name": "stdout",
     "output_type": "stream",
     "text": [
      "Mean of the Sampling Distribution is 9201.98\n",
      "90% Confidence Interval is [ 9188.19 , 9215.45 ]\n",
      "95% Confidence Interval is [ 9186.06 , 9219.05 ]\n",
      "99% Confidence Interval is [ 9178.08 , 9228.75 ]\n"
     ]
    }
   ],
   "source": [
    "#BootStrapFunc function call on splitted dataframe to find CI\n",
    "BootStrapFunc(dataframes['df_MaritalStatus_Single'])"
   ]
  },
  {
   "cell_type": "code",
   "execution_count": 147,
   "id": "6da7ad38",
   "metadata": {},
   "outputs": [],
   "source": [
    "#Repeat the same function calls for Marital Status=Married\n",
    "name,data=DataFrameSplit(df,\"MaritalStatus\",\"Married\")\n",
    "dataframes[name]=data\n"
   ]
  },
  {
   "cell_type": "code",
   "execution_count": 148,
   "id": "3aad87e2",
   "metadata": {},
   "outputs": [
    {
     "name": "stdout",
     "output_type": "stream",
     "text": [
      "Mean of the Sampling Distribution is 9186.84\n",
      "90% Confidence Interval is [ 9168.54 , 9203.38 ]\n",
      "95% Confidence Interval is [ 9165.71 , 9210.8 ]\n",
      "99% Confidence Interval is [ 9158.79 , 9218.18 ]\n"
     ]
    }
   ],
   "source": [
    "BootStrapFunc(dataframes['df_MaritalStatus_Married'])"
   ]
  },
  {
   "cell_type": "code",
   "execution_count": 149,
   "id": "448898ea",
   "metadata": {},
   "outputs": [
    {
     "data": {
      "image/png": "[encoded data removed]",
      "text/plain": [
       "<Figure size 1008x576 with 1 Axes>"
      ]
     },
     "metadata": {
      "needs_background": "light"
     },
     "output_type": "display_data"
    }
   ],
   "source": [
    "#Plot maritalstatus wise 90% CI\n",
    "plt.hist(bootstrap_mean_dict[\"df_MaritalStatus_Single_BS\"],label=\"Single\")\n",
    "plt.hist(bootstrap_mean_dict[\"df_MaritalStatus_Married_BS\"],label=\"Married\",alpha=.5)\n",
    "plt.axvline(ci_dict['df_MaritalStatus_Single_CI'][0][0],c='b')\n",
    "plt.axvline(ci_dict['df_MaritalStatus_Single_CI'][0][1],c='b')\n",
    "plt.axvline(ci_dict['df_MaritalStatus_Married_CI'][0][0],color='magenta')\n",
    "plt.axvline(ci_dict['df_MaritalStatus_Married_CI'][0][1],color='magenta')\n",
    "plt.title(\"Marital Status wise Purchase info with 90% CI interval\")\n",
    "plt.xlabel(\"BootStrap Mean Purchase\")\n",
    "plt.ylabel(\"Count\")\n",
    "plt.legend()\n",
    "plt.show()"
   ]
  },
  {
   "cell_type": "code",
   "execution_count": 150,
   "id": "18956f0c",
   "metadata": {},
   "outputs": [
    {
     "data": {
      "image/png": "[encoded data removed]",
      "text/plain": [
       "<Figure size 1008x576 with 1 Axes>"
      ]
     },
     "metadata": {
      "needs_background": "light"
     },
     "output_type": "display_data"
    }
   ],
   "source": [
    "#Plot maritalstatus wise 95% CI\n",
    "plt.hist(bootstrap_mean_dict[\"df_MaritalStatus_Single_BS\"],label=\"Single\")\n",
    "plt.hist(bootstrap_mean_dict[\"df_MaritalStatus_Married_BS\"],label=\"Married\",alpha=.5)\n",
    "plt.axvline(ci_dict['df_MaritalStatus_Single_CI'][1][0],c='b')\n",
    "plt.axvline(ci_dict['df_MaritalStatus_Single_CI'][1][1],c='b')\n",
    "plt.axvline(ci_dict['df_MaritalStatus_Married_CI'][1][0],color='magenta')\n",
    "plt.axvline(ci_dict['df_MaritalStatus_Married_CI'][1][1],color='magenta')\n",
    "plt.title(\"Marital Status wise Purchase info with 95% CI interval\")\n",
    "plt.xlabel(\"BootStrap Mean Purchase\")\n",
    "plt.ylabel(\"Count\")\n",
    "plt.legend()\n",
    "plt.show()"
   ]
  },
  {
   "cell_type": "code",
   "execution_count": 151,
   "id": "a4e396f9",
   "metadata": {},
   "outputs": [
    {
     "data": {
      "image/png": "[encoded data removed]",
      "text/plain": [
       "<Figure size 1008x576 with 1 Axes>"
      ]
     },
     "metadata": {
      "needs_background": "light"
     },
     "output_type": "display_data"
    }
   ],
   "source": [
    "#Plot maritalstatus wise 99% CI\n",
    "plt.hist(bootstrap_mean_dict[\"df_MaritalStatus_Single_BS\"],label=\"Single\")\n",
    "plt.hist(bootstrap_mean_dict[\"df_MaritalStatus_Married_BS\"],label=\"Married\",alpha=.5)\n",
    "plt.axvline(ci_dict['df_MaritalStatus_Single_CI'][2][0],c='b')\n",
    "plt.axvline(ci_dict['df_MaritalStatus_Single_CI'][2][1],c='b')\n",
    "plt.axvline(ci_dict['df_MaritalStatus_Married_CI'][2][0],color='magenta')\n",
    "plt.axvline(ci_dict['df_MaritalStatus_Married_CI'][2][1],color='magenta')\n",
    "plt.title(\"Marital Status wise Purchase info with 99% CI interval\")\n",
    "plt.xlabel(\"Bootstrap Mean Purchase\")\n",
    "plt.ylabel(\"Count\")\n",
    "plt.legend()\n",
    "plt.show()"
   ]
  },
  {
   "cell_type": "markdown",
   "id": "720cde7e",
   "metadata": {},
   "source": [
    "## **Observation:The mean purchase of people after Bootstrapping who are single (9201 dollars)are higher than those who are married(9186 dollars).The population mean for the respective groups is also expected to be around this value**"
   ]
  },
  {
   "cell_type": "markdown",
   "id": "e6693782",
   "metadata": {},
   "source": [
    "## **Observation-For all the three confidence levels ie 90%,95% and 99% there is overlap between the Single and Married groups.This suggests that there is no significant distinction between the two groups**"
   ]
  },
  {
   "cell_type": "markdown",
   "id": "8ec26a11",
   "metadata": {},
   "source": [
    "# **Based on Age Groups**"
   ]
  },
  {
   "cell_type": "code",
   "execution_count": 56,
   "id": "65ccb362",
   "metadata": {},
   "outputs": [
    {
     "data": {
      "text/html": [
       "<div>\n",
       "<style scoped>\n",
       "    .dataframe tbody tr th:only-of-type {\n",
       "        vertical-align: middle;\n",
       "    }\n",
       "\n",
       "    .dataframe tbody tr th {\n",
       "        vertical-align: top;\n",
       "    }\n",
       "\n",
       "    .dataframe thead th {\n",
       "        text-align: right;\n",
       "    }\n",
       "</style>\n",
       "<table border=\"1\" class=\"dataframe\">\n",
       "  <thead>\n",
       "    <tr style=\"text-align: right;\">\n",
       "      <th></th>\n",
       "      <th>Age</th>\n",
       "      <th>Mean Purchase</th>\n",
       "    </tr>\n",
       "  </thead>\n",
       "  <tbody>\n",
       "    <tr>\n",
       "      <th>0</th>\n",
       "      <td>0-17</td>\n",
       "      <td>8867.447046</td>\n",
       "    </tr>\n",
       "    <tr>\n",
       "      <th>1</th>\n",
       "      <td>18-25</td>\n",
       "      <td>9124.031731</td>\n",
       "    </tr>\n",
       "    <tr>\n",
       "      <th>2</th>\n",
       "      <td>26-35</td>\n",
       "      <td>9193.469924</td>\n",
       "    </tr>\n",
       "    <tr>\n",
       "      <th>3</th>\n",
       "      <td>36-45</td>\n",
       "      <td>9254.202214</td>\n",
       "    </tr>\n",
       "    <tr>\n",
       "      <th>4</th>\n",
       "      <td>46-50</td>\n",
       "      <td>9128.985080</td>\n",
       "    </tr>\n",
       "    <tr>\n",
       "      <th>5</th>\n",
       "      <td>51-55</td>\n",
       "      <td>9423.121704</td>\n",
       "    </tr>\n",
       "    <tr>\n",
       "      <th>6</th>\n",
       "      <td>55+</td>\n",
       "      <td>9216.650220</td>\n",
       "    </tr>\n",
       "  </tbody>\n",
       "</table>\n",
       "</div>"
      ],
      "text/plain": [
       "     Age  Mean Purchase\n",
       "0   0-17    8867.447046\n",
       "1  18-25    9124.031731\n",
       "2  26-35    9193.469924\n",
       "3  36-45    9254.202214\n",
       "4  46-50    9128.985080\n",
       "5  51-55    9423.121704\n",
       "6    55+    9216.650220"
      ]
     },
     "execution_count": 56,
     "metadata": {},
     "output_type": "execute_result"
    }
   ],
   "source": [
    "df_age=df.groupby(df[\"Age\"])[\"Purchase\"].mean().to_frame().reset_index()\n",
    "df_age.rename(columns={\"Purchase\":\"Mean Purchase\"},inplace=True)\n",
    "df_age"
   ]
  },
  {
   "cell_type": "code",
   "execution_count": 57,
   "id": "4fb6e26c",
   "metadata": {},
   "outputs": [
    {
     "data": {
      "image/png": "[encoded data removed]",
      "text/plain": [
       "<Figure size 1008x576 with 1 Axes>"
      ]
     },
     "metadata": {
      "needs_background": "light"
     },
     "output_type": "display_data"
    }
   ],
   "source": [
    "plt.plot(df_age[\"Age\"],df_age[\"Mean Purchase\"])\n",
    "plt.xlabel(\"Age Groups\")\n",
    "plt.ylabel(\"Mean Purchase from Sample\")\n",
    "plt.title(\"Mean Purchase from the Sample for Different Age Groups\")\n",
    "plt.show()"
   ]
  },
  {
   "cell_type": "markdown",
   "id": "3848574f",
   "metadata": {},
   "source": [
    "## **Observation-The above plot shows the mean purchase of 51-55 age group is highest and the least is for 0-17 age group**"
   ]
  },
  {
   "cell_type": "code",
   "execution_count": 159,
   "id": "b87c3aba",
   "metadata": {},
   "outputs": [],
   "source": [
    "#re-initialsing dictionaries to store the split dataframes,confidenceintervals,bootstrap mean\n",
    "dataframes_namelist_pos=0\n",
    "ci_dict={}\n",
    "bootstrap_mean_dict={}\n",
    "dataframes={}"
   ]
  },
  {
   "cell_type": "code",
   "execution_count": 160,
   "id": "79e5be82",
   "metadata": {},
   "outputs": [],
   "source": [
    "#Function call for datframe split\n",
    "name,data=DataFrameSplit(df,\"Age\",\"0-17\")\n",
    "dataframes[name]=data"
   ]
  },
  {
   "cell_type": "code",
   "execution_count": 161,
   "id": "ee803d90",
   "metadata": {},
   "outputs": [
    {
     "name": "stdout",
     "output_type": "stream",
     "text": [
      "Mean of the Sampling Distribution is 8867.32\n",
      "90% Confidence Interval is [ 8803.25 , 8932.09 ]\n",
      "95% Confidence Interval is [ 8793.71 , 8949.71 ]\n",
      "99% Confidence Interval is [ 8766.84 , 8976.89 ]\n"
     ]
    }
   ],
   "source": [
    "#BootStrapFunc function call on split dataframe to find CI\n",
    "BootStrapFunc(dataframes['df_Age_0-17'])"
   ]
  },
  {
   "cell_type": "code",
   "execution_count": 162,
   "id": "05153e54",
   "metadata": {},
   "outputs": [
    {
     "name": "stdout",
     "output_type": "stream",
     "text": [
      "Mean of the Sampling Distribution is 9124.85\n",
      "90% Confidence Interval is [ 9099.28 , 9148.54 ]\n",
      "95% Confidence Interval is [ 9093.27 , 9150.67 ]\n",
      "99% Confidence Interval is [ 9090.72 , 9163.97 ]\n"
     ]
    }
   ],
   "source": [
    "#Dataframe splitting and Bootstrapping for other Age groups as well.Displaying their confidence intervals\n",
    "name,data=DataFrameSplit(df,\"Age\",\"18-25\")\n",
    "dataframes[name]=data\n",
    "BootStrapFunc(dataframes['df_Age_18-25'])"
   ]
  },
  {
   "cell_type": "code",
   "execution_count": 163,
   "id": "dbc298c2",
   "metadata": {},
   "outputs": [
    {
     "name": "stdout",
     "output_type": "stream",
     "text": [
      "Mean of the Sampling Distribution is 9193.22\n",
      "90% Confidence Interval is [ 9177.85 , 9210.73 ]\n",
      "95% Confidence Interval is [ 9175.66 , 9212.03 ]\n",
      "99% Confidence Interval is [ 9169.25 , 9215.06 ]\n"
     ]
    }
   ],
   "source": [
    "name,data=DataFrameSplit(df,\"Age\",\"26-35\")\n",
    "dataframes[name]=data\n",
    "BootStrapFunc(dataframes['df_Age_26-35'])"
   ]
  },
  {
   "cell_type": "code",
   "execution_count": 164,
   "id": "3dbc6bff",
   "metadata": {},
   "outputs": [
    {
     "name": "stdout",
     "output_type": "stream",
     "text": [
      "Mean of the Sampling Distribution is 9254.66\n",
      "90% Confidence Interval is [ 9230.21 , 9276.43 ]\n",
      "95% Confidence Interval is [ 9227.95 , 9284.63 ]\n",
      "99% Confidence Interval is [ 9213.25 , 9292.19 ]\n"
     ]
    }
   ],
   "source": [
    "name,data=DataFrameSplit(df,\"Age\",\"36-45\")\n",
    "dataframes[name]=data\n",
    "BootStrapFunc(dataframes['df_Age_36-45'])"
   ]
  },
  {
   "cell_type": "code",
   "execution_count": 165,
   "id": "d63cc25d",
   "metadata": {},
   "outputs": [
    {
     "name": "stdout",
     "output_type": "stream",
     "text": [
      "Mean of the Sampling Distribution is 9130.45\n",
      "90% Confidence Interval is [ 9093.19 , 9168.11 ]\n",
      "95% Confidence Interval is [ 9082.21 , 9172.06 ]\n",
      "99% Confidence Interval is [ 9057.16 , 9183.79 ]\n"
     ]
    }
   ],
   "source": [
    "name,data=DataFrameSplit(df,\"Age\",\"46-50\")\n",
    "dataframes[name]=data\n",
    "BootStrapFunc(dataframes['df_Age_46-50'])"
   ]
  },
  {
   "cell_type": "code",
   "execution_count": 166,
   "id": "c8f5ebea",
   "metadata": {},
   "outputs": [
    {
     "name": "stdout",
     "output_type": "stream",
     "text": [
      "Mean of the Sampling Distribution is 9427.92\n",
      "90% Confidence Interval is [ 9386.21 , 9468.97 ]\n",
      "95% Confidence Interval is [ 9376.94 , 9477.93 ]\n",
      "99% Confidence Interval is [ 9359.28 , 9492.2 ]\n"
     ]
    }
   ],
   "source": [
    "name,data=DataFrameSplit(df,\"Age\",\"51-55\")\n",
    "dataframes[name]=data\n",
    "BootStrapFunc(dataframes['df_Age_51-55'])"
   ]
  },
  {
   "cell_type": "code",
   "execution_count": 167,
   "id": "0d37938f",
   "metadata": {},
   "outputs": [
    {
     "name": "stdout",
     "output_type": "stream",
     "text": [
      "Mean of the Sampling Distribution is 9214.88\n",
      "90% Confidence Interval is [ 9160.95 , 9276.85 ]\n",
      "95% Confidence Interval is [ 9146.5 , 9292.29 ]\n",
      "99% Confidence Interval is [ 9123.67 , 9301.63 ]\n"
     ]
    }
   ],
   "source": [
    "name,data=DataFrameSplit(df,\"Age\",\"55+\")\n",
    "dataframes[name]=data\n",
    "BootStrapFunc(dataframes['df_Age_55+'])"
   ]
  },
  {
   "cell_type": "code",
   "execution_count": 168,
   "id": "83bcc3e6",
   "metadata": {},
   "outputs": [
    {
     "data": {
      "image/png": "[encoded data removed]",
      "text/plain": [
       "<Figure size 1008x576 with 1 Axes>"
      ]
     },
     "metadata": {
      "needs_background": "light"
     },
     "output_type": "display_data"
    }
   ],
   "source": [
    "#Plot Bootstrap mean distribution\n",
    "sns.kdeplot(bootstrap_mean_dict[\"df_Age_0-17_BS\"],label=\"0-17\",color=\"blue\",alpha=.5,shade=True)\n",
    "sns.kdeplot(bootstrap_mean_dict[\"df_Age_18-25_BS\"],label=\"18-25\",color=\"orange\",alpha=.5,shade=True)\n",
    "sns.kdeplot(bootstrap_mean_dict[\"df_Age_26-35_BS\"],label=\"26-35\",color=\"red\",alpha=.5,shade=True)\n",
    "sns.kdeplot(bootstrap_mean_dict[\"df_Age_36-45_BS\"],label=\"36-45\",color=\"purple\",alpha=.5,shade=True)\n",
    "sns.kdeplot(bootstrap_mean_dict[\"df_Age_46-50_BS\"],label=\"46-50\",color=\"cyan\",alpha=.3,shade=True)\n",
    "sns.kdeplot(bootstrap_mean_dict[\"df_Age_51-55_BS\"],label=\"51-55\",color=\"olive\",alpha=.5,shade=True)\n",
    "sns.kdeplot(bootstrap_mean_dict[\"df_Age_55+_BS\"],label=\"55+\",color=\"brown\",alpha=.5,shade=True)\n",
    "plt.legend()\n",
    "plt.xlabel(\"BootStrap Mean Purchases\")\n",
    "plt.title(\"Bootstrap Means distribution for different Age Groups\")\n",
    "plt.show()"
   ]
  },
  {
   "cell_type": "code",
   "execution_count": 174,
   "id": "39494be2",
   "metadata": {},
   "outputs": [
    {
     "name": "stdout",
     "output_type": "stream",
     "text": [
      "[8867.32 9124.85 9193.22 9254.66 9130.45 9427.92 9214.88]\n"
     ]
    }
   ],
   "source": [
    "#To find the mean of the Boostrapped means of the samples for different age groups and storing in list bs_mean_list\n",
    "bs_mean_list=[]\n",
    "for key in bootstrap_mean_dict.keys():\n",
    "    bs_mean=np.mean(bootstrap_mean_dict[key])\n",
    "    bs_mean_list.append(bs_mean)\n",
    "print(np.round(bs_mean_list,2))\n"
   ]
  },
  {
   "cell_type": "code",
   "execution_count": 178,
   "id": "91516f74",
   "metadata": {},
   "outputs": [
    {
     "name": "stdout",
     "output_type": "stream",
     "text": [
      "[64.42, 24.63, 16.44, 23.11, 37.46, 41.38, 57.95]\n"
     ]
    }
   ],
   "source": [
    "#To find the Margin of Error\n",
    "y_err_list=[]\n",
    "for key in ci_dict.keys():\n",
    "    y_error_list=ci_dict[key][0]\n",
    "    y_error=round((y_error_list[1]-y_error_list[0])/2,2)\n",
    "    y_err_list.append(y_error)\n",
    "print(y_err_list)\n"
   ]
  },
  {
   "cell_type": "code",
   "execution_count": 198,
   "id": "19e0113b",
   "metadata": {},
   "outputs": [
    {
     "data": {
      "image/png": "[encoded data removed]",
      "text/plain": [
       "<Figure size 1008x576 with 1 Axes>"
      ]
     },
     "metadata": {
      "needs_background": "light"
     },
     "output_type": "display_data"
    }
   ],
   "source": [
    "plt.errorbar(x=[\"0-17\",\"18-25\",\"26-35\",\"36-45\",\"46-50\",\"51-55\",\"55+\"],\n",
    "             y=bs_mean_list,\n",
    "             yerr=y_err_list,\n",
    "             fmt='o'\n",
    "            )\n",
    "plt.xlabel(\"Age Groups\")\n",
    "plt.ylabel(\"Mean Purchases\")\n",
    "plt.title(\"90% CI for Different Age Groups\")\n",
    "plt.grid()"
   ]
  },
  {
   "cell_type": "code",
   "execution_count": 199,
   "id": "61a1a485",
   "metadata": {},
   "outputs": [
    {
     "name": "stdout",
     "output_type": "stream",
     "text": [
      "[78.0, 28.7, 18.19, 28.34, 44.92, 50.5, 72.89]\n"
     ]
    }
   ],
   "source": [
    "y_err_list=[]\n",
    "for key in ci_dict.keys():\n",
    "    y_error_list=ci_dict[key][1]\n",
    "    y_error=round((y_error_list[1]-y_error_list[0])/2,2)\n",
    "    y_err_list.append(y_error)\n",
    "print(y_err_list)"
   ]
  },
  {
   "cell_type": "code",
   "execution_count": 200,
   "id": "8d35ee72",
   "metadata": {},
   "outputs": [
    {
     "data": {
      "image/png": "[encoded data removed]",
      "text/plain": [
       "<Figure size 1008x576 with 1 Axes>"
      ]
     },
     "metadata": {
      "needs_background": "light"
     },
     "output_type": "display_data"
    }
   ],
   "source": [
    "plt.errorbar(x=[\"0-17\",\"18-25\",\"26-35\",\"36-45\",\"46-50\",\"51-55\",\"55+\"],\n",
    "             y=bs_mean_list,\n",
    "             yerr=y_err_list,\n",
    "             fmt='o'\n",
    "            )\n",
    "plt.xlabel(\"Age Groups\")\n",
    "plt.ylabel(\"Mean Purchases\")\n",
    "plt.title(\"95% CI for Different Age Groups\")\n",
    "plt.grid()"
   ]
  },
  {
   "cell_type": "code",
   "execution_count": 201,
   "id": "6042734b",
   "metadata": {},
   "outputs": [
    {
     "name": "stdout",
     "output_type": "stream",
     "text": [
      "[105.03, 36.63, 22.9, 39.47, 63.31, 66.46, 88.98]\n"
     ]
    }
   ],
   "source": [
    "y_err_list=[]\n",
    "for key in ci_dict.keys():\n",
    "    y_error_list=ci_dict[key][2]\n",
    "    y_error=round((y_error_list[1]-y_error_list[0])/2,2)\n",
    "    y_err_list.append(y_error)\n",
    "print(y_err_list)"
   ]
  },
  {
   "cell_type": "code",
   "execution_count": 202,
   "id": "19b775be",
   "metadata": {},
   "outputs": [
    {
     "data": {
      "image/png": "[encoded data removed]",
      "text/plain": [
       "<Figure size 1008x576 with 1 Axes>"
      ]
     },
     "metadata": {
      "needs_background": "light"
     },
     "output_type": "display_data"
    }
   ],
   "source": [
    "plt.errorbar(x=[\"0-17\",\"18-25\",\"26-35\",\"36-45\",\"46-50\",\"51-55\",\"55+\"],\n",
    "             y=bs_mean_list,\n",
    "             yerr=y_err_list,\n",
    "             fmt='o'\n",
    "            )\n",
    "plt.xlabel(\"Age Groups\")\n",
    "plt.ylabel(\"Mean Purchases\")\n",
    "plt.title(\"99% CI for Different Age Groups\")\n",
    "plt.grid()"
   ]
  },
  {
   "cell_type": "markdown",
   "id": "e7cb137c",
   "metadata": {},
   "source": [
    "## **Observation -Expect for age groups 0-17 and 51-55 all the others are having overlapping Confidence Intervals.So a significant distinction cannot be made for these groups.The groups with significant difference is 0-17 and 51-55 age groups.So how the business can be improved here?**"
   ]
  },
  {
   "cell_type": "code",
   "execution_count": 208,
   "id": "ca35021f",
   "metadata": {},
   "outputs": [],
   "source": [
    "df_fil=df.loc[(df[\"Age\"]=='0-17')|(df[\"Age\"]=='51-55')]"
   ]
  },
  {
   "cell_type": "code",
   "execution_count": 228,
   "id": "3ee5ff1e",
   "metadata": {},
   "outputs": [
    {
     "data": {
      "text/html": [
       "<div>\n",
       "<style scoped>\n",
       "    .dataframe tbody tr th:only-of-type {\n",
       "        vertical-align: middle;\n",
       "    }\n",
       "\n",
       "    .dataframe tbody tr th {\n",
       "        vertical-align: top;\n",
       "    }\n",
       "\n",
       "    .dataframe thead th {\n",
       "        text-align: right;\n",
       "    }\n",
       "</style>\n",
       "<table border=\"1\" class=\"dataframe\">\n",
       "  <thead>\n",
       "    <tr style=\"text-align: right;\">\n",
       "      <th></th>\n",
       "      <th></th>\n",
       "      <th>Purchase(in Millions)</th>\n",
       "    </tr>\n",
       "    <tr>\n",
       "      <th>Age</th>\n",
       "      <th>Product_Category</th>\n",
       "      <th></th>\n",
       "    </tr>\n",
       "  </thead>\n",
       "  <tbody>\n",
       "    <tr>\n",
       "      <th rowspan=\"20\" valign=\"top\">0-17</th>\n",
       "      <th>1</th>\n",
       "      <td>48.783247</td>\n",
       "    </tr>\n",
       "    <tr>\n",
       "      <th>2</th>\n",
       "      <td>8.735846</td>\n",
       "    </tr>\n",
       "    <tr>\n",
       "      <th>3</th>\n",
       "      <td>11.317806</td>\n",
       "    </tr>\n",
       "    <tr>\n",
       "      <th>4</th>\n",
       "      <td>1.701452</td>\n",
       "    </tr>\n",
       "    <tr>\n",
       "      <th>5</th>\n",
       "      <td>27.059712</td>\n",
       "    </tr>\n",
       "    <tr>\n",
       "      <th>6</th>\n",
       "      <td>6.377154</td>\n",
       "    </tr>\n",
       "    <tr>\n",
       "      <th>7</th>\n",
       "      <td>0.821014</td>\n",
       "    </tr>\n",
       "    <tr>\n",
       "      <th>8</th>\n",
       "      <td>17.234789</td>\n",
       "    </tr>\n",
       "    <tr>\n",
       "      <th>9</th>\n",
       "      <td>0.223799</td>\n",
       "    </tr>\n",
       "    <tr>\n",
       "      <th>10</th>\n",
       "      <td>0.930677</td>\n",
       "    </tr>\n",
       "    <tr>\n",
       "      <th>11</th>\n",
       "      <td>3.558043</td>\n",
       "    </tr>\n",
       "    <tr>\n",
       "      <th>12</th>\n",
       "      <td>0.177964</td>\n",
       "    </tr>\n",
       "    <tr>\n",
       "      <th>13</th>\n",
       "      <td>0.082573</td>\n",
       "    </tr>\n",
       "    <tr>\n",
       "      <th>14</th>\n",
       "      <td>0.512227</td>\n",
       "    </tr>\n",
       "    <tr>\n",
       "      <th>15</th>\n",
       "      <td>2.256570</td>\n",
       "    </tr>\n",
       "    <tr>\n",
       "      <th>16</th>\n",
       "      <td>3.351633</td>\n",
       "    </tr>\n",
       "    <tr>\n",
       "      <th>17</th>\n",
       "      <td>0.060863</td>\n",
       "    </tr>\n",
       "    <tr>\n",
       "      <th>18</th>\n",
       "      <td>0.074703</td>\n",
       "    </tr>\n",
       "    <tr>\n",
       "      <th>19</th>\n",
       "      <td>0.002271</td>\n",
       "    </tr>\n",
       "    <tr>\n",
       "      <th>20</th>\n",
       "      <td>0.033121</td>\n",
       "    </tr>\n",
       "    <tr>\n",
       "      <th rowspan=\"20\" valign=\"top\">51-55</th>\n",
       "      <th>1</th>\n",
       "      <td>127.824120</td>\n",
       "    </tr>\n",
       "    <tr>\n",
       "      <th>2</th>\n",
       "      <td>21.196838</td>\n",
       "    </tr>\n",
       "    <tr>\n",
       "      <th>3</th>\n",
       "      <td>9.542540</td>\n",
       "    </tr>\n",
       "    <tr>\n",
       "      <th>4</th>\n",
       "      <td>1.658375</td>\n",
       "    </tr>\n",
       "    <tr>\n",
       "      <th>5</th>\n",
       "      <td>64.326214</td>\n",
       "    </tr>\n",
       "    <tr>\n",
       "      <th>6</th>\n",
       "      <td>23.529307</td>\n",
       "    </tr>\n",
       "    <tr>\n",
       "      <th>7</th>\n",
       "      <td>4.356259</td>\n",
       "    </tr>\n",
       "    <tr>\n",
       "      <th>8</th>\n",
       "      <td>72.591375</td>\n",
       "    </tr>\n",
       "    <tr>\n",
       "      <th>9</th>\n",
       "      <td>0.330243</td>\n",
       "    </tr>\n",
       "    <tr>\n",
       "      <th>10</th>\n",
       "      <td>4.214537</td>\n",
       "    </tr>\n",
       "    <tr>\n",
       "      <th>11</th>\n",
       "      <td>6.748072</td>\n",
       "    </tr>\n",
       "    <tr>\n",
       "      <th>12</th>\n",
       "      <td>0.597719</td>\n",
       "    </tr>\n",
       "    <tr>\n",
       "      <th>13</th>\n",
       "      <td>0.368453</td>\n",
       "    </tr>\n",
       "    <tr>\n",
       "      <th>14</th>\n",
       "      <td>2.180826</td>\n",
       "    </tr>\n",
       "    <tr>\n",
       "      <th>15</th>\n",
       "      <td>7.451186</td>\n",
       "    </tr>\n",
       "    <tr>\n",
       "      <th>16</th>\n",
       "      <td>10.503288</td>\n",
       "    </tr>\n",
       "    <tr>\n",
       "      <th>17</th>\n",
       "      <td>1.127567</td>\n",
       "    </tr>\n",
       "    <tr>\n",
       "      <th>18</th>\n",
       "      <td>1.254082</td>\n",
       "    </tr>\n",
       "    <tr>\n",
       "      <th>19</th>\n",
       "      <td>0.005080</td>\n",
       "    </tr>\n",
       "    <tr>\n",
       "      <th>20</th>\n",
       "      <td>0.072360</td>\n",
       "    </tr>\n",
       "  </tbody>\n",
       "</table>\n",
       "</div>"
      ],
      "text/plain": [
       "                        Purchase(in Millions)\n",
       "Age   Product_Category                       \n",
       "0-17  1                             48.783247\n",
       "      2                              8.735846\n",
       "      3                             11.317806\n",
       "      4                              1.701452\n",
       "      5                             27.059712\n",
       "      6                              6.377154\n",
       "      7                              0.821014\n",
       "      8                             17.234789\n",
       "      9                              0.223799\n",
       "      10                             0.930677\n",
       "      11                             3.558043\n",
       "      12                             0.177964\n",
       "      13                             0.082573\n",
       "      14                             0.512227\n",
       "      15                             2.256570\n",
       "      16                             3.351633\n",
       "      17                             0.060863\n",
       "      18                             0.074703\n",
       "      19                             0.002271\n",
       "      20                             0.033121\n",
       "51-55 1                            127.824120\n",
       "      2                             21.196838\n",
       "      3                              9.542540\n",
       "      4                              1.658375\n",
       "      5                             64.326214\n",
       "      6                             23.529307\n",
       "      7                              4.356259\n",
       "      8                             72.591375\n",
       "      9                              0.330243\n",
       "      10                             4.214537\n",
       "      11                             6.748072\n",
       "      12                             0.597719\n",
       "      13                             0.368453\n",
       "      14                             2.180826\n",
       "      15                             7.451186\n",
       "      16                            10.503288\n",
       "      17                             1.127567\n",
       "      18                             1.254082\n",
       "      19                             0.005080\n",
       "      20                             0.072360"
      ]
     },
     "execution_count": 228,
     "metadata": {},
     "output_type": "execute_result"
    }
   ],
   "source": [
    "x=(df_fil.groupby([\"Age\",\"Product_Category\"])[\"Purchase\"].sum()/1000000).to_frame()\n",
    "x.rename(columns={\"Purchase\":\"Purchase(in Millions)\"},inplace=True)\n",
    "\n",
    "x\n"
   ]
  },
  {
   "cell_type": "markdown",
   "id": "e12e29dc",
   "metadata": {},
   "source": [
    "## **Recommendation-For age groups 0-17  the larger sales are in product categories 1,3,5, 8.And for age group 51-55 its for categories 1,2,3,5,6,8,16.Hence business can be improved for these categories for these age groups**"
   ]
  },
  {
   "cell_type": "code",
   "execution_count": 229,
   "id": "8d3f54a9",
   "metadata": {},
   "outputs": [
    {
     "data": {
      "text/html": [
       "<div>\n",
       "<style scoped>\n",
       "    .dataframe tbody tr th:only-of-type {\n",
       "        vertical-align: middle;\n",
       "    }\n",
       "\n",
       "    .dataframe tbody tr th {\n",
       "        vertical-align: top;\n",
       "    }\n",
       "\n",
       "    .dataframe thead th {\n",
       "        text-align: right;\n",
       "    }\n",
       "</style>\n",
       "<table border=\"1\" class=\"dataframe\">\n",
       "  <thead>\n",
       "    <tr style=\"text-align: right;\">\n",
       "      <th></th>\n",
       "      <th></th>\n",
       "      <th>Purchase(in Millions)</th>\n",
       "    </tr>\n",
       "    <tr>\n",
       "      <th>Age</th>\n",
       "      <th>City_Category</th>\n",
       "      <th></th>\n",
       "    </tr>\n",
       "  </thead>\n",
       "  <tbody>\n",
       "    <tr>\n",
       "      <th rowspan=\"3\" valign=\"top\">0-17</th>\n",
       "      <th>A</th>\n",
       "      <td>21.474755</td>\n",
       "    </tr>\n",
       "    <tr>\n",
       "      <th>B</th>\n",
       "      <td>47.725963</td>\n",
       "    </tr>\n",
       "    <tr>\n",
       "      <th>C</th>\n",
       "      <td>64.094746</td>\n",
       "    </tr>\n",
       "    <tr>\n",
       "      <th rowspan=\"3\" valign=\"top\">51-55</th>\n",
       "      <th>A</th>\n",
       "      <td>56.967864</td>\n",
       "    </tr>\n",
       "    <tr>\n",
       "      <th>B</th>\n",
       "      <td>162.551363</td>\n",
       "    </tr>\n",
       "    <tr>\n",
       "      <th>C</th>\n",
       "      <td>140.359214</td>\n",
       "    </tr>\n",
       "  </tbody>\n",
       "</table>\n",
       "</div>"
      ],
      "text/plain": [
       "                     Purchase(in Millions)\n",
       "Age   City_Category                       \n",
       "0-17  A                          21.474755\n",
       "      B                          47.725963\n",
       "      C                          64.094746\n",
       "51-55 A                          56.967864\n",
       "      B                         162.551363\n",
       "      C                         140.359214"
      ]
     },
     "execution_count": 229,
     "metadata": {},
     "output_type": "execute_result"
    }
   ],
   "source": [
    "y=(df_fil.groupby([\"Age\",\"City_Category\"])[\"Purchase\"].sum()/1000000).to_frame()\n",
    "y.rename(columns={\"Purchase\":\"Purchase(in Millions)\"},inplace=True)\n",
    "\n",
    "y\n"
   ]
  },
  {
   "cell_type": "markdown",
   "id": "a9489893",
   "metadata": {},
   "source": [
    "## **Recommendation-For both 0-17 and 51-55 age groups the sales are higher in cities B and C .Hence opening more stores in these cities can improve the business**\n"
   ]
  }
 ],
 "metadata": {
  "kernelspec": {
   "display_name": "Python 3 (ipykernel)",
   "language": "python",
   "name": "python3"
  },
  "language_info": {
   "codemirror_mode": {
    "name": "ipython",
    "version": 3
   },
   "file_extension": ".py",
   "mimetype": "text/x-python",
   "name": "python",
   "nbconvert_exporter": "python",
   "pygments_lexer": "ipython3",
   "version": "3.10.2"
  }
 },
 "nbformat": 4,
 "nbformat_minor": 5
}
